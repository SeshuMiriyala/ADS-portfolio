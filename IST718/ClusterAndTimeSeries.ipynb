{
 "cells": [
  {
   "cell_type": "code",
   "execution_count": 1,
   "metadata": {},
   "outputs": [],
   "source": [
    "import pandas as pd\n",
    "import numpy as np\n",
    "import seaborn as sns\n",
    "import matplotlib.pyplot as plt\n",
    "import mapclassify as mc\n",
    "import plotly.express as px\n",
    "import logging\n",
    "logging.getLogger('fbprophet').setLevel(logging.ERROR)\n",
    "logging.getLogger('fbprophet.diagnostics').setLevel(logging.ERROR)\n",
    "import warnings\n",
    "warnings.filterwarnings(\"ignore\")\n",
    "from prophet import Prophet\n",
    "from prophet.diagnostics import cross_validation, performance_metrics\n",
    "from sklearn.cluster import KMeans"
   ]
  },
  {
   "cell_type": "code",
   "execution_count": 2,
   "metadata": {},
   "outputs": [],
   "source": [
    "stations_df = pd.read_excel('data/2018-APTA-Infrastructure-Database.xlsx', sheet_name=\"Station Data\")\n",
    "raw_df = pd.read_excel('data/February 2022 Raw Database.xlsx', sheet_name = 'MASTER')\n",
    "rail_df = pd.read_excel('data/2018-APTA-Infrastructure-Database.xlsx', sheet_name=\"Rail Lines\")\n",
    "bus_df = pd.read_excel('data/2018-APTA-Infrastructure-Database.xlsx', sheet_name=\"BRT lines\")\n",
    "trips_df = pd.read_excel('data/February 2022 Raw database.xlsx', sheet_name=\"UPT\")\n",
    "trips_df = trips_df[trips_df['Active'] == 'Active'].groupby(['5 digit NTD ID', 'Agency']).sum().reset_index()"
   ]
  },
  {
   "cell_type": "code",
   "execution_count": 3,
   "metadata": {},
   "outputs": [
    {
     "data": {
      "text/html": [
       "<div>\n",
       "<style scoped>\n",
       "    .dataframe tbody tr th:only-of-type {\n",
       "        vertical-align: middle;\n",
       "    }\n",
       "\n",
       "    .dataframe tbody tr th {\n",
       "        vertical-align: top;\n",
       "    }\n",
       "\n",
       "    .dataframe thead th {\n",
       "        text-align: right;\n",
       "    }\n",
       "</style>\n",
       "<table border=\"1\" class=\"dataframe\">\n",
       "  <thead>\n",
       "    <tr style=\"text-align: right;\">\n",
       "      <th></th>\n",
       "      <th>Organization Name</th>\n",
       "      <th>Organization Short Name</th>\n",
       "      <th>City</th>\n",
       "      <th>State</th>\n",
       "      <th>Country</th>\n",
       "      <th>Member ID</th>\n",
       "      <th>Type of Facility</th>\n",
       "      <th>Number of Stations</th>\n",
       "      <th>Number of Bus/Rail Stops</th>\n",
       "    </tr>\n",
       "  </thead>\n",
       "  <tbody>\n",
       "    <tr>\n",
       "      <th>0</th>\n",
       "      <td>City of Phoenix Public Transit Department</td>\n",
       "      <td>City of Phoenix PTD</td>\n",
       "      <td>Phoenix</td>\n",
       "      <td>AZ</td>\n",
       "      <td>UNITED STATES</td>\n",
       "      <td>6</td>\n",
       "      <td>BUS</td>\n",
       "      <td>15</td>\n",
       "      <td>3994</td>\n",
       "    </tr>\n",
       "    <tr>\n",
       "      <th>1</th>\n",
       "      <td>City of Phoenix Public Transit Department</td>\n",
       "      <td>City of Phoenix PTD</td>\n",
       "      <td>Phoenix</td>\n",
       "      <td>AZ</td>\n",
       "      <td>UNITED STATES</td>\n",
       "      <td>6</td>\n",
       "      <td>RAIL</td>\n",
       "      <td>35</td>\n",
       "      <td>0</td>\n",
       "    </tr>\n",
       "    <tr>\n",
       "      <th>2</th>\n",
       "      <td>City of Tucson Mass Transit System</td>\n",
       "      <td>City of Tucson MTS</td>\n",
       "      <td>Tucson</td>\n",
       "      <td>AZ</td>\n",
       "      <td>UNITED STATES</td>\n",
       "      <td>7</td>\n",
       "      <td>BUS</td>\n",
       "      <td>23</td>\n",
       "      <td>2291</td>\n",
       "    </tr>\n",
       "    <tr>\n",
       "      <th>3</th>\n",
       "      <td>Rock Region METRO</td>\n",
       "      <td>Central Arkansas TA</td>\n",
       "      <td>Little Rock</td>\n",
       "      <td>AR</td>\n",
       "      <td>UNITED STATES</td>\n",
       "      <td>8</td>\n",
       "      <td>BUS</td>\n",
       "      <td>1</td>\n",
       "      <td>1548</td>\n",
       "    </tr>\n",
       "    <tr>\n",
       "      <th>4</th>\n",
       "      <td>Rock Region METRO</td>\n",
       "      <td>Central Arkansas TA</td>\n",
       "      <td>Little Rock</td>\n",
       "      <td>AR</td>\n",
       "      <td>UNITED STATES</td>\n",
       "      <td>8</td>\n",
       "      <td>RAIL</td>\n",
       "      <td>0</td>\n",
       "      <td>15</td>\n",
       "    </tr>\n",
       "    <tr>\n",
       "      <th>...</th>\n",
       "      <td>...</td>\n",
       "      <td>...</td>\n",
       "      <td>...</td>\n",
       "      <td>...</td>\n",
       "      <td>...</td>\n",
       "      <td>...</td>\n",
       "      <td>...</td>\n",
       "      <td>...</td>\n",
       "      <td>...</td>\n",
       "    </tr>\n",
       "    <tr>\n",
       "      <th>496</th>\n",
       "      <td>Bow Valley Regional Transit Services Commission</td>\n",
       "      <td>Roam Transit</td>\n",
       "      <td>Banff</td>\n",
       "      <td>AB</td>\n",
       "      <td>CANADA</td>\n",
       "      <td>98842</td>\n",
       "      <td>BUS</td>\n",
       "      <td>1</td>\n",
       "      <td>80</td>\n",
       "    </tr>\n",
       "    <tr>\n",
       "      <th>497</th>\n",
       "      <td>Link Transit (City of Burlington NC)</td>\n",
       "      <td>Link Transit</td>\n",
       "      <td>Burlington</td>\n",
       "      <td>NC</td>\n",
       "      <td>UNITED STATES</td>\n",
       "      <td>105173</td>\n",
       "      <td>BUS</td>\n",
       "      <td>1</td>\n",
       "      <td>150</td>\n",
       "    </tr>\n",
       "    <tr>\n",
       "      <th>498</th>\n",
       "      <td>University of California San Francisco</td>\n",
       "      <td>NaN</td>\n",
       "      <td>San Francisco</td>\n",
       "      <td>CA</td>\n",
       "      <td>UNITED STATES</td>\n",
       "      <td>119308</td>\n",
       "      <td>BUS</td>\n",
       "      <td>0</td>\n",
       "      <td>0</td>\n",
       "    </tr>\n",
       "    <tr>\n",
       "      <th>499</th>\n",
       "      <td>Strathcona County Transit</td>\n",
       "      <td>Strathcona County Transit</td>\n",
       "      <td>Sherwood Park</td>\n",
       "      <td>AB</td>\n",
       "      <td>CANADA</td>\n",
       "      <td>131921</td>\n",
       "      <td>BUS</td>\n",
       "      <td>2</td>\n",
       "      <td>320</td>\n",
       "    </tr>\n",
       "    <tr>\n",
       "      <th>500</th>\n",
       "      <td>City of Murfreesboro</td>\n",
       "      <td>Rover Bus</td>\n",
       "      <td>Murfreesboro</td>\n",
       "      <td>TN</td>\n",
       "      <td>UNITED STATES</td>\n",
       "      <td>156364</td>\n",
       "      <td>BUS</td>\n",
       "      <td>1</td>\n",
       "      <td>18</td>\n",
       "    </tr>\n",
       "  </tbody>\n",
       "</table>\n",
       "<p>501 rows × 9 columns</p>\n",
       "</div>"
      ],
      "text/plain": [
       "                                   Organization Name  \\\n",
       "0          City of Phoenix Public Transit Department   \n",
       "1          City of Phoenix Public Transit Department   \n",
       "2                 City of Tucson Mass Transit System   \n",
       "3                                  Rock Region METRO   \n",
       "4                                  Rock Region METRO   \n",
       "..                                               ...   \n",
       "496  Bow Valley Regional Transit Services Commission   \n",
       "497             Link Transit (City of Burlington NC)   \n",
       "498           University of California San Francisco   \n",
       "499                        Strathcona County Transit   \n",
       "500                             City of Murfreesboro   \n",
       "\n",
       "       Organization Short Name           City State        Country  Member ID  \\\n",
       "0          City of Phoenix PTD        Phoenix    AZ  UNITED STATES          6   \n",
       "1          City of Phoenix PTD        Phoenix    AZ  UNITED STATES          6   \n",
       "2           City of Tucson MTS         Tucson    AZ  UNITED STATES          7   \n",
       "3          Central Arkansas TA    Little Rock    AR  UNITED STATES          8   \n",
       "4          Central Arkansas TA    Little Rock    AR  UNITED STATES          8   \n",
       "..                         ...            ...   ...            ...        ...   \n",
       "496               Roam Transit          Banff    AB         CANADA      98842   \n",
       "497               Link Transit     Burlington    NC  UNITED STATES     105173   \n",
       "498                        NaN  San Francisco    CA  UNITED STATES     119308   \n",
       "499  Strathcona County Transit  Sherwood Park    AB         CANADA     131921   \n",
       "500                  Rover Bus   Murfreesboro    TN  UNITED STATES     156364   \n",
       "\n",
       "    Type of Facility  Number of Stations  Number of Bus/Rail Stops  \n",
       "0                BUS                  15                      3994  \n",
       "1               RAIL                  35                         0  \n",
       "2                BUS                  23                      2291  \n",
       "3                BUS                   1                      1548  \n",
       "4               RAIL                   0                        15  \n",
       "..               ...                 ...                       ...  \n",
       "496              BUS                   1                        80  \n",
       "497              BUS                   1                       150  \n",
       "498              BUS                   0                         0  \n",
       "499              BUS                   2                       320  \n",
       "500              BUS                   1                        18  \n",
       "\n",
       "[501 rows x 9 columns]"
      ]
     },
     "execution_count": 3,
     "metadata": {},
     "output_type": "execute_result"
    }
   ],
   "source": [
    "station_cols = [\"Organization Name\", \"Organization Short Name\",\t\"City\",\t\"State\",\t\"Country\",\n",
    "                \"Member ID\",\t\"Type of Facility\",\t\"Number of Stations\", \"Number of Bus/Rail Stops\"]\n",
    "station_df_short = stations_df[station_cols]\n",
    "station_df_short"
   ]
  },
  {
   "cell_type": "code",
   "execution_count": 4,
   "metadata": {},
   "outputs": [
    {
     "data": {
      "text/html": [
       "<div>\n",
       "<style scoped>\n",
       "    .dataframe tbody tr th:only-of-type {\n",
       "        vertical-align: middle;\n",
       "    }\n",
       "\n",
       "    .dataframe tbody tr th {\n",
       "        vertical-align: top;\n",
       "    }\n",
       "\n",
       "    .dataframe thead th {\n",
       "        text-align: right;\n",
       "    }\n",
       "</style>\n",
       "<table border=\"1\" class=\"dataframe\">\n",
       "  <thead>\n",
       "    <tr style=\"text-align: right;\">\n",
       "      <th></th>\n",
       "      <th>5 digit NTD ID</th>\n",
       "      <th>Agency</th>\n",
       "      <th>Mode</th>\n",
       "      <th>HQ City</th>\n",
       "      <th>HQ State</th>\n",
       "      <th>UZA</th>\n",
       "      <th>UZA Name</th>\n",
       "      <th>UZA Area SQ Miles</th>\n",
       "      <th>UZA Population</th>\n",
       "      <th>Service Area SQ Miles</th>\n",
       "      <th>Service Area Population</th>\n",
       "      <th>Passenger Miles FY</th>\n",
       "      <th>Unlinked Passenger Trips FY</th>\n",
       "      <th>Average Trip Length FY</th>\n",
       "    </tr>\n",
       "  </thead>\n",
       "  <tbody>\n",
       "    <tr>\n",
       "      <th>0</th>\n",
       "      <td>1</td>\n",
       "      <td>King County Department of Metro Transit</td>\n",
       "      <td>DR</td>\n",
       "      <td>SEATTLE</td>\n",
       "      <td>WA</td>\n",
       "      <td>14</td>\n",
       "      <td>Seattle, WA</td>\n",
       "      <td>1010.0</td>\n",
       "      <td>3059393.0</td>\n",
       "      <td>2134.0</td>\n",
       "      <td>2260800.0</td>\n",
       "      <td>4551838.0</td>\n",
       "      <td>455391.0</td>\n",
       "      <td>9.9955</td>\n",
       "    </tr>\n",
       "    <tr>\n",
       "      <th>1</th>\n",
       "      <td>1</td>\n",
       "      <td>King County Department of Metro Transit</td>\n",
       "      <td>DR</td>\n",
       "      <td>SEATTLE</td>\n",
       "      <td>WA</td>\n",
       "      <td>14</td>\n",
       "      <td>Seattle, WA</td>\n",
       "      <td>1010.0</td>\n",
       "      <td>3059393.0</td>\n",
       "      <td>2134.0</td>\n",
       "      <td>2260800.0</td>\n",
       "      <td>1003831.0</td>\n",
       "      <td>86460.0</td>\n",
       "      <td>11.6104</td>\n",
       "    </tr>\n",
       "    <tr>\n",
       "      <th>2</th>\n",
       "      <td>1</td>\n",
       "      <td>King County Department of Metro Transit</td>\n",
       "      <td>FB</td>\n",
       "      <td>SEATTLE</td>\n",
       "      <td>WA</td>\n",
       "      <td>14</td>\n",
       "      <td>Seattle, WA</td>\n",
       "      <td>1010.0</td>\n",
       "      <td>3059393.0</td>\n",
       "      <td>2134.0</td>\n",
       "      <td>2260800.0</td>\n",
       "      <td>896100.0</td>\n",
       "      <td>146930.0</td>\n",
       "      <td>6.0988</td>\n",
       "    </tr>\n",
       "    <tr>\n",
       "      <th>3</th>\n",
       "      <td>1</td>\n",
       "      <td>King County Department of Metro Transit</td>\n",
       "      <td>LR</td>\n",
       "      <td>SEATTLE</td>\n",
       "      <td>WA</td>\n",
       "      <td>14</td>\n",
       "      <td>Seattle, WA</td>\n",
       "      <td>1010.0</td>\n",
       "      <td>3059393.0</td>\n",
       "      <td>2134.0</td>\n",
       "      <td>2260800.0</td>\n",
       "      <td>NaN</td>\n",
       "      <td>NaN</td>\n",
       "      <td>NaN</td>\n",
       "    </tr>\n",
       "    <tr>\n",
       "      <th>4</th>\n",
       "      <td>1</td>\n",
       "      <td>King County Department of Metro Transit</td>\n",
       "      <td>MB</td>\n",
       "      <td>SEATTLE</td>\n",
       "      <td>WA</td>\n",
       "      <td>14</td>\n",
       "      <td>Seattle, WA</td>\n",
       "      <td>1010.0</td>\n",
       "      <td>3059393.0</td>\n",
       "      <td>2134.0</td>\n",
       "      <td>2260800.0</td>\n",
       "      <td>210354213.0</td>\n",
       "      <td>48865809.0</td>\n",
       "      <td>4.3047</td>\n",
       "    </tr>\n",
       "    <tr>\n",
       "      <th>...</th>\n",
       "      <td>...</td>\n",
       "      <td>...</td>\n",
       "      <td>...</td>\n",
       "      <td>...</td>\n",
       "      <td>...</td>\n",
       "      <td>...</td>\n",
       "      <td>...</td>\n",
       "      <td>...</td>\n",
       "      <td>...</td>\n",
       "      <td>...</td>\n",
       "      <td>...</td>\n",
       "      <td>...</td>\n",
       "      <td>...</td>\n",
       "      <td>...</td>\n",
       "    </tr>\n",
       "    <tr>\n",
       "      <th>2245</th>\n",
       "      <td>99423</td>\n",
       "      <td>City of Glendale</td>\n",
       "      <td>MB</td>\n",
       "      <td>GLENDALE</td>\n",
       "      <td>CA</td>\n",
       "      <td>2</td>\n",
       "      <td>Los Angeles-Long Beach-Anaheim, CA</td>\n",
       "      <td>1736.0</td>\n",
       "      <td>12150996.0</td>\n",
       "      <td>39.0</td>\n",
       "      <td>223467.0</td>\n",
       "      <td>2278590.0</td>\n",
       "      <td>1040034.0</td>\n",
       "      <td>2.1909</td>\n",
       "    </tr>\n",
       "    <tr>\n",
       "      <th>2246</th>\n",
       "      <td>99424</td>\n",
       "      <td>City of Pasadena</td>\n",
       "      <td>DR</td>\n",
       "      <td>Pasadena</td>\n",
       "      <td>CA</td>\n",
       "      <td>2</td>\n",
       "      <td>Los Angeles-Long Beach-Anaheim, CA</td>\n",
       "      <td>1736.0</td>\n",
       "      <td>12150996.0</td>\n",
       "      <td>23.0</td>\n",
       "      <td>141371.0</td>\n",
       "      <td>235921.0</td>\n",
       "      <td>68517.0</td>\n",
       "      <td>3.4432</td>\n",
       "    </tr>\n",
       "    <tr>\n",
       "      <th>2247</th>\n",
       "      <td>99424</td>\n",
       "      <td>City of Pasadena</td>\n",
       "      <td>MB</td>\n",
       "      <td>Pasadena</td>\n",
       "      <td>CA</td>\n",
       "      <td>2</td>\n",
       "      <td>Los Angeles-Long Beach-Anaheim, CA</td>\n",
       "      <td>1736.0</td>\n",
       "      <td>12150996.0</td>\n",
       "      <td>23.0</td>\n",
       "      <td>141371.0</td>\n",
       "      <td>2439762.0</td>\n",
       "      <td>1305756.0</td>\n",
       "      <td>1.8685</td>\n",
       "    </tr>\n",
       "    <tr>\n",
       "      <th>2248</th>\n",
       "      <td>99425</td>\n",
       "      <td>Pomona Valley Transportation Authority</td>\n",
       "      <td>DR</td>\n",
       "      <td>LA VERNE</td>\n",
       "      <td>CA</td>\n",
       "      <td>2</td>\n",
       "      <td>Los Angeles-Long Beach-Anaheim, CA</td>\n",
       "      <td>1736.0</td>\n",
       "      <td>12150996.0</td>\n",
       "      <td>61.0</td>\n",
       "      <td>252880.0</td>\n",
       "      <td>279733.0</td>\n",
       "      <td>62210.0</td>\n",
       "      <td>4.4966</td>\n",
       "    </tr>\n",
       "    <tr>\n",
       "      <th>2249</th>\n",
       "      <td>99425</td>\n",
       "      <td>Pomona Valley Transportation Authority</td>\n",
       "      <td>DR</td>\n",
       "      <td>LA VERNE</td>\n",
       "      <td>CA</td>\n",
       "      <td>2</td>\n",
       "      <td>Los Angeles-Long Beach-Anaheim, CA</td>\n",
       "      <td>1736.0</td>\n",
       "      <td>12150996.0</td>\n",
       "      <td>61.0</td>\n",
       "      <td>252880.0</td>\n",
       "      <td>244986.0</td>\n",
       "      <td>55105.0</td>\n",
       "      <td>4.4458</td>\n",
       "    </tr>\n",
       "  </tbody>\n",
       "</table>\n",
       "<p>2250 rows × 14 columns</p>\n",
       "</div>"
      ],
      "text/plain": [
       "      5 digit NTD ID                                   Agency Mode   HQ City  \\\n",
       "0                  1  King County Department of Metro Transit   DR   SEATTLE   \n",
       "1                  1  King County Department of Metro Transit   DR   SEATTLE   \n",
       "2                  1  King County Department of Metro Transit   FB   SEATTLE   \n",
       "3                  1  King County Department of Metro Transit   LR   SEATTLE   \n",
       "4                  1  King County Department of Metro Transit   MB   SEATTLE   \n",
       "...              ...                                      ...  ...       ...   \n",
       "2245           99423                         City of Glendale   MB  GLENDALE   \n",
       "2246           99424                         City of Pasadena   DR  Pasadena   \n",
       "2247           99424                         City of Pasadena   MB  Pasadena   \n",
       "2248           99425   Pomona Valley Transportation Authority   DR  LA VERNE   \n",
       "2249           99425   Pomona Valley Transportation Authority   DR  LA VERNE   \n",
       "\n",
       "     HQ State  UZA                            UZA Name  UZA Area SQ Miles  \\\n",
       "0          WA   14                         Seattle, WA             1010.0   \n",
       "1          WA   14                         Seattle, WA             1010.0   \n",
       "2          WA   14                         Seattle, WA             1010.0   \n",
       "3          WA   14                         Seattle, WA             1010.0   \n",
       "4          WA   14                         Seattle, WA             1010.0   \n",
       "...       ...  ...                                 ...                ...   \n",
       "2245       CA    2  Los Angeles-Long Beach-Anaheim, CA             1736.0   \n",
       "2246       CA    2  Los Angeles-Long Beach-Anaheim, CA             1736.0   \n",
       "2247       CA    2  Los Angeles-Long Beach-Anaheim, CA             1736.0   \n",
       "2248       CA    2  Los Angeles-Long Beach-Anaheim, CA             1736.0   \n",
       "2249       CA    2  Los Angeles-Long Beach-Anaheim, CA             1736.0   \n",
       "\n",
       "      UZA Population  Service Area SQ Miles  Service Area Population  \\\n",
       "0          3059393.0                 2134.0                2260800.0   \n",
       "1          3059393.0                 2134.0                2260800.0   \n",
       "2          3059393.0                 2134.0                2260800.0   \n",
       "3          3059393.0                 2134.0                2260800.0   \n",
       "4          3059393.0                 2134.0                2260800.0   \n",
       "...              ...                    ...                      ...   \n",
       "2245      12150996.0                   39.0                 223467.0   \n",
       "2246      12150996.0                   23.0                 141371.0   \n",
       "2247      12150996.0                   23.0                 141371.0   \n",
       "2248      12150996.0                   61.0                 252880.0   \n",
       "2249      12150996.0                   61.0                 252880.0   \n",
       "\n",
       "      Passenger Miles FY  Unlinked Passenger Trips FY  Average Trip Length FY  \n",
       "0              4551838.0                     455391.0                  9.9955  \n",
       "1              1003831.0                      86460.0                 11.6104  \n",
       "2               896100.0                     146930.0                  6.0988  \n",
       "3                    NaN                          NaN                     NaN  \n",
       "4            210354213.0                   48865809.0                  4.3047  \n",
       "...                  ...                          ...                     ...  \n",
       "2245           2278590.0                    1040034.0                  2.1909  \n",
       "2246            235921.0                      68517.0                  3.4432  \n",
       "2247           2439762.0                    1305756.0                  1.8685  \n",
       "2248            279733.0                      62210.0                  4.4966  \n",
       "2249            244986.0                      55105.0                  4.4458  \n",
       "\n",
       "[2250 rows x 14 columns]"
      ]
     },
     "execution_count": 4,
     "metadata": {},
     "output_type": "execute_result"
    }
   ],
   "source": [
    "rawDB_cols = [\"5 digit NTD ID\", \"Agency\", \"Mode\", \"HQ City\", \"HQ State\", \"UZA\", \"UZA Name\", \n",
    "              \"UZA Area SQ Miles\", \"UZA Population\", \"Service Area SQ Miles\", \n",
    "              \"Service Area Population\", \"Passenger Miles FY\", \"Unlinked Passenger Trips FY\", \n",
    "              \"Average Trip Length FY\"]\n",
    "rawDB_df_short = raw_df[rawDB_cols]\n",
    "rawDB_df_short"
   ]
  },
  {
   "cell_type": "code",
   "execution_count": 5,
   "metadata": {},
   "outputs": [
    {
     "name": "stdout",
     "output_type": "stream",
     "text": [
      "Alameda-Contra Costa Transit District\n",
      "Altoona Metro Transit\n",
      "Ames Transit Agency\n",
      "Antelope Valley Transit Authority\n",
      "Arlington County, Virginia\n",
      "Beaver County Transit Authority\n",
      "Ben Franklin Transit\n",
      "Birmingham-Jefferson County Transit Authority\n",
      "Bloomington Public Transportation Corporation\n",
      "Brazos Transit District\n",
      "Brunswick Transit Alternative\n",
      "Butler County Regional Transit Authority\n",
      "Cambria County Transit Authority\n",
      "Cape Fear Public Transportation Authority\n",
      "Capital Area Transit System\n",
      "Capital Area Transportation Authority\n",
      "Capital District Transportation Authority\n",
      "Capital Metropolitan Transportation Authority\n",
      "Casco Bay Island Transit District\n",
      "Central Florida Regional Transportation Authority\n",
      "Central New York Regional Transportation Authority\n",
      "Central Ohio Transit Authority\n",
      "Central Oklahoma Transportation and Parking Authority\n",
      "Central Puget Sound Regional Transit Authority\n",
      "Centre Area Transportation Authority\n",
      "Champaign-Urbana Mass Transit District\n",
      "Charleston Area Regional Transportation Authority\n",
      "Chatham Area Transit Authority\n",
      "Chattanooga Area Regional Transportation Authority\n",
      "Chicago Transit Authority\n",
      "Chula Vista Transit\n",
      "City of Glendale\n",
      "City of Long Beach\n",
      "City of Mesa\n",
      "City of Murfreesboro\n",
      "City of Redondo Beach\n",
      "City of Seattle\n",
      "City of Tucson\n",
      "Connecticut Department of Transportation\n",
      "Corpus Christi Regional Transportation Authority\n",
      "County of Lackawanna Transit System\n",
      "County of Lebanon Transit Authority\n",
      "Delaware Transit Corporation\n",
      "Denton County Transportation Authority\n",
      "Detroit Transportation Corporation\n",
      "Duluth Transit Authority\n",
      "Erie Metropolitan Transit Authority\n",
      "Foothill Transit\n",
      "Fort Worth Transportation Authority\n",
      "Gary Public Transportation Corporation\n",
      "Golden Empire Transit District\n",
      "Golden Gate Bridge, Highway and Transportation District\n",
      "Great Falls Transit District\n",
      "Greater Bridgeport Transit Authority\n",
      "Greater Dayton Regional Transit Authority\n",
      "Greater Hartford Transit District\n",
      "Greater Lynchburg Transit Company\n",
      "Greater New Haven Transit District\n",
      "Greater Peoria Mass Transit District\n",
      "Hillsborough Area Regional Transit Authority\n",
      "Intercity Transit\n",
      "Interurban Transit Partnership\n",
      "Jacksonville Transportation Authority\n",
      "Kansas City Area Transportation Authority\n",
      "Kitsap Transit\n",
      "Lake Erie Transportation Commission\n",
      "Laketran\n",
      "Lane Transit District\n",
      "Lee County Transit\n",
      "Lehigh and Northampton Transportation Authority\n",
      "Long Beach Transit\n",
      "Luzerne County Transportation Authority\n",
      "MTA Bus Company\n",
      "MTA Long Island Rail Road\n",
      "MTA New York City Transit\n",
      "Madison County Transit District\n",
      "Maryland Transit Administration\n",
      "Mass Transportation Authority\n",
      "Massachusetts Bay Transportation Authority\n",
      "McKinney Avenue Transit Authority\n",
      "Metro Transit\n",
      "Metropolitan Atlanta Rapid Transit Authority\n",
      "Metropolitan Bus Authority\n",
      "Metropolitan Transit Authority\n",
      "Metropolitan Tulsa Transit Authority\n",
      "Mid Mon Valley Transit Authority\n",
      "Mid-Ohio Valley Transit Authority\n",
      "Minnesota Valley Transit Authority\n",
      "Missoula Urban Transportation District\n",
      "Monterey-Salinas Transit\n",
      "Muncie Indiana Transit System\n",
      "National City Transit\n",
      "New Jersey Transit Corporation\n",
      "New Mexico Department of Transportation\n",
      "New York City Department of Transportation\n",
      "Northeast Illinois Regional Commuter Railroad Corporation\n",
      "Northern Indiana Commuter Transportation District\n",
      "Omnitrans\n",
      "Orange County Transportation Authority\n",
      "Peninsula Corridor Joint Powers Board\n",
      "Pennsylvania Department of Transportation\n",
      "Pinellas Suncoast Transit Authority\n",
      "Port Authority of Allegheny County\n",
      "Potomac and Rappahannock Transportation Commission\n",
      "Red Rose Transit Authority\n",
      "Redding Area Bus Authority\n",
      "Regional Public Transportation Authority\n",
      "Regional Transportation Authority\n",
      "Regional Transportation Commission of Southern Nevada\n",
      "Regional Transportation Commission of Washoe County\n",
      "Rhode Island Public Transit Authority\n",
      "Riverside Transit Agency\n",
      "Rock Island County Metropolitan Mass Transit District\n",
      "Rockford Mass Transit District\n",
      "Sacramento Regional Transit District\n",
      "San Diego Metropolitan Transit System\n",
      "San Francisco Bay Area Rapid Transit District\n",
      "San Joaquin Regional Transit District\n",
      "San Mateo County Transit District\n",
      "Santa Barbara Metropolitan Transit District\n",
      "Santa Clara Valley Transportation Authority\n",
      "Santa Cruz Metropolitan Transit District\n",
      "Snohomish County Public Transportation Benefit Area Corporation\n",
      "South Bend Public Transportation Corporation\n",
      "South Florida Regional Transportation Authority\n",
      "Southeastern Pennsylvania Transportation Authority\n",
      "Southern California Regional Rail Authority\n",
      "Southwest Ohio Regional Transit Authority\n",
      "Spokane Transit Authority\n",
      "Springfield Mass Transit District\n",
      "Stark Area Regional Transit Authority\n",
      "Suburban Mobility Authority for Regional Transportation\n",
      "SunLine Transit Agency\n",
      "Terrebonne Parish Consolidated Government\n",
      "Toledo Area Regional Transit Authority\n",
      "Tompkins Consolidated Area Transit\n",
      "Topeka Metropolitan Transit Authority\n",
      "Transit Authority of Northern Kentucky\n",
      "Transit Authority of River City\n",
      "Transportation District Commission of Hampton Roads\n",
      "Tri-County Metropolitan Transportation District of Oregon\n",
      "Utah Transit Authority\n",
      "VIA Metropolitan Transit\n",
      "Valley Metro Rail, Inc.\n",
      "Ventura County Transportation Commission\n",
      "Victor Valley Transit Authority\n",
      "Virginia Railway Express\n",
      "Washington Metropolitan Area Transit Authority\n",
      "148\n"
     ]
    }
   ],
   "source": [
    "match = 0\n",
    "for i in sorted(set(rawDB_df_short['Agency'])):\n",
    "  if i in sorted(set(station_df_short['Organization Name'])):\n",
    "    print(i)\n",
    "    match += 1\n",
    "print(match)"
   ]
  },
  {
   "cell_type": "code",
   "execution_count": 6,
   "metadata": {},
   "outputs": [],
   "source": [
    "\n",
    "\n",
    "#summing trips/miles, storing Area and pop for each agency\n",
    "agency = list(set(rawDB_df_short['Agency']))\n",
    "area = []\n",
    "pop= []\n",
    "pass_miles = []\n",
    "pass_trips = []\n",
    "trip_length = []\n",
    "type_count = []\n",
    "ntd_id=[]\n",
    "\n",
    "for i in agency:\n",
    "  tmpDF = rawDB_df_short[rawDB_df_short['Agency'] == i]\n",
    "  area.append(list(tmpDF['Service Area SQ Miles'])[0])\n",
    "  pop.append(list(tmpDF['Service Area Population'])[0])\n",
    "  pass_miles.append(sum(pd.to_numeric(tmpDF['Passenger Miles FY']).dropna()))\n",
    "  pass_trips.append(sum(pd.to_numeric(tmpDF['Unlinked Passenger Trips FY']).dropna()))\n",
    "  type_count.append(len(set(tmpDF['Mode'])))\n",
    "  ntd_id.append(list(tmpDF['5 digit NTD ID'])[0])\n",
    "  if pass_trips[-1] != 0:\n",
    "    trip_length.append(pass_miles[-1]/pass_trips[-1])\n",
    "  else: trip_length.append(0)\n",
    "\n",
    "rawDB_df_combined = pd.DataFrame({\"NTDID\":ntd_id, \"Agency\": agency, \"Service Area\": area, \n",
    "                                  \"Service Pop.\": pop, \"Passenger Miles\": pass_miles, \n",
    "                                  \"Passenger Trips\": pass_trips, \"Avg. Trip Length\": trip_length,\n",
    "                                  \"Transportation Modes\": type_count})\n",
    "\n",
    "# combining Station data by organization\n",
    "organization = list(set(station_df_short['Organization Name']))\n",
    "org_short = []\n",
    "city = []\n",
    "state = []\n",
    "country = []\n",
    "memberID = [] \n",
    "stations = [] \n",
    "stops = [] \n",
    "\n",
    "for i in organization:\n",
    "  tmpDF = station_df_short[station_df_short['Organization Name'] == i]\n",
    "  org_short.append(list(tmpDF['Organization Short Name'])[0])\n",
    "  city.append(list(tmpDF['City'])[0])\n",
    "  state.append(list(tmpDF['State'])[0])\n",
    "  country.append(list(tmpDF['Country'])[0])\n",
    "  memberID.append(list(tmpDF['Member ID'])[0])\n",
    "  stations.append(sum(pd.to_numeric(tmpDF['Number of Stations']).dropna()))\n",
    "  stops.append(sum(pd.to_numeric(tmpDF['Number of Bus/Rail Stops']).dropna()))\n",
    "\n",
    "station_df_combined = pd.DataFrame({\"Organization Name\": organization, \"Organization Short Name\": org_short,\n",
    "                                    \"City\": city, \"State\": state, \"Country\": country,\n",
    "                                    \"Member ID\": memberID, \"Number of Stations\": stations,\n",
    "                                    \"Number of Bus/Rail Stops\": stops})"
   ]
  },
  {
   "cell_type": "code",
   "execution_count": 7,
   "metadata": {},
   "outputs": [],
   "source": [
    "station_org = list(station_df_combined[\"Organization Name\"])\n",
    "rawDB_agency = list(rawDB_df_combined[\"Agency\"])\n",
    "\n",
    "matched = {} #{Organzation: Agency}\n",
    "\n",
    "for i in station_org:\n",
    "  start = 0\n",
    "  end = 4\n",
    "  matches = [agency for agency in rawDB_agency if i[start:end] in agency]\n",
    "  while (len(matches) > 1) and (end < len(i)):\n",
    "    end +=1\n",
    "    matches = [agency for agency in matches if i[start:end] in agency]\n",
    "  matched[i] = [len(matches), matches]"
   ]
  },
  {
   "cell_type": "code",
   "execution_count": 8,
   "metadata": {},
   "outputs": [
    {
     "name": "stdout",
     "output_type": "stream",
     "text": [
      "total 302\n"
     ]
    }
   ],
   "source": [
    "station_df_combined['Agency'] = station_df_combined['Organization Name']\n",
    "#combined_df = station_df_short.merge(rawDB_df_combined, how = \"inner\", on=\"Agency\")\n",
    "total = 0\n",
    "for i in matched:\n",
    "  if matched[i][0] == 1:\n",
    "    total += 1\n",
    "    org_index = station_df_combined[station_df_combined['Organization Name']== i].index[0]\n",
    "    #print(i, ':',org_index)\n",
    "    agency_index = rawDB_df_combined[rawDB_df_combined['Agency'] == matched[i][1][0]].index[0]\n",
    "    #print(matched[i][1][0],':', agency_index, \"\\n\")\n",
    "    station_df_combined.loc[org_index,['Agency']] = rawDB_df_combined.iloc[agency_index]['Agency']\n",
    "\n",
    "print(\"total\", total)"
   ]
  },
  {
   "cell_type": "code",
   "execution_count": 9,
   "metadata": {},
   "outputs": [],
   "source": [
    "combined_df = station_df_combined.merge(rawDB_df_combined, how = \"inner\", on=\"Agency\")"
   ]
  },
  {
   "cell_type": "code",
   "execution_count": 10,
   "metadata": {},
   "outputs": [
    {
     "name": "stdout",
     "output_type": "stream",
     "text": [
      "23 : Mountain Line Transit Authority ; Green Mountain Transit Authority\n",
      "24 : Mountain Area Regional Transit Authority ; Green Mountain Transit Authority\n",
      "25 : Mountain Metropolitan Transit ; Green Mountain Transit Authority \n",
      "\n",
      "2 : Madison County Transit District ; Madison County Transit District\n",
      "3 : Madison Metro ; Madison County Transit District \n",
      "\n",
      "106 : Pierce Transit ; Pierce County Transportation Benefit Area Authority\n",
      "107 : Pierce County Ferry Operations ; Pierce County Transportation Benefit Area Authority \n",
      "\n",
      "52 : Southern Nevada Transit Coalition ; Regional Transportation Commission of Southern Nevada\n",
      "53 : Regional Transportation Commission of Southern Nevada ; Regional Transportation Commission of Southern Nevada \n",
      "\n",
      "145 : Butler Township/City Joint Municipal Transit Authority ; Butler County Regional Transit Authority\n",
      "146 : Butler County Regional Transit Authority ; Butler County Regional Transit Authority \n",
      "\n",
      "117 : Southwest Ohio Regional Transit Authority ; Southwest Ohio Regional Transit Authority\n",
      "118 : Southwest Metro Transit ; Southwest Ohio Regional Transit Authority \n",
      "\n",
      "193 : Transit Management of Spartanburg ; Laredo Transit Management, Inc.\n",
      "194 : Laredo Municipal Transit System ; Laredo Transit Management, Inc. \n",
      "\n",
      "38 : Port Authority of Allegheny County ; Port Authority of Allegheny County\n",
      "39 : Port Authority of New York and New Jersey ; Port Authority of Allegheny County \n",
      "\n",
      "164 : City of Tucson Mass Transit System ; City of Tucson\n",
      "165 : City of Tucson ; City of Tucson \n",
      "\n",
      "49 : Island Transit ; Casco Bay Island Transit District\n",
      "50 : Casco Bay Island Transit District ; Casco Bay Island Transit District \n",
      "\n",
      "207 : Ben Franklin Transit ; Ben Franklin Transit\n",
      "208 : Franklin Transit Authority ; Ben Franklin Transit \n",
      "\n",
      "251 : Dallas Streetcar ; Dallas Area Rapid Transit\n",
      "252 : Dallas Area Rapid Transit Authority ; Dallas Area Rapid Transit \n",
      "\n",
      "113 : City of Tempe, Arizona ; City of Tempe Transit Division - dba Valley Metro\n",
      "114 : Temporary Login ; City of Tempe Transit Division - dba Valley Metro \n",
      "\n",
      "108 : Alameda-Oakland Ferry Service ; Alameda-Contra Costa Transit District\n",
      "109 : Alameda-Contra Costa Transit District ; Alameda-Contra Costa Transit District \n",
      "\n",
      "70 : Central New York Regional Transportation Authority ; Central New York Regional Transportation Authority\n",
      "71 : York Region Transit ; Central New York Regional Transportation Authority \n",
      "\n",
      "240 : San Joaquin Regional Rail Commission ; San Joaquin Regional Transit District\n",
      "241 : San Joaquin Regional Transit District ; San Joaquin Regional Transit District \n",
      "\n"
     ]
    }
   ],
   "source": [
    "for i in set(list(combined_df['Agency'])):\n",
    "  tmpDF = combined_df[combined_df['Agency']==i]\n",
    "  if len(tmpDF) > 1:\n",
    "    if len(tmpDF) == 2:\n",
    "      print(tmpDF.index[0],':', list(tmpDF['Organization Name'])[0],';', list(tmpDF['Agency'])[0])\n",
    "      print(tmpDF.index[1],':', list(tmpDF['Organization Name'])[1],';', list(tmpDF['Agency'])[1], \"\\n\")\n",
    "    if len(tmpDF) == 3:\n",
    "      print(tmpDF.index[0],':', list(tmpDF['Organization Name'])[0],';', list(tmpDF['Agency'])[0])\n",
    "      print(tmpDF.index[1],':', list(tmpDF['Organization Name'])[1],';', list(tmpDF['Agency'])[1])\n",
    "      print(tmpDF.index[2],':', list(tmpDF['Organization Name'])[2],';', list(tmpDF['Agency'])[2], \"\\n\")"
   ]
  },
  {
   "cell_type": "code",
   "execution_count": 11,
   "metadata": {},
   "outputs": [],
   "source": [
    "# combining Station data by organization\n",
    "organization_rail = list(set(rail_df['Organization Name']))\n",
    "memberID = [] \n",
    "miles = [] \n",
    "max_speed = []\n",
    "\n",
    "for i in organization_rail:\n",
    "  tmpDF = rail_df[rail_df['Organization Name'] == i]\n",
    "  memberID.append(list(tmpDF['Member ID'])[0])\n",
    "  rail_miles = sum(pd.to_numeric(tmpDF['Miles of mainline passenger track']).dropna())\n",
    "  if i in list(set(bus_df['Organization Name'])):\n",
    "    tmpDF2 = bus_df[bus_df['Organization Name'] == i]\n",
    "    bus_miles = sum(pd.to_numeric(tmpDF2['Route Length (Miles)']).dropna())\n",
    "    miles.append(bus_miles+rail_miles)\n",
    "  else: \n",
    "    miles.append(rail_miles)\n",
    "  max_speed.append(sum(pd.to_numeric(tmpDF['Maximum speed (m.p.h.)']).dropna()))\n",
    "\n",
    "rail_bus_df_combined = pd.DataFrame({\"Organization Name\": organization_rail, \"Member ID\": memberID,\n",
    "                                     \"Miles\": miles, \"Max. Speed\": max_speed})\n",
    "\n",
    "\n",
    "combined_df_with_miles = combined_df.merge(rail_bus_df_combined, how = \"left\", on=\"Member ID\")"
   ]
  },
  {
   "cell_type": "code",
   "execution_count": 12,
   "metadata": {},
   "outputs": [
    {
     "data": {
      "text/html": [
       "<div>\n",
       "<style scoped>\n",
       "    .dataframe tbody tr th:only-of-type {\n",
       "        vertical-align: middle;\n",
       "    }\n",
       "\n",
       "    .dataframe tbody tr th {\n",
       "        vertical-align: top;\n",
       "    }\n",
       "\n",
       "    .dataframe thead th {\n",
       "        text-align: right;\n",
       "    }\n",
       "</style>\n",
       "<table border=\"1\" class=\"dataframe\">\n",
       "  <thead>\n",
       "    <tr style=\"text-align: right;\">\n",
       "      <th></th>\n",
       "      <th>Organization Name</th>\n",
       "      <th>Organization Short Name</th>\n",
       "      <th>City</th>\n",
       "      <th>State</th>\n",
       "      <th>Country</th>\n",
       "      <th>Member ID</th>\n",
       "      <th>Number of Stations</th>\n",
       "      <th>Number of Bus/Rail Stops</th>\n",
       "      <th>Agency</th>\n",
       "      <th>NTDID</th>\n",
       "      <th>...</th>\n",
       "      <th>JUN21</th>\n",
       "      <th>JUL21</th>\n",
       "      <th>AUG21</th>\n",
       "      <th>SEP21</th>\n",
       "      <th>OCT21</th>\n",
       "      <th>NOV21</th>\n",
       "      <th>DEC21</th>\n",
       "      <th>JAN22</th>\n",
       "      <th>FEB22</th>\n",
       "      <th>Stops</th>\n",
       "    </tr>\n",
       "  </thead>\n",
       "  <tbody>\n",
       "    <tr>\n",
       "      <th>0</th>\n",
       "      <td>Port Arthur Transit</td>\n",
       "      <td>Port Arthur Transit</td>\n",
       "      <td>Port Arthur</td>\n",
       "      <td>TX</td>\n",
       "      <td>UNITED STATES</td>\n",
       "      <td>242</td>\n",
       "      <td>1</td>\n",
       "      <td>479</td>\n",
       "      <td>City of Port Arthur</td>\n",
       "      <td>60013</td>\n",
       "      <td>...</td>\n",
       "      <td>0.0</td>\n",
       "      <td>0.0</td>\n",
       "      <td>0.0</td>\n",
       "      <td>0.0</td>\n",
       "      <td>0.0</td>\n",
       "      <td>0.0</td>\n",
       "      <td>0.0</td>\n",
       "      <td>0.0</td>\n",
       "      <td>0.0</td>\n",
       "      <td>480</td>\n",
       "    </tr>\n",
       "    <tr>\n",
       "      <th>1</th>\n",
       "      <td>Fargo Metropolitan Area Transit System</td>\n",
       "      <td>Fargo Metropolitan Area Transit System</td>\n",
       "      <td>Fargo</td>\n",
       "      <td>ND</td>\n",
       "      <td>UNITED STATES</td>\n",
       "      <td>1017</td>\n",
       "      <td>1</td>\n",
       "      <td>750</td>\n",
       "      <td>City of Fargo</td>\n",
       "      <td>80003</td>\n",
       "      <td>...</td>\n",
       "      <td>51742.0</td>\n",
       "      <td>55378.0</td>\n",
       "      <td>64779.0</td>\n",
       "      <td>89545.0</td>\n",
       "      <td>88439.0</td>\n",
       "      <td>80128.0</td>\n",
       "      <td>66203.0</td>\n",
       "      <td>66805.0</td>\n",
       "      <td>74484.0</td>\n",
       "      <td>751</td>\n",
       "    </tr>\n",
       "  </tbody>\n",
       "</table>\n",
       "<p>2 rows × 261 columns</p>\n",
       "</div>"
      ],
      "text/plain": [
       "                        Organization Name  \\\n",
       "0                     Port Arthur Transit   \n",
       "1  Fargo Metropolitan Area Transit System   \n",
       "\n",
       "                  Organization Short Name         City State        Country  \\\n",
       "0                     Port Arthur Transit  Port Arthur    TX  UNITED STATES   \n",
       "1  Fargo Metropolitan Area Transit System        Fargo    ND  UNITED STATES   \n",
       "\n",
       "   Member ID  Number of Stations  Number of Bus/Rail Stops  \\\n",
       "0        242                   1                       479   \n",
       "1       1017                   1                       750   \n",
       "\n",
       "                 Agency  NTDID  ...    JUN21    JUL21    AUG21    SEP21  \\\n",
       "0  City of Port Arthur   60013  ...      0.0      0.0      0.0      0.0   \n",
       "1         City of Fargo  80003  ...  51742.0  55378.0  64779.0  89545.0   \n",
       "\n",
       "     OCT21    NOV21    DEC21    JAN22    FEB22  Stops  \n",
       "0      0.0      0.0      0.0      0.0      0.0    480  \n",
       "1  88439.0  80128.0  66203.0  66805.0  74484.0    751  \n",
       "\n",
       "[2 rows x 261 columns]"
      ]
     },
     "execution_count": 12,
     "metadata": {},
     "output_type": "execute_result"
    }
   ],
   "source": [
    "# combine the dataframes\n",
    "\n",
    "trips_combined_df = combined_df.merge(trips_df, left_on=['NTDID','Agency'], right_on=['5 digit NTD ID', 'Agency'], how='inner')\n",
    "trips_combined_df['Stops'] = trips_combined_df['Number of Stations'] + trips_combined_df['Number of Bus/Rail Stops']\n",
    "trips_combined_df.head(2)"
   ]
  },
  {
   "cell_type": "code",
   "execution_count": 13,
   "metadata": {},
   "outputs": [
    {
     "data": {
      "text/html": [
       "<div>\n",
       "<style scoped>\n",
       "    .dataframe tbody tr th:only-of-type {\n",
       "        vertical-align: middle;\n",
       "    }\n",
       "\n",
       "    .dataframe tbody tr th {\n",
       "        vertical-align: top;\n",
       "    }\n",
       "\n",
       "    .dataframe thead th {\n",
       "        text-align: right;\n",
       "    }\n",
       "</style>\n",
       "<table border=\"1\" class=\"dataframe\">\n",
       "  <thead>\n",
       "    <tr style=\"text-align: right;\">\n",
       "      <th></th>\n",
       "      <th>City</th>\n",
       "      <th>State</th>\n",
       "      <th>Date</th>\n",
       "      <th>Trips</th>\n",
       "    </tr>\n",
       "  </thead>\n",
       "  <tbody>\n",
       "    <tr>\n",
       "      <th>0</th>\n",
       "      <td>Akron</td>\n",
       "      <td>OH</td>\n",
       "      <td>JAN02</td>\n",
       "      <td>0.0</td>\n",
       "    </tr>\n",
       "    <tr>\n",
       "      <th>1</th>\n",
       "      <td>Albany</td>\n",
       "      <td>NY</td>\n",
       "      <td>JAN02</td>\n",
       "      <td>992692.0</td>\n",
       "    </tr>\n",
       "  </tbody>\n",
       "</table>\n",
       "</div>"
      ],
      "text/plain": [
       "     City State   Date     Trips\n",
       "0   Akron    OH  JAN02       0.0\n",
       "1  Albany    NY  JAN02  992692.0"
      ]
     },
     "execution_count": 13,
     "metadata": {},
     "output_type": "execute_result"
    }
   ],
   "source": [
    "trips_filtered_df = trips_combined_df.groupby(['City','State']).sum().reset_index()\n",
    "pre_pandamic_columns = ['JAN02','FEB02','MAR02','APR02','MAY02','JUN02','JUL02','AUG02','SEP02','OCT02','NOV02','DEC02',\n",
    "                        'JAN03','FEB03','MAR03','APR03','MAY03','JUN03','JUL03','AUG03','SEP03','OCT03','NOV03','DEC03',\n",
    "                        'JAN04','FEB04','MAR04','APR04','MAY04','JUN04','JUL04','AUG04','SEP04','OCT04','NOV04','DEC04',\n",
    "                        'JAN05','FEB05','MAR05','APR05','MAY05','JUN05','JUL05','AUG05','SEP05','OCT05','NOV05','DEC05',\n",
    "                        'JAN06','FEB06','MAR06','APR06','MAY06','JUN06','JUL06','AUG06','SEP06','OCT06','NOV06','DEC06',\n",
    "                        'JAN07','FEB07','MAR07','APR07','MAY07','JUN07','JUL07','AUG07','SEP07','OCT07','NOV07','DEC07',\n",
    "                        'JAN08','FEB08','MAR08','APR08','MAY08','JUN08','JUL08','AUG08','SEP08','OCT08','NOV08','DEC08',\n",
    "                        'JAN09','FEB09','MAR09','APR09','MAY09','JUN09','JUL09','AUG09','SEP09','OCT09','NOV09','DEC09',\n",
    "                        'JAN10','FEB10','MAR10','APR10','MAY10','JUN10','JUL10','AUG10','SEP10','OCT10','NOV10','DEC10',\n",
    "                        'JAN11','FEB11','MAR11','APR11','MAY11','JUN11','JUL11','AUG11','SEP11','OCT11','NOV11','DEC11',\n",
    "                        'JAN12','FEB12','MAR12','APR12','MAY12','JUN12','JUL12','AUG12','SEP12','OCT12','NOV12','DEC12',\n",
    "                        'JAN13','FEB13','MAR13','APR13','MAY13','JUN13','JUL13','AUG13','SEP13','OCT13','NOV13','DEC13',\n",
    "                        'JAN14','FEB14','MAR14','APR14','MAY14','JUN14','JUL14','AUG14','SEP14','OCT14','NOV14','DEC14',\n",
    "                        'JAN15','FEB15','MAR15','APR15','MAY15','JUN15','JUL15','AUG15','SEP15','OCT15','NOV15','DEC15',\n",
    "                        'JAN16','FEB16','MAR16','APR16','MAY16','JUN16','JUL16','AUG16','SEP16','OCT16','NOV16','DEC16',\n",
    "                        'JAN17','FEB17','MAR17','APR17','MAY17','JUN17','JUL17','AUG17','SEP17','OCT17','NOV17','DEC17',\n",
    "                        'JAN18','FEB18','MAR18','APR18','MAY18','JUN18','JUL18','AUG18','SEP18','OCT18','NOV18','DEC18',\n",
    "                        'JAN19','FEB19','MAR19','APR19','MAY19','JUN19','JUL19','AUG19','SEP19','OCT19','NOV19','DEC19',\n",
    "                        'City','State']\n",
    "post_pandamic_columns = ['JAN02','FEB02','MAR02','APR02','MAY02','JUN02','JUL02','AUG02','SEP02','OCT02','NOV02','DEC02',\n",
    "                        'JAN03','FEB03','MAR03','APR03','MAY03','JUN03','JUL03','AUG03','SEP03','OCT03','NOV03','DEC03',\n",
    "                        'JAN04','FEB04','MAR04','APR04','MAY04','JUN04','JUL04','AUG04','SEP04','OCT04','NOV04','DEC04',\n",
    "                        'JAN05','FEB05','MAR05','APR05','MAY05','JUN05','JUL05','AUG05','SEP05','OCT05','NOV05','DEC05',\n",
    "                        'JAN06','FEB06','MAR06','APR06','MAY06','JUN06','JUL06','AUG06','SEP06','OCT06','NOV06','DEC06',\n",
    "                        'JAN07','FEB07','MAR07','APR07','MAY07','JUN07','JUL07','AUG07','SEP07','OCT07','NOV07','DEC07',\n",
    "                        'JAN08','FEB08','MAR08','APR08','MAY08','JUN08','JUL08','AUG08','SEP08','OCT08','NOV08','DEC08',\n",
    "                        'JAN09','FEB09','MAR09','APR09','MAY09','JUN09','JUL09','AUG09','SEP09','OCT09','NOV09','DEC09',\n",
    "                        'JAN10','FEB10','MAR10','APR10','MAY10','JUN10','JUL10','AUG10','SEP10','OCT10','NOV10','DEC10',\n",
    "                        'JAN11','FEB11','MAR11','APR11','MAY11','JUN11','JUL11','AUG11','SEP11','OCT11','NOV11','DEC11',\n",
    "                        'JAN12','FEB12','MAR12','APR12','MAY12','JUN12','JUL12','AUG12','SEP12','OCT12','NOV12','DEC12',\n",
    "                        'JAN13','FEB13','MAR13','APR13','MAY13','JUN13','JUL13','AUG13','SEP13','OCT13','NOV13','DEC13',\n",
    "                        'JAN14','FEB14','MAR14','APR14','MAY14','JUN14','JUL14','AUG14','SEP14','OCT14','NOV14','DEC14',\n",
    "                        'JAN15','FEB15','MAR15','APR15','MAY15','JUN15','JUL15','AUG15','SEP15','OCT15','NOV15','DEC15',\n",
    "                        'JAN16','FEB16','MAR16','APR16','MAY16','JUN16','JUL16','AUG16','SEP16','OCT16','NOV16','DEC16',\n",
    "                        'JAN17','FEB17','MAR17','APR17','MAY17','JUN17','JUL17','AUG17','SEP17','OCT17','NOV17','DEC17',\n",
    "                        'JAN18','FEB18','MAR18','APR18','MAY18','JUN18','JUL18','AUG18','SEP18','OCT18','NOV18','DEC18',\n",
    "                        'JAN19','FEB19','MAR19','APR19','MAY19','JUN19','JUL19','AUG19','SEP19','OCT19','NOV19','DEC19',\n",
    "                        'JAN20','FEB20','MAR20','APR20','MAY20','JUN20','JUL20','AUG20','SEP20','OCT20','NOV20','DEC20',\n",
    "                        'JAN21','FEB21','MAR21','APR21','MAY21','JUN21','JUL21','AUG21','SEP21','OCT21','NOV21','DEC21',\n",
    "                        'JAN22','FEB22',\n",
    "                        'City','State']\n",
    "trips_filtered_df = trips_filtered_df[pre_pandamic_columns]\n",
    "trips_filtered_df = pd.melt(trips_filtered_df, id_vars=['City','State'], value_vars=pre_pandamic_columns)\n",
    "trips_filtered_df.columns = ['City','State','Date','Trips']\n",
    "trips_filtered_df.head(2)"
   ]
  },
  {
   "cell_type": "code",
   "execution_count": 14,
   "metadata": {},
   "outputs": [
    {
     "data": {
      "image/png": "[encoded data removed]",
      "text/plain": [
       "<Figure size 432x288 with 4 Axes>"
      ]
     },
     "execution_count": 14,
     "metadata": {},
     "output_type": "execute_result"
    },
    {
     "data": {
      "text/plain": [
       "<Figure size 1080x1080 with 0 Axes>"
      ]
     },
     "metadata": {},
     "output_type": "display_data"
    },
    {
     "data": {
      "image/png": "[encoded data removed]",
      "text/plain": [
       "<Figure size 432x288 with 4 Axes>"
      ]
     },
     "metadata": {
      "needs_background": "light"
     },
     "output_type": "display_data"
    }
   ],
   "source": [
    "from statsmodels.tsa.seasonal import seasonal_decompose\n",
    "trips_compare_df = trips_filtered_df.query('(City == \"Chicago\" & State == \"IL\")')\n",
    "trips_compare_df.Date = pd.to_datetime(trips_compare_df.Date, format='%b%y')\n",
    "trips_compare_df.set_index('Date', inplace=True)\n",
    "\n",
    "analysis = trips_compare_df[['Trips']].copy()\n",
    "plt.figure(figsize=(15,15))\n",
    "\n",
    "decompose_result_mult = seasonal_decompose(analysis, period=12)\n",
    "decompose_result_mult.plot()"
   ]
  },
  {
   "cell_type": "code",
   "execution_count": 15,
   "metadata": {},
   "outputs": [],
   "source": [
    "def evaluate_prophet_model(X):\n",
    "\tsplit_point = len(X) - 5\n",
    "\ttest = X.loc[split_point:]\n",
    "\n",
    "\tmodel = Prophet(interval_width=0.90)\n",
    "\tmodel_fit = model.fit(X)\n",
    "\n",
    "\tdates = test[\"ds\"].to_list()\n",
    " \n",
    "\tcutoffs = pd.date_range(start='2019-01-01', end='2019-12-01', freq='1M')\n",
    "\n",
    "\t#hor = np.abs(np.max(dates[:-1]) - np.min(dates)) - 1\n",
    "\n",
    "\tdf_cv = cross_validation(model_fit, horizon='60 days', cutoffs=cutoffs, parallel=\"processes\")\n",
    "\n",
    "\tdf_p = performance_metrics(df_cv)\n",
    "\t# make predictions\n",
    "\trmse = np.mean(df_p[\"rmse\"].to_list())\n",
    "\tprint(f'RMSE:{rmse}')\n",
    "\treturn df_p"
   ]
  },
  {
   "cell_type": "code",
   "execution_count": 16,
   "metadata": {},
   "outputs": [
    {
     "name": "stderr",
     "output_type": "stream",
     "text": [
      "INFO:prophet:Disabling weekly seasonality. Run prophet with weekly_seasonality=True to override this.\n",
      "INFO:prophet:Disabling daily seasonality. Run prophet with daily_seasonality=True to override this.\n",
      "INFO:prophet:Applying in parallel with <concurrent.futures.process.ProcessPoolExecutor object at 0x000001D40870A2B0>\n"
     ]
    },
    {
     "name": "stdout",
     "output_type": "stream",
     "text": [
      "RMSE:897311.5988403817\n"
     ]
    },
    {
     "data": {
      "text/html": [
       "<div>\n",
       "<style scoped>\n",
       "    .dataframe tbody tr th:only-of-type {\n",
       "        vertical-align: middle;\n",
       "    }\n",
       "\n",
       "    .dataframe tbody tr th {\n",
       "        vertical-align: top;\n",
       "    }\n",
       "\n",
       "    .dataframe thead th {\n",
       "        text-align: right;\n",
       "    }\n",
       "</style>\n",
       "<table border=\"1\" class=\"dataframe\">\n",
       "  <thead>\n",
       "    <tr style=\"text-align: right;\">\n",
       "      <th></th>\n",
       "      <th>horizon</th>\n",
       "      <th>mse</th>\n",
       "      <th>rmse</th>\n",
       "      <th>mae</th>\n",
       "      <th>mape</th>\n",
       "      <th>mdape</th>\n",
       "      <th>smape</th>\n",
       "      <th>coverage</th>\n",
       "    </tr>\n",
       "  </thead>\n",
       "  <tbody>\n",
       "    <tr>\n",
       "      <th>0</th>\n",
       "      <td>1 days</td>\n",
       "      <td>3.831277e+11</td>\n",
       "      <td>6.189731e+05</td>\n",
       "      <td>5.298398e+05</td>\n",
       "      <td>0.012063</td>\n",
       "      <td>0.012138</td>\n",
       "      <td>0.012065</td>\n",
       "      <td>1.0</td>\n",
       "    </tr>\n",
       "    <tr>\n",
       "      <th>1</th>\n",
       "      <td>29 days</td>\n",
       "      <td>1.382153e+12</td>\n",
       "      <td>1.175650e+06</td>\n",
       "      <td>1.175650e+06</td>\n",
       "      <td>0.027187</td>\n",
       "      <td>0.027187</td>\n",
       "      <td>0.026822</td>\n",
       "      <td>1.0</td>\n",
       "    </tr>\n",
       "  </tbody>\n",
       "</table>\n",
       "</div>"
      ],
      "text/plain": [
       "  horizon           mse          rmse           mae      mape     mdape  \\\n",
       "0  1 days  3.831277e+11  6.189731e+05  5.298398e+05  0.012063  0.012138   \n",
       "1 29 days  1.382153e+12  1.175650e+06  1.175650e+06  0.027187  0.027187   \n",
       "\n",
       "      smape  coverage  \n",
       "0  0.012065       1.0  \n",
       "1  0.026822       1.0  "
      ]
     },
     "execution_count": 16,
     "metadata": {},
     "output_type": "execute_result"
    }
   ],
   "source": [
    "trips_compare_df.reset_index(inplace=True)\n",
    "df2 = trips_compare_df[['Date','Trips']].copy()\n",
    "df2.rename(columns={'Date':'ds', 'Trips':'y'}, inplace=True)\n",
    "#evaluate_prophet_model(df2)\n",
    "\n",
    "split_point = len(df2) - 5\n",
    "test = df2.loc[split_point:]\n",
    "\n",
    "model = Prophet(interval_width=0.90)\n",
    "model_fit = model.fit(df2)\n",
    "\n",
    "dates = test[\"ds\"].to_list()\n",
    "\n",
    "cutoffs = pd.date_range(start='2019-01-01', end='2019-11-01', freq='1M')\n",
    "\n",
    "#hor = np.abs(np.max(dates[:-1]) - np.min(dates)) - 1\n",
    "\n",
    "df_cv = cross_validation(model_fit, horizon='30 days', cutoffs=cutoffs, parallel=\"processes\")\n",
    "\n",
    "df_p = performance_metrics(df_cv)\n",
    "# make predictions\n",
    "rmse = np.mean(df_p[\"rmse\"].to_list())\n",
    "print(f'RMSE:{rmse}')\n",
    "df_p"
   ]
  },
  {
   "cell_type": "code",
   "execution_count": 17,
   "metadata": {},
   "outputs": [
    {
     "data": {
      "text/html": [
       "<div>\n",
       "<style scoped>\n",
       "    .dataframe tbody tr th:only-of-type {\n",
       "        vertical-align: middle;\n",
       "    }\n",
       "\n",
       "    .dataframe tbody tr th {\n",
       "        vertical-align: top;\n",
       "    }\n",
       "\n",
       "    .dataframe thead th {\n",
       "        text-align: right;\n",
       "    }\n",
       "</style>\n",
       "<table border=\"1\" class=\"dataframe\">\n",
       "  <thead>\n",
       "    <tr style=\"text-align: right;\">\n",
       "      <th></th>\n",
       "      <th>ds</th>\n",
       "      <th>yhat</th>\n",
       "      <th>yhat_lower</th>\n",
       "      <th>yhat_upper</th>\n",
       "    </tr>\n",
       "  </thead>\n",
       "  <tbody>\n",
       "    <tr>\n",
       "      <th>1031</th>\n",
       "      <td>2022-02-24</td>\n",
       "      <td>3.662864e+07</td>\n",
       "      <td>3.470446e+07</td>\n",
       "      <td>3.850603e+07</td>\n",
       "    </tr>\n",
       "    <tr>\n",
       "      <th>1032</th>\n",
       "      <td>2022-02-25</td>\n",
       "      <td>3.742571e+07</td>\n",
       "      <td>3.551089e+07</td>\n",
       "      <td>3.944512e+07</td>\n",
       "    </tr>\n",
       "    <tr>\n",
       "      <th>1033</th>\n",
       "      <td>2022-02-26</td>\n",
       "      <td>3.821212e+07</td>\n",
       "      <td>3.605654e+07</td>\n",
       "      <td>4.015363e+07</td>\n",
       "    </tr>\n",
       "    <tr>\n",
       "      <th>1034</th>\n",
       "      <td>2022-02-27</td>\n",
       "      <td>3.897252e+07</td>\n",
       "      <td>3.705786e+07</td>\n",
       "      <td>4.087316e+07</td>\n",
       "    </tr>\n",
       "    <tr>\n",
       "      <th>1035</th>\n",
       "      <td>2022-02-28</td>\n",
       "      <td>3.969219e+07</td>\n",
       "      <td>3.775244e+07</td>\n",
       "      <td>4.173705e+07</td>\n",
       "    </tr>\n",
       "  </tbody>\n",
       "</table>\n",
       "</div>"
      ],
      "text/plain": [
       "             ds          yhat    yhat_lower    yhat_upper\n",
       "1031 2022-02-24  3.662864e+07  3.470446e+07  3.850603e+07\n",
       "1032 2022-02-25  3.742571e+07  3.551089e+07  3.944512e+07\n",
       "1033 2022-02-26  3.821212e+07  3.605654e+07  4.015363e+07\n",
       "1034 2022-02-27  3.897252e+07  3.705786e+07  4.087316e+07\n",
       "1035 2022-02-28  3.969219e+07  3.775244e+07  4.173705e+07"
      ]
     },
     "execution_count": 17,
     "metadata": {},
     "output_type": "execute_result"
    }
   ],
   "source": [
    "future = model_fit.make_future_dataframe(periods=820)\n",
    "forecast = model_fit.predict(future)\n",
    "forecast[['ds', 'yhat', 'yhat_lower', 'yhat_upper']].tail()"
   ]
  },
  {
   "cell_type": "code",
   "execution_count": 18,
   "metadata": {},
   "outputs": [],
   "source": [
    "trips_filtered_df = trips_combined_df.groupby(['City','State']).sum().reset_index()\n",
    "trips_filtered_df = trips_filtered_df[post_pandamic_columns]\n",
    "trips_filtered_df = pd.melt(trips_filtered_df, id_vars=['City','State'], value_vars=post_pandamic_columns)\n",
    "trips_filtered_df.columns = ['City','State','Date','Trips']\n",
    "trips_compare_df = trips_filtered_df.query('(City == \"Chicago\" & State == \"IL\")')\n",
    "trips_compare_df.Date = pd.to_datetime(trips_compare_df.Date, format='%b%y')\n",
    "trips_compare_df.set_index('Date', inplace=True)"
   ]
  },
  {
   "cell_type": "code",
   "execution_count": 19,
   "metadata": {},
   "outputs": [],
   "source": [
    "results_df = trips_compare_df.merge(forecast, left_on=\"Date\", right_on=\"ds\", how=\"inner\")\n",
    "results_df.rename(columns={\"yhat\":\"y1hat\"}, inplace=True)"
   ]
  },
  {
   "cell_type": "code",
   "execution_count": 20,
   "metadata": {},
   "outputs": [
    {
     "name": "stderr",
     "output_type": "stream",
     "text": [
      "INFO:prophet:Disabling weekly seasonality. Run prophet with weekly_seasonality=True to override this.\n",
      "INFO:prophet:Disabling daily seasonality. Run prophet with daily_seasonality=True to override this.\n",
      "INFO:prophet:Applying in parallel with <concurrent.futures.process.ProcessPoolExecutor object at 0x000001D40870AB20>\n"
     ]
    },
    {
     "name": "stdout",
     "output_type": "stream",
     "text": [
      "RMSE:897311.5988403817\n"
     ]
    },
    {
     "data": {
      "text/html": [
       "<div>\n",
       "<style scoped>\n",
       "    .dataframe tbody tr th:only-of-type {\n",
       "        vertical-align: middle;\n",
       "    }\n",
       "\n",
       "    .dataframe tbody tr th {\n",
       "        vertical-align: top;\n",
       "    }\n",
       "\n",
       "    .dataframe thead th {\n",
       "        text-align: right;\n",
       "    }\n",
       "</style>\n",
       "<table border=\"1\" class=\"dataframe\">\n",
       "  <thead>\n",
       "    <tr style=\"text-align: right;\">\n",
       "      <th></th>\n",
       "      <th>horizon</th>\n",
       "      <th>mse</th>\n",
       "      <th>rmse</th>\n",
       "      <th>mae</th>\n",
       "      <th>mape</th>\n",
       "      <th>mdape</th>\n",
       "      <th>smape</th>\n",
       "      <th>coverage</th>\n",
       "    </tr>\n",
       "  </thead>\n",
       "  <tbody>\n",
       "    <tr>\n",
       "      <th>0</th>\n",
       "      <td>1 days</td>\n",
       "      <td>3.831277e+11</td>\n",
       "      <td>6.189731e+05</td>\n",
       "      <td>5.298398e+05</td>\n",
       "      <td>0.012063</td>\n",
       "      <td>0.012138</td>\n",
       "      <td>0.012065</td>\n",
       "      <td>1.0</td>\n",
       "    </tr>\n",
       "    <tr>\n",
       "      <th>1</th>\n",
       "      <td>29 days</td>\n",
       "      <td>1.382153e+12</td>\n",
       "      <td>1.175650e+06</td>\n",
       "      <td>1.175650e+06</td>\n",
       "      <td>0.027187</td>\n",
       "      <td>0.027187</td>\n",
       "      <td>0.026822</td>\n",
       "      <td>1.0</td>\n",
       "    </tr>\n",
       "  </tbody>\n",
       "</table>\n",
       "</div>"
      ],
      "text/plain": [
       "  horizon           mse          rmse           mae      mape     mdape  \\\n",
       "0  1 days  3.831277e+11  6.189731e+05  5.298398e+05  0.012063  0.012138   \n",
       "1 29 days  1.382153e+12  1.175650e+06  1.175650e+06  0.027187  0.027187   \n",
       "\n",
       "      smape  coverage  \n",
       "0  0.012065       1.0  \n",
       "1  0.026822       1.0  "
      ]
     },
     "execution_count": 20,
     "metadata": {},
     "output_type": "execute_result"
    }
   ],
   "source": [
    "trips_compare_df.reset_index(inplace=True)\n",
    "df2 = trips_compare_df[['Date','Trips']].copy()\n",
    "df2.rename(columns={'Date':'ds', 'Trips':'y'}, inplace=True)\n",
    "#evaluate_prophet_model(df2)\n",
    "\n",
    "split_point = len(df2) - 5\n",
    "test = df2.loc[split_point:]\n",
    "\n",
    "model = Prophet(interval_width=0.90)\n",
    "model_fit = model.fit(df2)\n",
    "\n",
    "dates = test[\"ds\"].to_list()\n",
    "\n",
    "cutoffs = pd.date_range(start='2019-01-01', end='2019-11-01', freq='1M')\n",
    "\n",
    "#hor = np.abs(np.max(dates[:-1]) - np.min(dates)) - 1\n",
    "\n",
    "df_cv = cross_validation(model_fit, horizon='30 days', cutoffs=cutoffs, parallel=\"processes\")\n",
    "\n",
    "df_p = performance_metrics(df_cv)\n",
    "# make predictions\n",
    "rmse = np.mean(df_p[\"rmse\"].to_list())\n",
    "print(f'RMSE:{rmse}')\n",
    "df_p"
   ]
  },
  {
   "cell_type": "code",
   "execution_count": 21,
   "metadata": {},
   "outputs": [
    {
     "data": {
      "text/html": [
       "<div>\n",
       "<style scoped>\n",
       "    .dataframe tbody tr th:only-of-type {\n",
       "        vertical-align: middle;\n",
       "    }\n",
       "\n",
       "    .dataframe tbody tr th {\n",
       "        vertical-align: top;\n",
       "    }\n",
       "\n",
       "    .dataframe thead th {\n",
       "        text-align: right;\n",
       "    }\n",
       "</style>\n",
       "<table border=\"1\" class=\"dataframe\">\n",
       "  <thead>\n",
       "    <tr style=\"text-align: right;\">\n",
       "      <th></th>\n",
       "      <th>ds</th>\n",
       "      <th>yhat</th>\n",
       "      <th>yhat_lower</th>\n",
       "      <th>yhat_upper</th>\n",
       "    </tr>\n",
       "  </thead>\n",
       "  <tbody>\n",
       "    <tr>\n",
       "      <th>247</th>\n",
       "      <td>2022-02-07</td>\n",
       "      <td>8.627876e+06</td>\n",
       "      <td>1.197445e+06</td>\n",
       "      <td>1.554492e+07</td>\n",
       "    </tr>\n",
       "    <tr>\n",
       "      <th>248</th>\n",
       "      <td>2022-02-08</td>\n",
       "      <td>7.421130e+06</td>\n",
       "      <td>-2.269155e+05</td>\n",
       "      <td>1.456370e+07</td>\n",
       "    </tr>\n",
       "    <tr>\n",
       "      <th>249</th>\n",
       "      <td>2022-02-09</td>\n",
       "      <td>6.131769e+06</td>\n",
       "      <td>-1.631108e+06</td>\n",
       "      <td>1.284093e+07</td>\n",
       "    </tr>\n",
       "    <tr>\n",
       "      <th>250</th>\n",
       "      <td>2022-02-10</td>\n",
       "      <td>4.798040e+06</td>\n",
       "      <td>-2.120642e+06</td>\n",
       "      <td>1.221991e+07</td>\n",
       "    </tr>\n",
       "    <tr>\n",
       "      <th>251</th>\n",
       "      <td>2022-02-11</td>\n",
       "      <td>3.461016e+06</td>\n",
       "      <td>-3.849351e+06</td>\n",
       "      <td>9.907667e+06</td>\n",
       "    </tr>\n",
       "  </tbody>\n",
       "</table>\n",
       "</div>"
      ],
      "text/plain": [
       "            ds          yhat    yhat_lower    yhat_upper\n",
       "247 2022-02-07  8.627876e+06  1.197445e+06  1.554492e+07\n",
       "248 2022-02-08  7.421130e+06 -2.269155e+05  1.456370e+07\n",
       "249 2022-02-09  6.131769e+06 -1.631108e+06  1.284093e+07\n",
       "250 2022-02-10  4.798040e+06 -2.120642e+06  1.221991e+07\n",
       "251 2022-02-11  3.461016e+06 -3.849351e+06  9.907667e+06"
      ]
     },
     "execution_count": 21,
     "metadata": {},
     "output_type": "execute_result"
    }
   ],
   "source": [
    "future = model_fit.make_future_dataframe(periods=10)\n",
    "forecast = model_fit.predict(future)\n",
    "forecast[['ds', 'yhat', 'yhat_lower', 'yhat_upper']].tail()"
   ]
  },
  {
   "cell_type": "code",
   "execution_count": 22,
   "metadata": {},
   "outputs": [],
   "source": [
    "results_df = results_df.merge(forecast, left_on=\"ds\", right_on=\"ds\", how=\"inner\")\n",
    "results_df.rename(columns={\"yhat\":\"y2hat\"}, inplace=True)"
   ]
  },
  {
   "cell_type": "code",
   "execution_count": 23,
   "metadata": {},
   "outputs": [
    {
     "data": {
      "application/vnd.plotly.v1+json": {
       "config": {
        "plotlyServerURL": "https://plotly.com"
       },
       "data": [
        {
         "mode": "lines",
         "name": "Actual",
         "type": "scatter",
         "x": [
          "2002-01-01T00:00:00",
          "2002-02-01T00:00:00",
          "2002-03-01T00:00:00",
          "2002-04-01T00:00:00",
          "2002-05-01T00:00:00",
          "2002-06-01T00:00:00",
          "2002-07-01T00:00:00",
          "2002-08-01T00:00:00",
          "2002-09-01T00:00:00",
          "2002-10-01T00:00:00",
          "2002-11-01T00:00:00",
          "2002-12-01T00:00:00",
          "2003-01-01T00:00:00",
          "2003-02-01T00:00:00",
          "2003-03-01T00:00:00",
          "2003-04-01T00:00:00",
          "2003-05-01T00:00:00",
          "2003-06-01T00:00:00",
          "2003-07-01T00:00:00",
          "2003-08-01T00:00:00",
          "2003-09-01T00:00:00",
          "2003-10-01T00:00:00",
          "2003-11-01T00:00:00",
          "2003-12-01T00:00:00",
          "2004-01-01T00:00:00",
          "2004-02-01T00:00:00",
          "2004-03-01T00:00:00",
          "2004-04-01T00:00:00",
          "2004-05-01T00:00:00",
          "2004-06-01T00:00:00",
          "2004-07-01T00:00:00",
          "2004-08-01T00:00:00",
          "2004-09-01T00:00:00",
          "2004-10-01T00:00:00",
          "2004-11-01T00:00:00",
          "2004-12-01T00:00:00",
          "2005-01-01T00:00:00",
          "2005-02-01T00:00:00",
          "2005-03-01T00:00:00",
          "2005-04-01T00:00:00",
          "2005-05-01T00:00:00",
          "2005-06-01T00:00:00",
          "2005-07-01T00:00:00",
          "2005-08-01T00:00:00",
          "2005-09-01T00:00:00",
          "2005-10-01T00:00:00",
          "2005-11-01T00:00:00",
          "2005-12-01T00:00:00",
          "2006-01-01T00:00:00",
          "2006-02-01T00:00:00",
          "2006-03-01T00:00:00",
          "2006-04-01T00:00:00",
          "2006-05-01T00:00:00",
          "2006-06-01T00:00:00",
          "2006-07-01T00:00:00",
          "2006-08-01T00:00:00",
          "2006-09-01T00:00:00",
          "2006-10-01T00:00:00",
          "2006-11-01T00:00:00",
          "2006-12-01T00:00:00",
          "2007-01-01T00:00:00",
          "2007-02-01T00:00:00",
          "2007-03-01T00:00:00",
          "2007-04-01T00:00:00",
          "2007-05-01T00:00:00",
          "2007-06-01T00:00:00",
          "2007-07-01T00:00:00",
          "2007-08-01T00:00:00",
          "2007-09-01T00:00:00",
          "2007-10-01T00:00:00",
          "2007-11-01T00:00:00",
          "2007-12-01T00:00:00",
          "2008-01-01T00:00:00",
          "2008-02-01T00:00:00",
          "2008-03-01T00:00:00",
          "2008-04-01T00:00:00",
          "2008-05-01T00:00:00",
          "2008-06-01T00:00:00",
          "2008-07-01T00:00:00",
          "2008-08-01T00:00:00",
          "2008-09-01T00:00:00",
          "2008-10-01T00:00:00",
          "2008-11-01T00:00:00",
          "2008-12-01T00:00:00",
          "2009-01-01T00:00:00",
          "2009-02-01T00:00:00",
          "2009-03-01T00:00:00",
          "2009-04-01T00:00:00",
          "2009-05-01T00:00:00",
          "2009-06-01T00:00:00",
          "2009-07-01T00:00:00",
          "2009-08-01T00:00:00",
          "2009-09-01T00:00:00",
          "2009-10-01T00:00:00",
          "2009-11-01T00:00:00",
          "2009-12-01T00:00:00",
          "2010-01-01T00:00:00",
          "2010-02-01T00:00:00",
          "2010-03-01T00:00:00",
          "2010-04-01T00:00:00",
          "2010-05-01T00:00:00",
          "2010-06-01T00:00:00",
          "2010-07-01T00:00:00",
          "2010-08-01T00:00:00",
          "2010-09-01T00:00:00",
          "2010-10-01T00:00:00",
          "2010-11-01T00:00:00",
          "2010-12-01T00:00:00",
          "2011-01-01T00:00:00",
          "2011-02-01T00:00:00",
          "2011-03-01T00:00:00",
          "2011-04-01T00:00:00",
          "2011-05-01T00:00:00",
          "2011-06-01T00:00:00",
          "2011-07-01T00:00:00",
          "2011-08-01T00:00:00",
          "2011-09-01T00:00:00",
          "2011-10-01T00:00:00",
          "2011-11-01T00:00:00",
          "2011-12-01T00:00:00",
          "2012-01-01T00:00:00",
          "2012-02-01T00:00:00",
          "2012-03-01T00:00:00",
          "2012-04-01T00:00:00",
          "2012-05-01T00:00:00",
          "2012-06-01T00:00:00",
          "2012-07-01T00:00:00",
          "2012-08-01T00:00:00",
          "2012-09-01T00:00:00",
          "2012-10-01T00:00:00",
          "2012-11-01T00:00:00",
          "2012-12-01T00:00:00",
          "2013-01-01T00:00:00",
          "2013-02-01T00:00:00",
          "2013-03-01T00:00:00",
          "2013-04-01T00:00:00",
          "2013-05-01T00:00:00",
          "2013-06-01T00:00:00",
          "2013-07-01T00:00:00",
          "2013-08-01T00:00:00",
          "2013-09-01T00:00:00",
          "2013-10-01T00:00:00",
          "2013-11-01T00:00:00",
          "2013-12-01T00:00:00",
          "2014-01-01T00:00:00",
          "2014-02-01T00:00:00",
          "2014-03-01T00:00:00",
          "2014-04-01T00:00:00",
          "2014-05-01T00:00:00",
          "2014-06-01T00:00:00",
          "2014-07-01T00:00:00",
          "2014-08-01T00:00:00",
          "2014-09-01T00:00:00",
          "2014-10-01T00:00:00",
          "2014-11-01T00:00:00",
          "2014-12-01T00:00:00",
          "2015-01-01T00:00:00",
          "2015-02-01T00:00:00",
          "2015-03-01T00:00:00",
          "2015-04-01T00:00:00",
          "2015-05-01T00:00:00",
          "2015-06-01T00:00:00",
          "2015-07-01T00:00:00",
          "2015-08-01T00:00:00",
          "2015-09-01T00:00:00",
          "2015-10-01T00:00:00",
          "2015-11-01T00:00:00",
          "2015-12-01T00:00:00",
          "2016-01-01T00:00:00",
          "2016-02-01T00:00:00",
          "2016-03-01T00:00:00",
          "2016-04-01T00:00:00",
          "2016-05-01T00:00:00",
          "2016-06-01T00:00:00",
          "2016-07-01T00:00:00",
          "2016-08-01T00:00:00",
          "2016-09-01T00:00:00",
          "2016-10-01T00:00:00",
          "2016-11-01T00:00:00",
          "2016-12-01T00:00:00",
          "2017-01-01T00:00:00",
          "2017-02-01T00:00:00",
          "2017-03-01T00:00:00",
          "2017-04-01T00:00:00",
          "2017-05-01T00:00:00",
          "2017-06-01T00:00:00",
          "2017-07-01T00:00:00",
          "2017-08-01T00:00:00",
          "2017-09-01T00:00:00",
          "2017-10-01T00:00:00",
          "2017-11-01T00:00:00",
          "2017-12-01T00:00:00",
          "2018-01-01T00:00:00",
          "2018-02-01T00:00:00",
          "2018-03-01T00:00:00",
          "2018-04-01T00:00:00",
          "2018-05-01T00:00:00",
          "2018-06-01T00:00:00",
          "2018-07-01T00:00:00",
          "2018-08-01T00:00:00",
          "2018-09-01T00:00:00",
          "2018-10-01T00:00:00",
          "2018-11-01T00:00:00",
          "2018-12-01T00:00:00",
          "2019-01-01T00:00:00",
          "2019-02-01T00:00:00",
          "2019-03-01T00:00:00",
          "2019-04-01T00:00:00",
          "2019-05-01T00:00:00",
          "2019-06-01T00:00:00",
          "2019-07-01T00:00:00",
          "2019-08-01T00:00:00",
          "2019-09-01T00:00:00",
          "2019-10-01T00:00:00",
          "2019-11-01T00:00:00",
          "2019-12-01T00:00:00",
          "2020-01-01T00:00:00",
          "2020-02-01T00:00:00",
          "2020-03-01T00:00:00",
          "2020-04-01T00:00:00",
          "2020-05-01T00:00:00",
          "2020-06-01T00:00:00",
          "2020-07-01T00:00:00",
          "2020-08-01T00:00:00",
          "2020-09-01T00:00:00",
          "2020-10-01T00:00:00",
          "2020-11-01T00:00:00",
          "2020-12-01T00:00:00",
          "2021-01-01T00:00:00",
          "2021-02-01T00:00:00",
          "2021-03-01T00:00:00",
          "2021-04-01T00:00:00",
          "2021-05-01T00:00:00",
          "2021-06-01T00:00:00",
          "2021-07-01T00:00:00",
          "2021-08-01T00:00:00",
          "2021-09-01T00:00:00",
          "2021-10-01T00:00:00",
          "2021-11-01T00:00:00",
          "2021-12-01T00:00:00",
          "2022-01-01T00:00:00",
          "2022-02-01T00:00:00"
         ],
         "y": [
          45374133,
          42725560,
          45008425,
          46274063,
          47975030,
          45463205,
          47173566,
          46545093,
          47585430,
          51212121,
          45116103,
          43205619,
          43799639,
          41301013,
          44864243,
          45061624,
          45894068,
          45122763,
          46050917,
          44219133,
          47799593,
          50258439,
          42271620,
          42351938,
          41920122,
          41887574,
          46615606,
          44726571,
          44645673,
          46425893,
          45344434,
          44670236,
          47852704,
          48755589,
          45179643,
          42238741,
          42902664,
          43073983,
          46755671,
          46718603,
          47234274,
          48468810,
          46131827,
          47893864,
          50618537,
          50835301,
          46557946,
          43584727,
          44221001,
          42706090,
          48909317,
          45220349,
          49425482,
          48022119,
          47084590,
          48537618,
          49191674,
          51103411,
          47370701,
          43876811,
          45707178,
          41308176,
          49051888,
          46461749,
          50564676,
          48624234,
          49106262,
          49348686,
          49408879,
          53763265,
          47812964,
          43600664,
          47180426,
          45134848,
          47681352,
          51242007,
          52015069,
          51415800,
          53772203,
          52220537,
          53656072,
          56710521,
          48012591,
          45043472,
          46227077,
          45786884,
          50321145,
          49206550,
          50133172,
          50260840,
          51815889,
          49471816,
          52159106,
          53440036,
          48513334,
          45458159,
          46078674,
          45029796,
          50294169,
          49514936,
          49026017,
          50166374,
          49819251,
          50498265,
          51790308,
          52545430,
          48619122,
          43972886,
          46271244,
          44012149,
          52033064,
          49338889,
          50787521,
          52007095,
          50207986,
          53178913,
          53394239,
          54397199,
          50746404,
          47891525,
          48504208,
          49579062,
          53885397,
          50565546,
          53127765,
          52346786,
          50819976,
          54018859,
          52486570,
          57031931,
          51336263,
          46122139,
          48316431,
          46368088,
          50146849,
          51172339,
          52396166,
          50495404,
          51707183,
          51663916,
          52316031,
          55143398,
          48336810,
          44772956,
          43745424,
          45255354,
          50738062,
          50398186,
          51093653,
          49144278,
          50112960,
          49082939,
          51907140,
          54537187,
          46249917,
          46333855,
          45390576,
          43717351,
          50614204,
          49528696,
          49678737,
          50830217,
          51357966,
          49389895,
          51649970,
          53883457,
          46995125,
          45559808,
          44759891,
          45653701,
          49678160,
          47313990,
          48494979,
          48995110,
          47321645,
          48209953,
          49589411,
          50875198,
          47225221,
          41876599,
          43536829,
          42465200,
          47528225,
          44341164,
          47762602,
          47820826,
          45333308,
          47950975,
          47934850,
          49659957,
          45134777,
          40558720,
          42583977,
          40111635,
          45433910,
          44413108,
          46860214,
          45364298,
          45184370,
          46676871,
          46132397,
          50301245,
          43614727,
          39837450,
          38259066,
          39209766,
          43243099,
          43634717,
          45740709,
          43843778,
          44550582,
          44901905,
          45207578,
          48090776,
          41478810,
          39039418,
          41836616,
          40026463,
          25602307,
          8308221,
          9286416,
          10739462,
          13484927,
          13409947,
          13802738,
          14279774,
          11808555,
          11645398,
          11289281,
          10951774,
          14288233,
          14598969,
          15843366,
          17855995,
          20200667,
          20587825,
          22645601,
          22610646,
          20579332,
          18609622,
          15365759,
          17576364
         ]
        },
        {
         "mode": "lines",
         "name": "Prepandamic",
         "type": "scatter",
         "x": [
          "2002-01-01T00:00:00",
          "2002-02-01T00:00:00",
          "2002-03-01T00:00:00",
          "2002-04-01T00:00:00",
          "2002-05-01T00:00:00",
          "2002-06-01T00:00:00",
          "2002-07-01T00:00:00",
          "2002-08-01T00:00:00",
          "2002-09-01T00:00:00",
          "2002-10-01T00:00:00",
          "2002-11-01T00:00:00",
          "2002-12-01T00:00:00",
          "2003-01-01T00:00:00",
          "2003-02-01T00:00:00",
          "2003-03-01T00:00:00",
          "2003-04-01T00:00:00",
          "2003-05-01T00:00:00",
          "2003-06-01T00:00:00",
          "2003-07-01T00:00:00",
          "2003-08-01T00:00:00",
          "2003-09-01T00:00:00",
          "2003-10-01T00:00:00",
          "2003-11-01T00:00:00",
          "2003-12-01T00:00:00",
          "2004-01-01T00:00:00",
          "2004-02-01T00:00:00",
          "2004-03-01T00:00:00",
          "2004-04-01T00:00:00",
          "2004-05-01T00:00:00",
          "2004-06-01T00:00:00",
          "2004-07-01T00:00:00",
          "2004-08-01T00:00:00",
          "2004-09-01T00:00:00",
          "2004-10-01T00:00:00",
          "2004-11-01T00:00:00",
          "2004-12-01T00:00:00",
          "2005-01-01T00:00:00",
          "2005-02-01T00:00:00",
          "2005-03-01T00:00:00",
          "2005-04-01T00:00:00",
          "2005-05-01T00:00:00",
          "2005-06-01T00:00:00",
          "2005-07-01T00:00:00",
          "2005-08-01T00:00:00",
          "2005-09-01T00:00:00",
          "2005-10-01T00:00:00",
          "2005-11-01T00:00:00",
          "2005-12-01T00:00:00",
          "2006-01-01T00:00:00",
          "2006-02-01T00:00:00",
          "2006-03-01T00:00:00",
          "2006-04-01T00:00:00",
          "2006-05-01T00:00:00",
          "2006-06-01T00:00:00",
          "2006-07-01T00:00:00",
          "2006-08-01T00:00:00",
          "2006-09-01T00:00:00",
          "2006-10-01T00:00:00",
          "2006-11-01T00:00:00",
          "2006-12-01T00:00:00",
          "2007-01-01T00:00:00",
          "2007-02-01T00:00:00",
          "2007-03-01T00:00:00",
          "2007-04-01T00:00:00",
          "2007-05-01T00:00:00",
          "2007-06-01T00:00:00",
          "2007-07-01T00:00:00",
          "2007-08-01T00:00:00",
          "2007-09-01T00:00:00",
          "2007-10-01T00:00:00",
          "2007-11-01T00:00:00",
          "2007-12-01T00:00:00",
          "2008-01-01T00:00:00",
          "2008-02-01T00:00:00",
          "2008-03-01T00:00:00",
          "2008-04-01T00:00:00",
          "2008-05-01T00:00:00",
          "2008-06-01T00:00:00",
          "2008-07-01T00:00:00",
          "2008-08-01T00:00:00",
          "2008-09-01T00:00:00",
          "2008-10-01T00:00:00",
          "2008-11-01T00:00:00",
          "2008-12-01T00:00:00",
          "2009-01-01T00:00:00",
          "2009-02-01T00:00:00",
          "2009-03-01T00:00:00",
          "2009-04-01T00:00:00",
          "2009-05-01T00:00:00",
          "2009-06-01T00:00:00",
          "2009-07-01T00:00:00",
          "2009-08-01T00:00:00",
          "2009-09-01T00:00:00",
          "2009-10-01T00:00:00",
          "2009-11-01T00:00:00",
          "2009-12-01T00:00:00",
          "2010-01-01T00:00:00",
          "2010-02-01T00:00:00",
          "2010-03-01T00:00:00",
          "2010-04-01T00:00:00",
          "2010-05-01T00:00:00",
          "2010-06-01T00:00:00",
          "2010-07-01T00:00:00",
          "2010-08-01T00:00:00",
          "2010-09-01T00:00:00",
          "2010-10-01T00:00:00",
          "2010-11-01T00:00:00",
          "2010-12-01T00:00:00",
          "2011-01-01T00:00:00",
          "2011-02-01T00:00:00",
          "2011-03-01T00:00:00",
          "2011-04-01T00:00:00",
          "2011-05-01T00:00:00",
          "2011-06-01T00:00:00",
          "2011-07-01T00:00:00",
          "2011-08-01T00:00:00",
          "2011-09-01T00:00:00",
          "2011-10-01T00:00:00",
          "2011-11-01T00:00:00",
          "2011-12-01T00:00:00",
          "2012-01-01T00:00:00",
          "2012-02-01T00:00:00",
          "2012-03-01T00:00:00",
          "2012-04-01T00:00:00",
          "2012-05-01T00:00:00",
          "2012-06-01T00:00:00",
          "2012-07-01T00:00:00",
          "2012-08-01T00:00:00",
          "2012-09-01T00:00:00",
          "2012-10-01T00:00:00",
          "2012-11-01T00:00:00",
          "2012-12-01T00:00:00",
          "2013-01-01T00:00:00",
          "2013-02-01T00:00:00",
          "2013-03-01T00:00:00",
          "2013-04-01T00:00:00",
          "2013-05-01T00:00:00",
          "2013-06-01T00:00:00",
          "2013-07-01T00:00:00",
          "2013-08-01T00:00:00",
          "2013-09-01T00:00:00",
          "2013-10-01T00:00:00",
          "2013-11-01T00:00:00",
          "2013-12-01T00:00:00",
          "2014-01-01T00:00:00",
          "2014-02-01T00:00:00",
          "2014-03-01T00:00:00",
          "2014-04-01T00:00:00",
          "2014-05-01T00:00:00",
          "2014-06-01T00:00:00",
          "2014-07-01T00:00:00",
          "2014-08-01T00:00:00",
          "2014-09-01T00:00:00",
          "2014-10-01T00:00:00",
          "2014-11-01T00:00:00",
          "2014-12-01T00:00:00",
          "2015-01-01T00:00:00",
          "2015-02-01T00:00:00",
          "2015-03-01T00:00:00",
          "2015-04-01T00:00:00",
          "2015-05-01T00:00:00",
          "2015-06-01T00:00:00",
          "2015-07-01T00:00:00",
          "2015-08-01T00:00:00",
          "2015-09-01T00:00:00",
          "2015-10-01T00:00:00",
          "2015-11-01T00:00:00",
          "2015-12-01T00:00:00",
          "2016-01-01T00:00:00",
          "2016-02-01T00:00:00",
          "2016-03-01T00:00:00",
          "2016-04-01T00:00:00",
          "2016-05-01T00:00:00",
          "2016-06-01T00:00:00",
          "2016-07-01T00:00:00",
          "2016-08-01T00:00:00",
          "2016-09-01T00:00:00",
          "2016-10-01T00:00:00",
          "2016-11-01T00:00:00",
          "2016-12-01T00:00:00",
          "2017-01-01T00:00:00",
          "2017-02-01T00:00:00",
          "2017-03-01T00:00:00",
          "2017-04-01T00:00:00",
          "2017-05-01T00:00:00",
          "2017-06-01T00:00:00",
          "2017-07-01T00:00:00",
          "2017-08-01T00:00:00",
          "2017-09-01T00:00:00",
          "2017-10-01T00:00:00",
          "2017-11-01T00:00:00",
          "2017-12-01T00:00:00",
          "2018-01-01T00:00:00",
          "2018-02-01T00:00:00",
          "2018-03-01T00:00:00",
          "2018-04-01T00:00:00",
          "2018-05-01T00:00:00",
          "2018-06-01T00:00:00",
          "2018-07-01T00:00:00",
          "2018-08-01T00:00:00",
          "2018-09-01T00:00:00",
          "2018-10-01T00:00:00",
          "2018-11-01T00:00:00",
          "2018-12-01T00:00:00",
          "2019-01-01T00:00:00",
          "2019-02-01T00:00:00",
          "2019-03-01T00:00:00",
          "2019-04-01T00:00:00",
          "2019-05-01T00:00:00",
          "2019-06-01T00:00:00",
          "2019-07-01T00:00:00",
          "2019-08-01T00:00:00",
          "2019-09-01T00:00:00",
          "2019-10-01T00:00:00",
          "2019-11-01T00:00:00",
          "2019-12-01T00:00:00",
          "2020-01-01T00:00:00",
          "2020-02-01T00:00:00",
          "2020-03-01T00:00:00",
          "2020-04-01T00:00:00",
          "2020-05-01T00:00:00",
          "2020-06-01T00:00:00",
          "2020-07-01T00:00:00",
          "2020-08-01T00:00:00",
          "2020-09-01T00:00:00",
          "2020-10-01T00:00:00",
          "2020-11-01T00:00:00",
          "2020-12-01T00:00:00",
          "2021-01-01T00:00:00",
          "2021-02-01T00:00:00",
          "2021-03-01T00:00:00",
          "2021-04-01T00:00:00",
          "2021-05-01T00:00:00",
          "2021-06-01T00:00:00",
          "2021-07-01T00:00:00",
          "2021-08-01T00:00:00",
          "2021-09-01T00:00:00",
          "2021-10-01T00:00:00",
          "2021-11-01T00:00:00",
          "2021-12-01T00:00:00",
          "2022-01-01T00:00:00",
          "2022-02-01T00:00:00"
         ],
         "y": [
          42630344.31381252,
          41470211.007078975,
          46331737.49086672,
          45350882.355031654,
          46995634.701616645,
          46451270.82378216,
          46458308.129235156,
          46696731.321561165,
          47916656.23871012,
          50287045.865582325,
          44470710.559165075,
          41639806.338579275,
          42427753.55733312,
          41418115.24838084,
          45989071.14012844,
          45035979.696405105,
          46947691.15023254,
          46156043.85981024,
          46453812.07627542,
          46500118.95261334,
          47690589.552748285,
          50164597.4680099,
          44011779.54118929,
          41823502.266169794,
          42315704.93310748,
          41487579.305627674,
          46430980.945901215,
          45448515.502591655,
          46625401.09324119,
          46650846.0293601,
          46146787.05256339,
          46833133.38153913,
          48192159.230954744,
          50417143.21150455,
          45435556.95164196,
          41472891.73331312,
          42985390.249848574,
          41766508.22514013,
          46998654.8500378,
          46089363.41225921,
          47553724.416494146,
          47348568.10379344,
          47152890.21294795,
          47671503.62389545,
          49014427.60496318,
          51366461.60763337,
          46017770.746858135,
          42664377.83358909,
          43863953.80475016,
          42795520.83126564,
          47739873.4225031,
          46850718.61991675,
          48584213.22448543,
          48131549.67989963,
          48227329.24333787,
          48557452.76891052,
          49869078.0242371,
          52328209.91386211,
          46603574.945618615,
          43861412.987789586,
          44741060.5447187,
          43823122.57394469,
          48476904.57759182,
          47615513.460272774,
          49615967.16546308,
          48916020.20144332,
          49302530.66926969,
          49440537.872011036,
          50722708.798550464,
          53285458.96490967,
          47193308.36568804,
          45063741.40770481,
          45616611.40224144,
          44849153.102363445,
          49849308.04910274,
          48927509.933394715,
          50099936.162608035,
          50120773.09190961,
          49612254.75367715,
          50293993.07583662,
          51648410.91843545,
          53868935.53754902,
          48882741.27086852,
          44883501.50846793,
          46358206.3294612,
          45101530.609214276,
          50299540.992976174,
          49352455.85965574,
          50780242.3198202,
          50537292.31157595,
          50305039.87117127,
          50785859.580910355,
          52090989.86076809,
          54406449.31387986,
          49019964.75189438,
          45629997.28906643,
          46791779.559017316,
          45685552.88200467,
          50595769.22489327,
          49668820.7187791,
          51365740.771545686,
          50875283.52342931,
          50934488.53506477,
          51226818.35710916,
          52500649.92535329,
          54923207.279092126,
          49160778.62376492,
          46382042.1300504,
          47223895.9998959,
          46268164.34204122,
          50887810.112887494,
          49988625.308090664,
          51952504.47701458,
          51214763.825516135,
          51564699.75707688,
          51664913.27234176,
          52909290.51140401,
          55435466.14060144,
          49305521.85298103,
          47139380.35783717,
          47654456.66397186,
          46849204.67569497,
          51814004.23651106,
          50854412.43240266,
          51965607.4782985,
          51923172.184838936,
          51353422.66328842,
          51971888.76268724,
          53263034.38252411,
          55422327.818321474,
          50372861.32887803,
          46281864.44724138,
          47661753.578357756,
          46310262.16823294,
          51422632.574042,
          50380731.75084365,
          51716761.091771394,
          51378995.39365043,
          51038972.98283865,
          51408430.38982205,
          52602198.36692449,
          54809887.84962816,
          49312040.98488689,
          45814303.55165155,
          46864723.51884819,
          45647134.54001702,
          50456765.57803706,
          49418454.770106375,
          51007604.85337083,
          50405785.30343686,
          50357220.34557041,
          50538187.86551978,
          51700657.11094428,
          54015444.474859096,
          48141653.49671162,
          45255147.01317197,
          45985638.56019927,
          44918544.57952487,
          49429335.691136904,
          48409633.227902934,
          50256882.404789634,
          49398624.09485455,
          49631930.03437824,
          49611625.89120531,
          50735485.47183072,
          53118115.3762261,
          46839840.50630906,
          44530153.286364034,
          44896899.01020363,
          43943316.43963215,
          48769355.13313896,
          47661432.7467354,
          48669908.65318377,
          48521330.24896281,
          47848861.58796549,
          48361184.576600954,
          49546187.08567559,
          51602761.38202522,
          46447151.78182022,
          42299640.8755874,
          43621132.18128488,
          42211242.94574171,
          47270866.92859288,
          46170568.27997549,
          47450083.59630598,
          47053920.07276909,
          46673396.49121506,
          47001002.68843463,
          48152919.455773145,
          50320107.767737836,
          44780409.69323331,
          41242171.08925639,
          42250739.84668892,
          40991299.65790851,
          45763129.6030701,
          44682967.58518773,
          46231616.49753314,
          45587945.737649985,
          45498879.60886524,
          45637995.91914139,
          46758613.95489489,
          49032900.148159534,
          43117257.96034098,
          40190250.306150675,
          40878890.64350803,
          39769945.45316013,
          44251204.80687042,
          43198806.46881603,
          45014414.47652388,
          44123460.29176853,
          44325125.062112935,
          44272125.04411798,
          45363288.74992415,
          47741193.21906168,
          41458035.399377406,
          39143622.74417455,
          39505485.51824645,
          38547019.9979079,
          43368490.77066542,
          42255685.434496276,
          43264161.34094428,
          43115582.9367227,
          42443114.275726974,
          42955437.26436138,
          44140439.773436464,
          46197014.06978626,
          41041404.4695817,
          36893893.56334782,
          38215384.86904489,
          36805495.63350232,
          41865119.616353326,
          40764820.96773735,
          42044336.28406787,
          41648172.76052966,
          41267649.178978,
          41595255.37619504,
          42747172.14353396,
          44914360.45549787,
          39374662.38099363,
          35836423.777018294,
          36844992.534449026,
          35585552.345668174
         ]
        },
        {
         "mode": "lines",
         "name": "Pandamic",
         "type": "scatter",
         "x": [
          "2002-01-01T00:00:00",
          "2002-02-01T00:00:00",
          "2002-03-01T00:00:00",
          "2002-04-01T00:00:00",
          "2002-05-01T00:00:00",
          "2002-06-01T00:00:00",
          "2002-07-01T00:00:00",
          "2002-08-01T00:00:00",
          "2002-09-01T00:00:00",
          "2002-10-01T00:00:00",
          "2002-11-01T00:00:00",
          "2002-12-01T00:00:00",
          "2003-01-01T00:00:00",
          "2003-02-01T00:00:00",
          "2003-03-01T00:00:00",
          "2003-04-01T00:00:00",
          "2003-05-01T00:00:00",
          "2003-06-01T00:00:00",
          "2003-07-01T00:00:00",
          "2003-08-01T00:00:00",
          "2003-09-01T00:00:00",
          "2003-10-01T00:00:00",
          "2003-11-01T00:00:00",
          "2003-12-01T00:00:00",
          "2004-01-01T00:00:00",
          "2004-02-01T00:00:00",
          "2004-03-01T00:00:00",
          "2004-04-01T00:00:00",
          "2004-05-01T00:00:00",
          "2004-06-01T00:00:00",
          "2004-07-01T00:00:00",
          "2004-08-01T00:00:00",
          "2004-09-01T00:00:00",
          "2004-10-01T00:00:00",
          "2004-11-01T00:00:00",
          "2004-12-01T00:00:00",
          "2005-01-01T00:00:00",
          "2005-02-01T00:00:00",
          "2005-03-01T00:00:00",
          "2005-04-01T00:00:00",
          "2005-05-01T00:00:00",
          "2005-06-01T00:00:00",
          "2005-07-01T00:00:00",
          "2005-08-01T00:00:00",
          "2005-09-01T00:00:00",
          "2005-10-01T00:00:00",
          "2005-11-01T00:00:00",
          "2005-12-01T00:00:00",
          "2006-01-01T00:00:00",
          "2006-02-01T00:00:00",
          "2006-03-01T00:00:00",
          "2006-04-01T00:00:00",
          "2006-05-01T00:00:00",
          "2006-06-01T00:00:00",
          "2006-07-01T00:00:00",
          "2006-08-01T00:00:00",
          "2006-09-01T00:00:00",
          "2006-10-01T00:00:00",
          "2006-11-01T00:00:00",
          "2006-12-01T00:00:00",
          "2007-01-01T00:00:00",
          "2007-02-01T00:00:00",
          "2007-03-01T00:00:00",
          "2007-04-01T00:00:00",
          "2007-05-01T00:00:00",
          "2007-06-01T00:00:00",
          "2007-07-01T00:00:00",
          "2007-08-01T00:00:00",
          "2007-09-01T00:00:00",
          "2007-10-01T00:00:00",
          "2007-11-01T00:00:00",
          "2007-12-01T00:00:00",
          "2008-01-01T00:00:00",
          "2008-02-01T00:00:00",
          "2008-03-01T00:00:00",
          "2008-04-01T00:00:00",
          "2008-05-01T00:00:00",
          "2008-06-01T00:00:00",
          "2008-07-01T00:00:00",
          "2008-08-01T00:00:00",
          "2008-09-01T00:00:00",
          "2008-10-01T00:00:00",
          "2008-11-01T00:00:00",
          "2008-12-01T00:00:00",
          "2009-01-01T00:00:00",
          "2009-02-01T00:00:00",
          "2009-03-01T00:00:00",
          "2009-04-01T00:00:00",
          "2009-05-01T00:00:00",
          "2009-06-01T00:00:00",
          "2009-07-01T00:00:00",
          "2009-08-01T00:00:00",
          "2009-09-01T00:00:00",
          "2009-10-01T00:00:00",
          "2009-11-01T00:00:00",
          "2009-12-01T00:00:00",
          "2010-01-01T00:00:00",
          "2010-02-01T00:00:00",
          "2010-03-01T00:00:00",
          "2010-04-01T00:00:00",
          "2010-05-01T00:00:00",
          "2010-06-01T00:00:00",
          "2010-07-01T00:00:00",
          "2010-08-01T00:00:00",
          "2010-09-01T00:00:00",
          "2010-10-01T00:00:00",
          "2010-11-01T00:00:00",
          "2010-12-01T00:00:00",
          "2011-01-01T00:00:00",
          "2011-02-01T00:00:00",
          "2011-03-01T00:00:00",
          "2011-04-01T00:00:00",
          "2011-05-01T00:00:00",
          "2011-06-01T00:00:00",
          "2011-07-01T00:00:00",
          "2011-08-01T00:00:00",
          "2011-09-01T00:00:00",
          "2011-10-01T00:00:00",
          "2011-11-01T00:00:00",
          "2011-12-01T00:00:00",
          "2012-01-01T00:00:00",
          "2012-02-01T00:00:00",
          "2012-03-01T00:00:00",
          "2012-04-01T00:00:00",
          "2012-05-01T00:00:00",
          "2012-06-01T00:00:00",
          "2012-07-01T00:00:00",
          "2012-08-01T00:00:00",
          "2012-09-01T00:00:00",
          "2012-10-01T00:00:00",
          "2012-11-01T00:00:00",
          "2012-12-01T00:00:00",
          "2013-01-01T00:00:00",
          "2013-02-01T00:00:00",
          "2013-03-01T00:00:00",
          "2013-04-01T00:00:00",
          "2013-05-01T00:00:00",
          "2013-06-01T00:00:00",
          "2013-07-01T00:00:00",
          "2013-08-01T00:00:00",
          "2013-09-01T00:00:00",
          "2013-10-01T00:00:00",
          "2013-11-01T00:00:00",
          "2013-12-01T00:00:00",
          "2014-01-01T00:00:00",
          "2014-02-01T00:00:00",
          "2014-03-01T00:00:00",
          "2014-04-01T00:00:00",
          "2014-05-01T00:00:00",
          "2014-06-01T00:00:00",
          "2014-07-01T00:00:00",
          "2014-08-01T00:00:00",
          "2014-09-01T00:00:00",
          "2014-10-01T00:00:00",
          "2014-11-01T00:00:00",
          "2014-12-01T00:00:00",
          "2015-01-01T00:00:00",
          "2015-02-01T00:00:00",
          "2015-03-01T00:00:00",
          "2015-04-01T00:00:00",
          "2015-05-01T00:00:00",
          "2015-06-01T00:00:00",
          "2015-07-01T00:00:00",
          "2015-08-01T00:00:00",
          "2015-09-01T00:00:00",
          "2015-10-01T00:00:00",
          "2015-11-01T00:00:00",
          "2015-12-01T00:00:00",
          "2016-01-01T00:00:00",
          "2016-02-01T00:00:00",
          "2016-03-01T00:00:00",
          "2016-04-01T00:00:00",
          "2016-05-01T00:00:00",
          "2016-06-01T00:00:00",
          "2016-07-01T00:00:00",
          "2016-08-01T00:00:00",
          "2016-09-01T00:00:00",
          "2016-10-01T00:00:00",
          "2016-11-01T00:00:00",
          "2016-12-01T00:00:00",
          "2017-01-01T00:00:00",
          "2017-02-01T00:00:00",
          "2017-03-01T00:00:00",
          "2017-04-01T00:00:00",
          "2017-05-01T00:00:00",
          "2017-06-01T00:00:00",
          "2017-07-01T00:00:00",
          "2017-08-01T00:00:00",
          "2017-09-01T00:00:00",
          "2017-10-01T00:00:00",
          "2017-11-01T00:00:00",
          "2017-12-01T00:00:00",
          "2018-01-01T00:00:00",
          "2018-02-01T00:00:00",
          "2018-03-01T00:00:00",
          "2018-04-01T00:00:00",
          "2018-05-01T00:00:00",
          "2018-06-01T00:00:00",
          "2018-07-01T00:00:00",
          "2018-08-01T00:00:00",
          "2018-09-01T00:00:00",
          "2018-10-01T00:00:00",
          "2018-11-01T00:00:00",
          "2018-12-01T00:00:00",
          "2019-01-01T00:00:00",
          "2019-02-01T00:00:00",
          "2019-03-01T00:00:00",
          "2019-04-01T00:00:00",
          "2019-05-01T00:00:00",
          "2019-06-01T00:00:00",
          "2019-07-01T00:00:00",
          "2019-08-01T00:00:00",
          "2019-09-01T00:00:00",
          "2019-10-01T00:00:00",
          "2019-11-01T00:00:00",
          "2019-12-01T00:00:00",
          "2020-01-01T00:00:00",
          "2020-02-01T00:00:00",
          "2020-03-01T00:00:00",
          "2020-04-01T00:00:00",
          "2020-05-01T00:00:00",
          "2020-06-01T00:00:00",
          "2020-07-01T00:00:00",
          "2020-08-01T00:00:00",
          "2020-09-01T00:00:00",
          "2020-10-01T00:00:00",
          "2020-11-01T00:00:00",
          "2020-12-01T00:00:00",
          "2021-01-01T00:00:00",
          "2021-02-01T00:00:00",
          "2021-03-01T00:00:00",
          "2021-04-01T00:00:00",
          "2021-05-01T00:00:00",
          "2021-06-01T00:00:00",
          "2021-07-01T00:00:00",
          "2021-08-01T00:00:00",
          "2021-09-01T00:00:00",
          "2021-10-01T00:00:00",
          "2021-11-01T00:00:00",
          "2021-12-01T00:00:00",
          "2022-01-01T00:00:00",
          "2022-02-01T00:00:00"
         ],
         "y": [
          42862523.46516187,
          42258931.38345803,
          45585310.269364886,
          44516742.87866883,
          46261101.0042913,
          45935151.354145266,
          46250552.192564204,
          46679775.2543818,
          48086397.35652442,
          50566458.13846998,
          45155444.189243115,
          42695446.91001898,
          43646973.48420971,
          42755032.11618832,
          45347433.009963945,
          45307010.23772017,
          47204659.199757904,
          46335510.77139871,
          46655463.85289859,
          47020573.59216975,
          48444534.1756146,
          51321296.15760079,
          45390430.4479714,
          43425957.91622405,
          44425323.19223427,
          43238086.27132898,
          48047315.84644307,
          44957024.52596258,
          46332231.0060498,
          47075543.39883082,
          47397615.07465802,
          47965565.43906841,
          49354073.0073903,
          51021601.739530236,
          46659185.767519824,
          43221224.57223488,
          44040322.46659373,
          43717673.253518336,
          47797506.64504709,
          45711970.42136096,
          47282056.0896193,
          47493784.203226656,
          47809959.05820715,
          48306820.62466504,
          49701590.89245239,
          51778467.314866945,
          46890400.31396813,
          43939071.770618044,
          44830476.23142748,
          44226884.150467455,
          47553263.03704479,
          46484695.6471004,
          48229053.773447156,
          47903104.124044456,
          48218504.963188045,
          48647728.027305655,
          50054350.13175218,
          52534410.91585396,
          47123396.96885335,
          44663399.69178885,
          45614926.26820641,
          44722984.90241018,
          47315385.79752085,
          47274963.026769266,
          49172611.98873118,
          48303463.560285054,
          48623416.64171066,
          48988526.38089711,
          50412486.964261375,
          53289248.94617479,
          47358383.23485261,
          45393910.70147955,
          46393275.976457216,
          45206039.054518364,
          50015268.62866594,
          46924977.30715431,
          48300183.78624268,
          49043496.177987136,
          49365567.10011904,
          49933516.685709804,
          51322023.47516801,
          52989551.45356588,
          48627134.702690266,
          45189172.75366305,
          46008269.86915724,
          45684457.0317729,
          49763239.40779358,
          47676539.55950053,
          49245499.13942904,
          49456063.62842415,
          49771112.395072855,
          50266810.336922295,
          51660416.98010023,
          53736164.27665958,
          48846930.5123727,
          45894472.84373021,
          46784710.54173759,
          46179951.697975524,
          49505276.73428048,
          48435542.58153306,
          50178771.58258772,
          49851641.954625346,
          50165900.879035555,
          50593943.96303961,
          51999386.08737465,
          54478304.95524041,
          49066111.02812473,
          46604971.834820986,
          47555318.43112598,
          46649894.40942923,
          49230117.42246237,
          49176211.99654971,
          51060813.22771228,
          50178182.1441068,
          50485087.49473166,
          50836714.5787657,
          52233777.41171191,
          55084509.31258246,
          49126745.8524532,
          47136243.23959032,
          48108710.76575591,
          46894576.09501064,
          51678643.258981064,
          48561454.18866107,
          49889662.35449813,
          50584409.822552465,
          50859483.184126124,
          51378868.623813406,
          52718811.26736162,
          54339341.68520944,
          49928360.78842752,
          46443401.27884553,
          47206883.139580525,
          46828617.89288096,
          50858217.447588354,
          48717065.18997706,
          50233328.88992348,
          50389440.96960593,
          50651793.85627254,
          51092665.763123795,
          52431446.37130456,
          54454139.25216238,
          49510082.591655724,
          46504570.5073136,
          47339985.30909991,
          46680403.56911585,
          49956211.15076493,
          48831572.021384016,
          50521667.17407809,
          50139645.785236485,
          50400783.65072317,
          50773934.97384598,
          52124485.33729637,
          54550283.14624271,
          49083197.45824438,
          46568922.59474501,
          47464362.33184709,
          46516334.12673607,
          49058075.941847,
          48961566.33252304,
          50804937.708767906,
          49879702.44174921,
          50118747.06328275,
          50400251.393917695,
          51740606.5687252,
          54536460.09074377,
          48521988.97247289,
          46476607.9807609,
          47392367.84878517,
          46121525.51989573,
          50792325.16005877,
          47554057.01256219,
          48786060.11166369,
          49381395.67742513,
          49560263.97226862,
          49980237.50966169,
          51220768.25092117,
          52745093.602033325,
          48129249.55836281,
          44446035.39050457,
          45011705.213201664,
          44435627.9284657,
          48286558.54559168,
          45947594.24994627,
          47272426.94534063,
          47063323.69525743,
          46972242.39182316,
          47048272.59459142,
          48022211.49868733,
          49691831.76269349,
          44382933.39810046,
          41024348.696902946,
          41494921.794607535,
          40261734.402432404,
          43019446.556300074,
          41321283.855144516,
          42456356.196447186,
          41500811.23583107,
          41206926.28992798,
          41006554.041275285,
          41783580.83295428,
          43654355.83050786,
          37613746.57073667,
          34544463.507119894,
          34866394.77077156,
          33344858.092206594,
          35368592.253876835,
          34698574.17109774,
          35986937.34723035,
          34488193.60675854,
          34198860.90235461,
          33934375.329518676,
          34728740.60085532,
          36996216.796939954,
          30435755.77519788,
          27861997.457548838,
          28231767.422101863,
          26414935.189746764,
          30635188.505754482,
          26915301.873827517,
          27681222.568635307,
          27794939.649962276,
          27507725.540515907,
          27446080.593473323,
          28204992.85029579,
          29263235.797116213,
          24271224.513612516,
          20223977.533000913,
          20413480.115861062,
          19461235.591290202,
          22972402.24985301,
          20257270.714369617,
          21218070.59702287,
          20800203.398828585,
          20507092.468201026,
          20374358.722861797,
          21139533.678851873,
          22607124.315659128,
          17089462.002962463,
          13528847.674569067,
          13790656.824163688,
          12557469.431992443
         ]
        }
       ],
       "layout": {
        "template": {
         "data": {
          "bar": [
           {
            "error_x": {
             "color": "#2a3f5f"
            },
            "error_y": {
             "color": "#2a3f5f"
            },
            "marker": {
             "line": {
              "color": "#E5ECF6",
              "width": 0.5
             },
             "pattern": {
              "fillmode": "overlay",
              "size": 10,
              "solidity": 0.2
             }
            },
            "type": "bar"
           }
          ],
          "barpolar": [
           {
            "marker": {
             "line": {
              "color": "#E5ECF6",
              "width": 0.5
             },
             "pattern": {
              "fillmode": "overlay",
              "size": 10,
              "solidity": 0.2
             }
            },
            "type": "barpolar"
           }
          ],
          "carpet": [
           {
            "aaxis": {
             "endlinecolor": "#2a3f5f",
             "gridcolor": "white",
             "linecolor": "white",
             "minorgridcolor": "white",
             "startlinecolor": "#2a3f5f"
            },
            "baxis": {
             "endlinecolor": "#2a3f5f",
             "gridcolor": "white",
             "linecolor": "white",
             "minorgridcolor": "white",
             "startlinecolor": "#2a3f5f"
            },
            "type": "carpet"
           }
          ],
          "choropleth": [
           {
            "colorbar": {
             "outlinewidth": 0,
             "ticks": ""
            },
            "type": "choropleth"
           }
          ],
          "contour": [
           {
            "colorbar": {
             "outlinewidth": 0,
             "ticks": ""
            },
            "colorscale": [
             [
              0,
              "#0d0887"
             ],
             [
              0.1111111111111111,
              "#46039f"
             ],
             [
              0.2222222222222222,
              "#7201a8"
             ],
             [
              0.3333333333333333,
              "#9c179e"
             ],
             [
              0.4444444444444444,
              "#bd3786"
             ],
             [
              0.5555555555555556,
              "#d8576b"
             ],
             [
              0.6666666666666666,
              "#ed7953"
             ],
             [
              0.7777777777777778,
              "#fb9f3a"
             ],
             [
              0.8888888888888888,
              "#fdca26"
             ],
             [
              1,
              "#f0f921"
             ]
            ],
            "type": "contour"
           }
          ],
          "contourcarpet": [
           {
            "colorbar": {
             "outlinewidth": 0,
             "ticks": ""
            },
            "type": "contourcarpet"
           }
          ],
          "heatmap": [
           {
            "colorbar": {
             "outlinewidth": 0,
             "ticks": ""
            },
            "colorscale": [
             [
              0,
              "#0d0887"
             ],
             [
              0.1111111111111111,
              "#46039f"
             ],
             [
              0.2222222222222222,
              "#7201a8"
             ],
             [
              0.3333333333333333,
              "#9c179e"
             ],
             [
              0.4444444444444444,
              "#bd3786"
             ],
             [
              0.5555555555555556,
              "#d8576b"
             ],
             [
              0.6666666666666666,
              "#ed7953"
             ],
             [
              0.7777777777777778,
              "#fb9f3a"
             ],
             [
              0.8888888888888888,
              "#fdca26"
             ],
             [
              1,
              "#f0f921"
             ]
            ],
            "type": "heatmap"
           }
          ],
          "heatmapgl": [
           {
            "colorbar": {
             "outlinewidth": 0,
             "ticks": ""
            },
            "colorscale": [
             [
              0,
              "#0d0887"
             ],
             [
              0.1111111111111111,
              "#46039f"
             ],
             [
              0.2222222222222222,
              "#7201a8"
             ],
             [
              0.3333333333333333,
              "#9c179e"
             ],
             [
              0.4444444444444444,
              "#bd3786"
             ],
             [
              0.5555555555555556,
              "#d8576b"
             ],
             [
              0.6666666666666666,
              "#ed7953"
             ],
             [
              0.7777777777777778,
              "#fb9f3a"
             ],
             [
              0.8888888888888888,
              "#fdca26"
             ],
             [
              1,
              "#f0f921"
             ]
            ],
            "type": "heatmapgl"
           }
          ],
          "histogram": [
           {
            "marker": {
             "pattern": {
              "fillmode": "overlay",
              "size": 10,
              "solidity": 0.2
             }
            },
            "type": "histogram"
           }
          ],
          "histogram2d": [
           {
            "colorbar": {
             "outlinewidth": 0,
             "ticks": ""
            },
            "colorscale": [
             [
              0,
              "#0d0887"
             ],
             [
              0.1111111111111111,
              "#46039f"
             ],
             [
              0.2222222222222222,
              "#7201a8"
             ],
             [
              0.3333333333333333,
              "#9c179e"
             ],
             [
              0.4444444444444444,
              "#bd3786"
             ],
             [
              0.5555555555555556,
              "#d8576b"
             ],
             [
              0.6666666666666666,
              "#ed7953"
             ],
             [
              0.7777777777777778,
              "#fb9f3a"
             ],
             [
              0.8888888888888888,
              "#fdca26"
             ],
             [
              1,
              "#f0f921"
             ]
            ],
            "type": "histogram2d"
           }
          ],
          "histogram2dcontour": [
           {
            "colorbar": {
             "outlinewidth": 0,
             "ticks": ""
            },
            "colorscale": [
             [
              0,
              "#0d0887"
             ],
             [
              0.1111111111111111,
              "#46039f"
             ],
             [
              0.2222222222222222,
              "#7201a8"
             ],
             [
              0.3333333333333333,
              "#9c179e"
             ],
             [
              0.4444444444444444,
              "#bd3786"
             ],
             [
              0.5555555555555556,
              "#d8576b"
             ],
             [
              0.6666666666666666,
              "#ed7953"
             ],
             [
              0.7777777777777778,
              "#fb9f3a"
             ],
             [
              0.8888888888888888,
              "#fdca26"
             ],
             [
              1,
              "#f0f921"
             ]
            ],
            "type": "histogram2dcontour"
           }
          ],
          "mesh3d": [
           {
            "colorbar": {
             "outlinewidth": 0,
             "ticks": ""
            },
            "type": "mesh3d"
           }
          ],
          "parcoords": [
           {
            "line": {
             "colorbar": {
              "outlinewidth": 0,
              "ticks": ""
             }
            },
            "type": "parcoords"
           }
          ],
          "pie": [
           {
            "automargin": true,
            "type": "pie"
           }
          ],
          "scatter": [
           {
            "marker": {
             "colorbar": {
              "outlinewidth": 0,
              "ticks": ""
             }
            },
            "type": "scatter"
           }
          ],
          "scatter3d": [
           {
            "line": {
             "colorbar": {
              "outlinewidth": 0,
              "ticks": ""
             }
            },
            "marker": {
             "colorbar": {
              "outlinewidth": 0,
              "ticks": ""
             }
            },
            "type": "scatter3d"
           }
          ],
          "scattercarpet": [
           {
            "marker": {
             "colorbar": {
              "outlinewidth": 0,
              "ticks": ""
             }
            },
            "type": "scattercarpet"
           }
          ],
          "scattergeo": [
           {
            "marker": {
             "colorbar": {
              "outlinewidth": 0,
              "ticks": ""
             }
            },
            "type": "scattergeo"
           }
          ],
          "scattergl": [
           {
            "marker": {
             "colorbar": {
              "outlinewidth": 0,
              "ticks": ""
             }
            },
            "type": "scattergl"
           }
          ],
          "scattermapbox": [
           {
            "marker": {
             "colorbar": {
              "outlinewidth": 0,
              "ticks": ""
             }
            },
            "type": "scattermapbox"
           }
          ],
          "scatterpolar": [
           {
            "marker": {
             "colorbar": {
              "outlinewidth": 0,
              "ticks": ""
             }
            },
            "type": "scatterpolar"
           }
          ],
          "scatterpolargl": [
           {
            "marker": {
             "colorbar": {
              "outlinewidth": 0,
              "ticks": ""
             }
            },
            "type": "scatterpolargl"
           }
          ],
          "scatterternary": [
           {
            "marker": {
             "colorbar": {
              "outlinewidth": 0,
              "ticks": ""
             }
            },
            "type": "scatterternary"
           }
          ],
          "surface": [
           {
            "colorbar": {
             "outlinewidth": 0,
             "ticks": ""
            },
            "colorscale": [
             [
              0,
              "#0d0887"
             ],
             [
              0.1111111111111111,
              "#46039f"
             ],
             [
              0.2222222222222222,
              "#7201a8"
             ],
             [
              0.3333333333333333,
              "#9c179e"
             ],
             [
              0.4444444444444444,
              "#bd3786"
             ],
             [
              0.5555555555555556,
              "#d8576b"
             ],
             [
              0.6666666666666666,
              "#ed7953"
             ],
             [
              0.7777777777777778,
              "#fb9f3a"
             ],
             [
              0.8888888888888888,
              "#fdca26"
             ],
             [
              1,
              "#f0f921"
             ]
            ],
            "type": "surface"
           }
          ],
          "table": [
           {
            "cells": {
             "fill": {
              "color": "#EBF0F8"
             },
             "line": {
              "color": "white"
             }
            },
            "header": {
             "fill": {
              "color": "#C8D4E3"
             },
             "line": {
              "color": "white"
             }
            },
            "type": "table"
           }
          ]
         },
         "layout": {
          "annotationdefaults": {
           "arrowcolor": "#2a3f5f",
           "arrowhead": 0,
           "arrowwidth": 1
          },
          "autotypenumbers": "strict",
          "coloraxis": {
           "colorbar": {
            "outlinewidth": 0,
            "ticks": ""
           }
          },
          "colorscale": {
           "diverging": [
            [
             0,
             "#8e0152"
            ],
            [
             0.1,
             "#c51b7d"
            ],
            [
             0.2,
             "#de77ae"
            ],
            [
             0.3,
             "#f1b6da"
            ],
            [
             0.4,
             "#fde0ef"
            ],
            [
             0.5,
             "#f7f7f7"
            ],
            [
             0.6,
             "#e6f5d0"
            ],
            [
             0.7,
             "#b8e186"
            ],
            [
             0.8,
             "#7fbc41"
            ],
            [
             0.9,
             "#4d9221"
            ],
            [
             1,
             "#276419"
            ]
           ],
           "sequential": [
            [
             0,
             "#0d0887"
            ],
            [
             0.1111111111111111,
             "#46039f"
            ],
            [
             0.2222222222222222,
             "#7201a8"
            ],
            [
             0.3333333333333333,
             "#9c179e"
            ],
            [
             0.4444444444444444,
             "#bd3786"
            ],
            [
             0.5555555555555556,
             "#d8576b"
            ],
            [
             0.6666666666666666,
             "#ed7953"
            ],
            [
             0.7777777777777778,
             "#fb9f3a"
            ],
            [
             0.8888888888888888,
             "#fdca26"
            ],
            [
             1,
             "#f0f921"
            ]
           ],
           "sequentialminus": [
            [
             0,
             "#0d0887"
            ],
            [
             0.1111111111111111,
             "#46039f"
            ],
            [
             0.2222222222222222,
             "#7201a8"
            ],
            [
             0.3333333333333333,
             "#9c179e"
            ],
            [
             0.4444444444444444,
             "#bd3786"
            ],
            [
             0.5555555555555556,
             "#d8576b"
            ],
            [
             0.6666666666666666,
             "#ed7953"
            ],
            [
             0.7777777777777778,
             "#fb9f3a"
            ],
            [
             0.8888888888888888,
             "#fdca26"
            ],
            [
             1,
             "#f0f921"
            ]
           ]
          },
          "colorway": [
           "#636efa",
           "#EF553B",
           "#00cc96",
           "#ab63fa",
           "#FFA15A",
           "#19d3f3",
           "#FF6692",
           "#B6E880",
           "#FF97FF",
           "#FECB52"
          ],
          "font": {
           "color": "#2a3f5f"
          },
          "geo": {
           "bgcolor": "white",
           "lakecolor": "white",
           "landcolor": "#E5ECF6",
           "showlakes": true,
           "showland": true,
           "subunitcolor": "white"
          },
          "hoverlabel": {
           "align": "left"
          },
          "hovermode": "closest",
          "mapbox": {
           "style": "light"
          },
          "paper_bgcolor": "white",
          "plot_bgcolor": "#E5ECF6",
          "polar": {
           "angularaxis": {
            "gridcolor": "white",
            "linecolor": "white",
            "ticks": ""
           },
           "bgcolor": "#E5ECF6",
           "radialaxis": {
            "gridcolor": "white",
            "linecolor": "white",
            "ticks": ""
           }
          },
          "scene": {
           "xaxis": {
            "backgroundcolor": "#E5ECF6",
            "gridcolor": "white",
            "gridwidth": 2,
            "linecolor": "white",
            "showbackground": true,
            "ticks": "",
            "zerolinecolor": "white"
           },
           "yaxis": {
            "backgroundcolor": "#E5ECF6",
            "gridcolor": "white",
            "gridwidth": 2,
            "linecolor": "white",
            "showbackground": true,
            "ticks": "",
            "zerolinecolor": "white"
           },
           "zaxis": {
            "backgroundcolor": "#E5ECF6",
            "gridcolor": "white",
            "gridwidth": 2,
            "linecolor": "white",
            "showbackground": true,
            "ticks": "",
            "zerolinecolor": "white"
           }
          },
          "shapedefaults": {
           "line": {
            "color": "#2a3f5f"
           }
          },
          "ternary": {
           "aaxis": {
            "gridcolor": "white",
            "linecolor": "white",
            "ticks": ""
           },
           "baxis": {
            "gridcolor": "white",
            "linecolor": "white",
            "ticks": ""
           },
           "bgcolor": "#E5ECF6",
           "caxis": {
            "gridcolor": "white",
            "linecolor": "white",
            "ticks": ""
           }
          },
          "title": {
           "x": 0.05
          },
          "xaxis": {
           "automargin": true,
           "gridcolor": "white",
           "linecolor": "white",
           "ticks": "",
           "title": {
            "standoff": 15
           },
           "zerolinecolor": "white",
           "zerolinewidth": 2
          },
          "yaxis": {
           "automargin": true,
           "gridcolor": "white",
           "linecolor": "white",
           "ticks": "",
           "title": {
            "standoff": 15
           },
           "zerolinecolor": "white",
           "zerolinewidth": 2
          }
         }
        },
        "title": {
         "font": {
          "size": 20
         },
         "text": "Chicago Transportation predictions",
         "x": 0.5
        },
        "xaxis": {
         "rangeslider": {
          "visible": true
         },
         "title": {
          "text": "Date"
         }
        },
        "yaxis": {
         "title": {
          "text": "Trips"
         }
        }
       }
      }
     },
     "metadata": {},
     "output_type": "display_data"
    }
   ],
   "source": [
    "import plotly.graph_objects as go\n",
    "\n",
    "x = results_df['ds']\n",
    "y = results_df['Trips']\n",
    "y1=results_df['y1hat']\n",
    "y2=results_df['y2hat']\n",
    "\n",
    "fig = go.Figure()\n",
    "fig.add_trace(go.Scatter(x=x, y=y,\n",
    "                    mode='lines',\n",
    "                    name='Actual'))\n",
    "fig.add_trace(go.Scatter(x=x, y=y1,\n",
    "                    mode='lines',\n",
    "                    name='Prepandamic'))\n",
    "fig.add_trace(go.Scatter(x=x, y=y2,\n",
    "                    mode='lines', name='Pandamic'))\n",
    "\n",
    "fig.update_xaxes(rangeslider_visible=True)\n",
    "\n",
    "fig.update_layout(title_text='Chicago Transportation predictions', xaxis_title='Date', yaxis_title='Trips', title_x=0.5, title_font={'size':20})\n",
    "\n",
    "fig.show()"
   ]
  },
  {
   "cell_type": "code",
   "execution_count": 24,
   "metadata": {},
   "outputs": [
    {
     "data": {
      "application/vnd.plotly.v1+json": {
       "config": {
        "plotlyServerURL": "https://plotly.com"
       },
       "data": [
        {
         "hovertemplate": "City=Boston<br>Date=%{x}<br>Trips=%{y}<extra></extra>",
         "legendgroup": "Boston",
         "line": {
          "color": "#636efa"
         },
         "marker": {
          "symbol": "circle"
         },
         "mode": "lines",
         "name": "Boston",
         "orientation": "v",
         "showlegend": true,
         "stackgroup": "1",
         "type": "scatter",
         "x": [
          "JAN02",
          "FEB02",
          "MAR02",
          "APR02",
          "MAY02",
          "JUN02",
          "JUL02",
          "AUG02",
          "SEP02",
          "OCT02",
          "NOV02",
          "DEC02",
          "JAN03",
          "FEB03",
          "MAR03",
          "APR03",
          "MAY03",
          "JUN03",
          "JUL03",
          "AUG03",
          "SEP03",
          "OCT03",
          "NOV03",
          "DEC03",
          "JAN04",
          "FEB04",
          "MAR04",
          "APR04",
          "MAY04",
          "JUN04",
          "JUL04",
          "AUG04",
          "SEP04",
          "OCT04",
          "NOV04",
          "DEC04",
          "JAN05",
          "FEB05",
          "MAR05",
          "APR05",
          "MAY05",
          "JUN05",
          "JUL05",
          "AUG05",
          "SEP05",
          "OCT05",
          "NOV05",
          "DEC05",
          "JAN06",
          "FEB06",
          "MAR06",
          "APR06",
          "MAY06",
          "JUN06",
          "JUL06",
          "AUG06",
          "SEP06",
          "OCT06",
          "NOV06",
          "DEC06",
          "JAN07",
          "FEB07",
          "MAR07",
          "APR07",
          "MAY07",
          "JUN07",
          "JUL07",
          "AUG07",
          "SEP07",
          "OCT07",
          "NOV07",
          "DEC07",
          "JAN08",
          "FEB08",
          "MAR08",
          "APR08",
          "MAY08",
          "JUN08",
          "JUL08",
          "AUG08",
          "SEP08",
          "OCT08",
          "NOV08",
          "DEC08",
          "JAN09",
          "FEB09",
          "MAR09",
          "APR09",
          "MAY09",
          "JUN09",
          "JUL09",
          "AUG09",
          "SEP09",
          "OCT09",
          "NOV09",
          "DEC09",
          "JAN10",
          "FEB10",
          "MAR10",
          "APR10",
          "MAY10",
          "JUN10",
          "JUL10",
          "AUG10",
          "SEP10",
          "OCT10",
          "NOV10",
          "DEC10",
          "JAN11",
          "FEB11",
          "MAR11",
          "APR11",
          "MAY11",
          "JUN11",
          "JUL11",
          "AUG11",
          "SEP11",
          "OCT11",
          "NOV11",
          "DEC11",
          "JAN12",
          "FEB12",
          "MAR12",
          "APR12",
          "MAY12",
          "JUN12",
          "JUL12",
          "AUG12",
          "SEP12",
          "OCT12",
          "NOV12",
          "DEC12",
          "JAN13",
          "FEB13",
          "MAR13",
          "APR13",
          "MAY13",
          "JUN13",
          "JUL13",
          "AUG13",
          "SEP13",
          "OCT13",
          "NOV13",
          "DEC13",
          "JAN14",
          "FEB14",
          "MAR14",
          "APR14",
          "MAY14",
          "JUN14",
          "JUL14",
          "AUG14",
          "SEP14",
          "OCT14",
          "NOV14",
          "DEC14",
          "JAN15",
          "FEB15",
          "MAR15",
          "APR15",
          "MAY15",
          "JUN15",
          "JUL15",
          "AUG15",
          "SEP15",
          "OCT15",
          "NOV15",
          "DEC15",
          "JAN16",
          "FEB16",
          "MAR16",
          "APR16",
          "MAY16",
          "JUN16",
          "JUL16",
          "AUG16",
          "SEP16",
          "OCT16",
          "NOV16",
          "DEC16",
          "JAN17",
          "FEB17",
          "MAR17",
          "APR17",
          "MAY17",
          "JUN17",
          "JUL17",
          "AUG17",
          "SEP17",
          "OCT17",
          "NOV17",
          "DEC17",
          "JAN18",
          "FEB18",
          "MAR18",
          "APR18",
          "MAY18",
          "JUN18",
          "JUL18",
          "AUG18",
          "SEP18",
          "OCT18",
          "NOV18",
          "DEC18",
          "JAN19",
          "FEB19",
          "MAR19",
          "APR19",
          "MAY19",
          "JUN19",
          "JUL19",
          "AUG19",
          "SEP19",
          "OCT19",
          "NOV19",
          "DEC19",
          "JAN20",
          "FEB20",
          "MAR20",
          "APR20",
          "MAY20",
          "JUN20",
          "JUL20",
          "AUG20",
          "SEP20",
          "OCT20",
          "NOV20",
          "DEC20",
          "JAN21",
          "FEB21",
          "MAR21",
          "APR21",
          "MAY21",
          "JUN21",
          "JUL21",
          "AUG21",
          "SEP21",
          "OCT21",
          "NOV21",
          "DEC21",
          "JAN22",
          "FEB22"
         ],
         "xaxis": "x",
         "y": [
          25393410,
          23682938,
          25228936,
          26390919,
          25977919,
          23963484,
          25347915,
          24841285,
          25504041,
          27090249,
          25063834,
          23825765,
          24228000,
          22640700,
          25225500,
          26462250,
          25511944,
          25896658,
          25521552,
          25103360,
          26288153,
          27813792,
          26725843,
          25218587,
          28608801,
          27970732,
          29576579,
          29878159,
          27864828,
          30653110,
          28692454,
          29732989,
          30906978,
          32193075,
          30185528,
          28696410,
          28403947,
          28319125,
          30561167,
          30506920,
          29559256,
          28777901,
          28170451,
          28331528,
          30484904,
          30569433,
          27097018,
          25596370,
          28095322,
          28570495,
          28200011,
          30144557,
          30489268,
          28332942,
          27987983,
          28219986,
          28175985,
          29586436,
          28951437,
          27381399,
          25790948,
          24281012,
          28301873,
          27423392,
          28967031,
          27872190,
          28179999,
          29050216,
          28131545,
          29006894,
          27134718,
          24761253,
          27365409,
          27175550,
          29018865,
          30356188,
          29918463,
          29660993,
          31193001,
          27925008,
          29196734,
          31024884,
          26255020,
          25936181,
          28976514,
          28725249,
          31520729,
          32078794,
          30769000,
          31240034,
          32656044,
          30431289,
          32248013,
          33870908,
          29807714,
          28935933,
          27205981,
          26788513,
          31317174,
          31072519,
          29779814,
          30106013,
          31273728,
          30927478,
          31269983,
          33351191,
          31030762,
          29382864,
          28609448,
          28628700,
          34483476,
          33277295,
          33355463,
          33633529,
          32684134,
          32803852,
          34271526,
          34414754,
          32755744,
          31245360,
          31443730,
          31967501,
          35732101,
          34378318,
          35402446,
          33280351,
          32786090,
          34040916,
          33353745,
          35568921,
          33194774,
          29752303,
          32271166,
          28874919,
          34386731,
          33532479,
          35257310,
          32234620,
          33870709,
          33517074,
          34656703,
          37598331,
          33244368,
          30766507,
          32133681,
          31251598,
          35214123,
          36421573,
          36095850,
          34465523,
          35131379,
          33185638,
          35918996,
          38471195,
          32792022,
          32899255,
          30353144,
          25307333,
          35345646,
          35946904,
          35160543,
          35111049,
          34359566,
          32477517,
          34855228,
          36168044,
          31832763,
          31675930,
          30500721,
          30933937,
          35198149,
          35090155,
          34781571,
          35130153,
          31644809,
          32662709,
          33191060,
          33253101,
          31243585,
          29252094,
          30925148,
          28573907,
          33244968,
          32187346,
          33566457,
          32931148,
          31377386,
          32976084,
          32990919,
          33556107,
          30248792,
          27529997,
          28595656,
          28168979,
          30300674,
          31649706,
          33124744,
          31879794,
          31398097,
          31939225,
          31150342,
          34644770,
          30278524,
          27176738,
          29273436,
          27327791,
          30367921,
          31425907,
          31879535,
          29854610,
          32126408,
          31662499,
          32101489,
          33783452,
          28994665,
          27540043,
          30445167,
          27970196,
          16595053,
          4297427,
          5067286,
          7126347,
          8993350,
          9366946,
          10239760,
          10519917,
          9484889,
          8845912,
          8500701,
          8256407,
          10228801,
          10783911,
          12194112,
          13929435,
          14023172,
          14677739,
          17190040,
          18236106,
          16489167,
          15309130,
          12468406,
          13837709
         ],
         "yaxis": "y"
        },
        {
         "hovertemplate": "City=Chicago<br>Date=%{x}<br>Trips=%{y}<extra></extra>",
         "legendgroup": "Chicago",
         "line": {
          "color": "#EF553B"
         },
         "marker": {
          "symbol": "circle"
         },
         "mode": "lines",
         "name": "Chicago",
         "orientation": "v",
         "showlegend": true,
         "stackgroup": "1",
         "type": "scatter",
         "x": [
          "JAN02",
          "FEB02",
          "MAR02",
          "APR02",
          "MAY02",
          "JUN02",
          "JUL02",
          "AUG02",
          "SEP02",
          "OCT02",
          "NOV02",
          "DEC02",
          "JAN03",
          "FEB03",
          "MAR03",
          "APR03",
          "MAY03",
          "JUN03",
          "JUL03",
          "AUG03",
          "SEP03",
          "OCT03",
          "NOV03",
          "DEC03",
          "JAN04",
          "FEB04",
          "MAR04",
          "APR04",
          "MAY04",
          "JUN04",
          "JUL04",
          "AUG04",
          "SEP04",
          "OCT04",
          "NOV04",
          "DEC04",
          "JAN05",
          "FEB05",
          "MAR05",
          "APR05",
          "MAY05",
          "JUN05",
          "JUL05",
          "AUG05",
          "SEP05",
          "OCT05",
          "NOV05",
          "DEC05",
          "JAN06",
          "FEB06",
          "MAR06",
          "APR06",
          "MAY06",
          "JUN06",
          "JUL06",
          "AUG06",
          "SEP06",
          "OCT06",
          "NOV06",
          "DEC06",
          "JAN07",
          "FEB07",
          "MAR07",
          "APR07",
          "MAY07",
          "JUN07",
          "JUL07",
          "AUG07",
          "SEP07",
          "OCT07",
          "NOV07",
          "DEC07",
          "JAN08",
          "FEB08",
          "MAR08",
          "APR08",
          "MAY08",
          "JUN08",
          "JUL08",
          "AUG08",
          "SEP08",
          "OCT08",
          "NOV08",
          "DEC08",
          "JAN09",
          "FEB09",
          "MAR09",
          "APR09",
          "MAY09",
          "JUN09",
          "JUL09",
          "AUG09",
          "SEP09",
          "OCT09",
          "NOV09",
          "DEC09",
          "JAN10",
          "FEB10",
          "MAR10",
          "APR10",
          "MAY10",
          "JUN10",
          "JUL10",
          "AUG10",
          "SEP10",
          "OCT10",
          "NOV10",
          "DEC10",
          "JAN11",
          "FEB11",
          "MAR11",
          "APR11",
          "MAY11",
          "JUN11",
          "JUL11",
          "AUG11",
          "SEP11",
          "OCT11",
          "NOV11",
          "DEC11",
          "JAN12",
          "FEB12",
          "MAR12",
          "APR12",
          "MAY12",
          "JUN12",
          "JUL12",
          "AUG12",
          "SEP12",
          "OCT12",
          "NOV12",
          "DEC12",
          "JAN13",
          "FEB13",
          "MAR13",
          "APR13",
          "MAY13",
          "JUN13",
          "JUL13",
          "AUG13",
          "SEP13",
          "OCT13",
          "NOV13",
          "DEC13",
          "JAN14",
          "FEB14",
          "MAR14",
          "APR14",
          "MAY14",
          "JUN14",
          "JUL14",
          "AUG14",
          "SEP14",
          "OCT14",
          "NOV14",
          "DEC14",
          "JAN15",
          "FEB15",
          "MAR15",
          "APR15",
          "MAY15",
          "JUN15",
          "JUL15",
          "AUG15",
          "SEP15",
          "OCT15",
          "NOV15",
          "DEC15",
          "JAN16",
          "FEB16",
          "MAR16",
          "APR16",
          "MAY16",
          "JUN16",
          "JUL16",
          "AUG16",
          "SEP16",
          "OCT16",
          "NOV16",
          "DEC16",
          "JAN17",
          "FEB17",
          "MAR17",
          "APR17",
          "MAY17",
          "JUN17",
          "JUL17",
          "AUG17",
          "SEP17",
          "OCT17",
          "NOV17",
          "DEC17",
          "JAN18",
          "FEB18",
          "MAR18",
          "APR18",
          "MAY18",
          "JUN18",
          "JUL18",
          "AUG18",
          "SEP18",
          "OCT18",
          "NOV18",
          "DEC18",
          "JAN19",
          "FEB19",
          "MAR19",
          "APR19",
          "MAY19",
          "JUN19",
          "JUL19",
          "AUG19",
          "SEP19",
          "OCT19",
          "NOV19",
          "DEC19",
          "JAN20",
          "FEB20",
          "MAR20",
          "APR20",
          "MAY20",
          "JUN20",
          "JUL20",
          "AUG20",
          "SEP20",
          "OCT20",
          "NOV20",
          "DEC20",
          "JAN21",
          "FEB21",
          "MAR21",
          "APR21",
          "MAY21",
          "JUN21",
          "JUL21",
          "AUG21",
          "SEP21",
          "OCT21",
          "NOV21",
          "DEC21",
          "JAN22",
          "FEB22"
         ],
         "xaxis": "x",
         "y": [
          45374133,
          42725560,
          45008425,
          46274063,
          47975030,
          45463205,
          47173566,
          46545093,
          47585430,
          51212121,
          45116103,
          43205619,
          43799639,
          41301013,
          44864243,
          45061624,
          45894068,
          45122763,
          46050917,
          44219133,
          47799593,
          50258439,
          42271620,
          42351938,
          41920122,
          41887574,
          46615606,
          44726571,
          44645673,
          46425893,
          45344434,
          44670236,
          47852704,
          48755589,
          45179643,
          42238741,
          42902664,
          43073983,
          46755671,
          46718603,
          47234274,
          48468810,
          46131827,
          47893864,
          50618537,
          50835301,
          46557946,
          43584727,
          44221001,
          42706090,
          48909317,
          45220349,
          49425482,
          48022119,
          47084590,
          48537618,
          49191674,
          51103411,
          47370701,
          43876811,
          45707178,
          41308176,
          49051888,
          46461749,
          50564676,
          48624234,
          49106262,
          49348686,
          49408879,
          53763265,
          47812964,
          43600664,
          47180426,
          45134848,
          47681352,
          51242007,
          52015069,
          51415800,
          53772203,
          52220537,
          53656072,
          56710521,
          48012591,
          45043472,
          46227077,
          45786884,
          50321145,
          49206550,
          50133172,
          50260840,
          51815889,
          49471816,
          52159106,
          53440036,
          48513334,
          45458159,
          46078674,
          45029796,
          50294169,
          49514936,
          49026017,
          50166374,
          49819251,
          50498265,
          51790308,
          52545430,
          48619122,
          43972886,
          46271244,
          44012149,
          52033064,
          49338889,
          50787521,
          52007095,
          50207986,
          53178913,
          53394239,
          54397199,
          50746404,
          47891525,
          48504208,
          49579062,
          53885397,
          50565546,
          53127765,
          52346786,
          50819976,
          54018859,
          52486570,
          57031931,
          51336263,
          46122139,
          48316431,
          46368088,
          50146849,
          51172339,
          52396166,
          50495404,
          51707183,
          51663916,
          52316031,
          55143398,
          48336810,
          44772956,
          43745424,
          45255354,
          50738062,
          50398186,
          51093653,
          49144278,
          50112960,
          49082939,
          51907140,
          54537187,
          46249917,
          46333855,
          45390576,
          43717351,
          50614204,
          49528696,
          49678737,
          50830217,
          51357966,
          49389895,
          51649970,
          53883457,
          46995125,
          45559808,
          44759891,
          45653701,
          49678160,
          47313990,
          48494979,
          48995110,
          47321645,
          48209953,
          49589411,
          50875198,
          47225221,
          41876599,
          43536829,
          42465200,
          47528225,
          44341164,
          47762602,
          47820826,
          45333308,
          47950975,
          47934850,
          49659957,
          45134777,
          40558720,
          42583977,
          40111635,
          45433910,
          44413108,
          46860214,
          45364298,
          45184370,
          46676871,
          46132397,
          50301245,
          43614727,
          39837450,
          38259066,
          39209766,
          43243099,
          43634717,
          45740709,
          43843778,
          44550582,
          44901905,
          45207578,
          48090776,
          41478810,
          39039418,
          41836616,
          40026463,
          25602307,
          8308221,
          9286416,
          10739462,
          13484927,
          13409947,
          13802738,
          14279774,
          11808555,
          11645398,
          11289281,
          10951774,
          14288233,
          14598969,
          15843366,
          17855995,
          20200667,
          20587825,
          22645601,
          22610646,
          20579332,
          18609622,
          15365759,
          17576364
         ],
         "yaxis": "y"
        },
        {
         "hovertemplate": "City=Los Angeles<br>Date=%{x}<br>Trips=%{y}<extra></extra>",
         "legendgroup": "Los Angeles",
         "line": {
          "color": "#00cc96"
         },
         "marker": {
          "symbol": "circle"
         },
         "mode": "lines",
         "name": "Los Angeles",
         "orientation": "v",
         "showlegend": true,
         "stackgroup": "1",
         "type": "scatter",
         "x": [
          "JAN02",
          "FEB02",
          "MAR02",
          "APR02",
          "MAY02",
          "JUN02",
          "JUL02",
          "AUG02",
          "SEP02",
          "OCT02",
          "NOV02",
          "DEC02",
          "JAN03",
          "FEB03",
          "MAR03",
          "APR03",
          "MAY03",
          "JUN03",
          "JUL03",
          "AUG03",
          "SEP03",
          "OCT03",
          "NOV03",
          "DEC03",
          "JAN04",
          "FEB04",
          "MAR04",
          "APR04",
          "MAY04",
          "JUN04",
          "JUL04",
          "AUG04",
          "SEP04",
          "OCT04",
          "NOV04",
          "DEC04",
          "JAN05",
          "FEB05",
          "MAR05",
          "APR05",
          "MAY05",
          "JUN05",
          "JUL05",
          "AUG05",
          "SEP05",
          "OCT05",
          "NOV05",
          "DEC05",
          "JAN06",
          "FEB06",
          "MAR06",
          "APR06",
          "MAY06",
          "JUN06",
          "JUL06",
          "AUG06",
          "SEP06",
          "OCT06",
          "NOV06",
          "DEC06",
          "JAN07",
          "FEB07",
          "MAR07",
          "APR07",
          "MAY07",
          "JUN07",
          "JUL07",
          "AUG07",
          "SEP07",
          "OCT07",
          "NOV07",
          "DEC07",
          "JAN08",
          "FEB08",
          "MAR08",
          "APR08",
          "MAY08",
          "JUN08",
          "JUL08",
          "AUG08",
          "SEP08",
          "OCT08",
          "NOV08",
          "DEC08",
          "JAN09",
          "FEB09",
          "MAR09",
          "APR09",
          "MAY09",
          "JUN09",
          "JUL09",
          "AUG09",
          "SEP09",
          "OCT09",
          "NOV09",
          "DEC09",
          "JAN10",
          "FEB10",
          "MAR10",
          "APR10",
          "MAY10",
          "JUN10",
          "JUL10",
          "AUG10",
          "SEP10",
          "OCT10",
          "NOV10",
          "DEC10",
          "JAN11",
          "FEB11",
          "MAR11",
          "APR11",
          "MAY11",
          "JUN11",
          "JUL11",
          "AUG11",
          "SEP11",
          "OCT11",
          "NOV11",
          "DEC11",
          "JAN12",
          "FEB12",
          "MAR12",
          "APR12",
          "MAY12",
          "JUN12",
          "JUL12",
          "AUG12",
          "SEP12",
          "OCT12",
          "NOV12",
          "DEC12",
          "JAN13",
          "FEB13",
          "MAR13",
          "APR13",
          "MAY13",
          "JUN13",
          "JUL13",
          "AUG13",
          "SEP13",
          "OCT13",
          "NOV13",
          "DEC13",
          "JAN14",
          "FEB14",
          "MAR14",
          "APR14",
          "MAY14",
          "JUN14",
          "JUL14",
          "AUG14",
          "SEP14",
          "OCT14",
          "NOV14",
          "DEC14",
          "JAN15",
          "FEB15",
          "MAR15",
          "APR15",
          "MAY15",
          "JUN15",
          "JUL15",
          "AUG15",
          "SEP15",
          "OCT15",
          "NOV15",
          "DEC15",
          "JAN16",
          "FEB16",
          "MAR16",
          "APR16",
          "MAY16",
          "JUN16",
          "JUL16",
          "AUG16",
          "SEP16",
          "OCT16",
          "NOV16",
          "DEC16",
          "JAN17",
          "FEB17",
          "MAR17",
          "APR17",
          "MAY17",
          "JUN17",
          "JUL17",
          "AUG17",
          "SEP17",
          "OCT17",
          "NOV17",
          "DEC17",
          "JAN18",
          "FEB18",
          "MAR18",
          "APR18",
          "MAY18",
          "JUN18",
          "JUL18",
          "AUG18",
          "SEP18",
          "OCT18",
          "NOV18",
          "DEC18",
          "JAN19",
          "FEB19",
          "MAR19",
          "APR19",
          "MAY19",
          "JUN19",
          "JUL19",
          "AUG19",
          "SEP19",
          "OCT19",
          "NOV19",
          "DEC19",
          "JAN20",
          "FEB20",
          "MAR20",
          "APR20",
          "MAY20",
          "JUN20",
          "JUL20",
          "AUG20",
          "SEP20",
          "OCT20",
          "NOV20",
          "DEC20",
          "JAN21",
          "FEB21",
          "MAR21",
          "APR21",
          "MAY21",
          "JUN21",
          "JUL21",
          "AUG21",
          "SEP21",
          "OCT21",
          "NOV21",
          "DEC21",
          "JAN22",
          "FEB22"
         ],
         "xaxis": "x",
         "y": [
          37468791,
          32396852,
          37955805,
          38654178,
          38811086,
          36573310,
          37376526,
          36254888,
          35188765,
          38392841,
          32929225,
          34149970,
          34257256,
          33477499,
          37391351,
          37000427,
          36991573,
          35470125,
          38719356,
          39190146,
          36636656,
          15695748,
          12093163,
          32379820,
          35021008,
          33840969,
          39634625,
          36755463,
          37743642,
          37280584,
          38391324,
          38497952,
          38102398,
          38149442,
          36683833,
          36572953,
          35401583,
          34594231,
          40519893,
          39511567,
          40552358,
          40848373,
          40165364,
          41287970,
          40654700,
          40641632,
          39589113,
          38706154,
          39372262,
          38453638,
          44206998,
          39997412,
          44265242,
          43555403,
          41281525,
          43376619,
          41718047,
          43876247,
          41400088,
          40257384,
          40932076,
          38757915,
          45105027,
          41670664,
          43637358,
          42815741,
          40527309,
          41633815,
          39274178,
          42625227,
          39115925,
          37214621,
          38358687,
          38433872,
          41637473,
          42471303,
          42980080,
          43160643,
          44934919,
          43009788,
          43270197,
          44674115,
          38969095,
          38079183,
          39177707,
          36679163,
          42249883,
          40646794,
          40731241,
          40493578,
          40826783,
          39602202,
          39960252,
          41281785,
          37930854,
          37568434,
          36409849,
          36487430,
          42427893,
          40528050,
          40459085,
          40862297,
          39013972,
          39411501,
          39291870,
          39438482,
          37411891,
          36058055,
          37701020,
          36348519,
          41293338,
          39906304,
          40743699,
          40561474,
          39157030,
          40600126,
          40092148,
          40453237,
          37874488,
          37540909,
          38829209,
          39050214,
          41741281,
          39472530,
          42560258,
          40619424,
          39601161,
          42309944,
          40111153,
          44279574,
          39908831,
          38188635,
          40505708,
          38614049,
          42029750,
          41986916,
          42818597,
          39389746,
          41318637,
          42770168,
          40978712,
          44684885,
          40114036,
          39999826,
          40967187,
          38417415,
          41955080,
          41428185,
          41800976,
          38648589,
          39924049,
          40514575,
          40173581,
          42649216,
          37956649,
          38375796,
          38405750,
          37025234,
          40706113,
          39216061,
          38409596,
          37974728,
          38538221,
          38380111,
          38253631,
          40145609,
          35973324,
          36120697,
          34732024,
          36245362,
          38325910,
          36607498,
          37068780,
          36352434,
          35228395,
          37540879,
          36331309,
          36441978,
          34752910,
          33806122,
          33261737,
          31737446,
          37303687,
          34125495,
          36201790,
          34818103,
          33670038,
          36365810,
          34664205,
          36509969,
          34036841,
          32630775,
          33621868,
          31795760,
          33886738,
          33539901,
          34827777,
          33002845,
          32384853,
          34873438,
          32829074,
          36024321,
          32723956,
          31169902,
          31898692,
          29728840,
          33129451,
          33185963,
          33854963,
          30738727,
          32417736,
          33251295,
          32303640,
          34864503,
          30746625,
          30222074,
          31802458,
          31095708,
          21477870,
          10220599,
          12287293,
          14574251,
          16178417,
          16025614,
          16285494,
          17389106,
          16268058,
          16016080,
          13778071,
          14112059,
          16732499,
          17486058,
          18211466,
          19166707,
          20316194,
          21861978,
          22450741,
          23463013,
          22891293,
          21458873,
          19108557,
          19098611
         ],
         "yaxis": "y"
        }
       ],
       "layout": {
        "legend": {
         "title": {
          "text": "City"
         },
         "tracegroupgap": 0
        },
        "margin": {
         "t": 60
        },
        "template": {
         "data": {
          "bar": [
           {
            "error_x": {
             "color": "#2a3f5f"
            },
            "error_y": {
             "color": "#2a3f5f"
            },
            "marker": {
             "line": {
              "color": "#E5ECF6",
              "width": 0.5
             },
             "pattern": {
              "fillmode": "overlay",
              "size": 10,
              "solidity": 0.2
             }
            },
            "type": "bar"
           }
          ],
          "barpolar": [
           {
            "marker": {
             "line": {
              "color": "#E5ECF6",
              "width": 0.5
             },
             "pattern": {
              "fillmode": "overlay",
              "size": 10,
              "solidity": 0.2
             }
            },
            "type": "barpolar"
           }
          ],
          "carpet": [
           {
            "aaxis": {
             "endlinecolor": "#2a3f5f",
             "gridcolor": "white",
             "linecolor": "white",
             "minorgridcolor": "white",
             "startlinecolor": "#2a3f5f"
            },
            "baxis": {
             "endlinecolor": "#2a3f5f",
             "gridcolor": "white",
             "linecolor": "white",
             "minorgridcolor": "white",
             "startlinecolor": "#2a3f5f"
            },
            "type": "carpet"
           }
          ],
          "choropleth": [
           {
            "colorbar": {
             "outlinewidth": 0,
             "ticks": ""
            },
            "type": "choropleth"
           }
          ],
          "contour": [
           {
            "colorbar": {
             "outlinewidth": 0,
             "ticks": ""
            },
            "colorscale": [
             [
              0,
              "#0d0887"
             ],
             [
              0.1111111111111111,
              "#46039f"
             ],
             [
              0.2222222222222222,
              "#7201a8"
             ],
             [
              0.3333333333333333,
              "#9c179e"
             ],
             [
              0.4444444444444444,
              "#bd3786"
             ],
             [
              0.5555555555555556,
              "#d8576b"
             ],
             [
              0.6666666666666666,
              "#ed7953"
             ],
             [
              0.7777777777777778,
              "#fb9f3a"
             ],
             [
              0.8888888888888888,
              "#fdca26"
             ],
             [
              1,
              "#f0f921"
             ]
            ],
            "type": "contour"
           }
          ],
          "contourcarpet": [
           {
            "colorbar": {
             "outlinewidth": 0,
             "ticks": ""
            },
            "type": "contourcarpet"
           }
          ],
          "heatmap": [
           {
            "colorbar": {
             "outlinewidth": 0,
             "ticks": ""
            },
            "colorscale": [
             [
              0,
              "#0d0887"
             ],
             [
              0.1111111111111111,
              "#46039f"
             ],
             [
              0.2222222222222222,
              "#7201a8"
             ],
             [
              0.3333333333333333,
              "#9c179e"
             ],
             [
              0.4444444444444444,
              "#bd3786"
             ],
             [
              0.5555555555555556,
              "#d8576b"
             ],
             [
              0.6666666666666666,
              "#ed7953"
             ],
             [
              0.7777777777777778,
              "#fb9f3a"
             ],
             [
              0.8888888888888888,
              "#fdca26"
             ],
             [
              1,
              "#f0f921"
             ]
            ],
            "type": "heatmap"
           }
          ],
          "heatmapgl": [
           {
            "colorbar": {
             "outlinewidth": 0,
             "ticks": ""
            },
            "colorscale": [
             [
              0,
              "#0d0887"
             ],
             [
              0.1111111111111111,
              "#46039f"
             ],
             [
              0.2222222222222222,
              "#7201a8"
             ],
             [
              0.3333333333333333,
              "#9c179e"
             ],
             [
              0.4444444444444444,
              "#bd3786"
             ],
             [
              0.5555555555555556,
              "#d8576b"
             ],
             [
              0.6666666666666666,
              "#ed7953"
             ],
             [
              0.7777777777777778,
              "#fb9f3a"
             ],
             [
              0.8888888888888888,
              "#fdca26"
             ],
             [
              1,
              "#f0f921"
             ]
            ],
            "type": "heatmapgl"
           }
          ],
          "histogram": [
           {
            "marker": {
             "pattern": {
              "fillmode": "overlay",
              "size": 10,
              "solidity": 0.2
             }
            },
            "type": "histogram"
           }
          ],
          "histogram2d": [
           {
            "colorbar": {
             "outlinewidth": 0,
             "ticks": ""
            },
            "colorscale": [
             [
              0,
              "#0d0887"
             ],
             [
              0.1111111111111111,
              "#46039f"
             ],
             [
              0.2222222222222222,
              "#7201a8"
             ],
             [
              0.3333333333333333,
              "#9c179e"
             ],
             [
              0.4444444444444444,
              "#bd3786"
             ],
             [
              0.5555555555555556,
              "#d8576b"
             ],
             [
              0.6666666666666666,
              "#ed7953"
             ],
             [
              0.7777777777777778,
              "#fb9f3a"
             ],
             [
              0.8888888888888888,
              "#fdca26"
             ],
             [
              1,
              "#f0f921"
             ]
            ],
            "type": "histogram2d"
           }
          ],
          "histogram2dcontour": [
           {
            "colorbar": {
             "outlinewidth": 0,
             "ticks": ""
            },
            "colorscale": [
             [
              0,
              "#0d0887"
             ],
             [
              0.1111111111111111,
              "#46039f"
             ],
             [
              0.2222222222222222,
              "#7201a8"
             ],
             [
              0.3333333333333333,
              "#9c179e"
             ],
             [
              0.4444444444444444,
              "#bd3786"
             ],
             [
              0.5555555555555556,
              "#d8576b"
             ],
             [
              0.6666666666666666,
              "#ed7953"
             ],
             [
              0.7777777777777778,
              "#fb9f3a"
             ],
             [
              0.8888888888888888,
              "#fdca26"
             ],
             [
              1,
              "#f0f921"
             ]
            ],
            "type": "histogram2dcontour"
           }
          ],
          "mesh3d": [
           {
            "colorbar": {
             "outlinewidth": 0,
             "ticks": ""
            },
            "type": "mesh3d"
           }
          ],
          "parcoords": [
           {
            "line": {
             "colorbar": {
              "outlinewidth": 0,
              "ticks": ""
             }
            },
            "type": "parcoords"
           }
          ],
          "pie": [
           {
            "automargin": true,
            "type": "pie"
           }
          ],
          "scatter": [
           {
            "marker": {
             "colorbar": {
              "outlinewidth": 0,
              "ticks": ""
             }
            },
            "type": "scatter"
           }
          ],
          "scatter3d": [
           {
            "line": {
             "colorbar": {
              "outlinewidth": 0,
              "ticks": ""
             }
            },
            "marker": {
             "colorbar": {
              "outlinewidth": 0,
              "ticks": ""
             }
            },
            "type": "scatter3d"
           }
          ],
          "scattercarpet": [
           {
            "marker": {
             "colorbar": {
              "outlinewidth": 0,
              "ticks": ""
             }
            },
            "type": "scattercarpet"
           }
          ],
          "scattergeo": [
           {
            "marker": {
             "colorbar": {
              "outlinewidth": 0,
              "ticks": ""
             }
            },
            "type": "scattergeo"
           }
          ],
          "scattergl": [
           {
            "marker": {
             "colorbar": {
              "outlinewidth": 0,
              "ticks": ""
             }
            },
            "type": "scattergl"
           }
          ],
          "scattermapbox": [
           {
            "marker": {
             "colorbar": {
              "outlinewidth": 0,
              "ticks": ""
             }
            },
            "type": "scattermapbox"
           }
          ],
          "scatterpolar": [
           {
            "marker": {
             "colorbar": {
              "outlinewidth": 0,
              "ticks": ""
             }
            },
            "type": "scatterpolar"
           }
          ],
          "scatterpolargl": [
           {
            "marker": {
             "colorbar": {
              "outlinewidth": 0,
              "ticks": ""
             }
            },
            "type": "scatterpolargl"
           }
          ],
          "scatterternary": [
           {
            "marker": {
             "colorbar": {
              "outlinewidth": 0,
              "ticks": ""
             }
            },
            "type": "scatterternary"
           }
          ],
          "surface": [
           {
            "colorbar": {
             "outlinewidth": 0,
             "ticks": ""
            },
            "colorscale": [
             [
              0,
              "#0d0887"
             ],
             [
              0.1111111111111111,
              "#46039f"
             ],
             [
              0.2222222222222222,
              "#7201a8"
             ],
             [
              0.3333333333333333,
              "#9c179e"
             ],
             [
              0.4444444444444444,
              "#bd3786"
             ],
             [
              0.5555555555555556,
              "#d8576b"
             ],
             [
              0.6666666666666666,
              "#ed7953"
             ],
             [
              0.7777777777777778,
              "#fb9f3a"
             ],
             [
              0.8888888888888888,
              "#fdca26"
             ],
             [
              1,
              "#f0f921"
             ]
            ],
            "type": "surface"
           }
          ],
          "table": [
           {
            "cells": {
             "fill": {
              "color": "#EBF0F8"
             },
             "line": {
              "color": "white"
             }
            },
            "header": {
             "fill": {
              "color": "#C8D4E3"
             },
             "line": {
              "color": "white"
             }
            },
            "type": "table"
           }
          ]
         },
         "layout": {
          "annotationdefaults": {
           "arrowcolor": "#2a3f5f",
           "arrowhead": 0,
           "arrowwidth": 1
          },
          "autotypenumbers": "strict",
          "coloraxis": {
           "colorbar": {
            "outlinewidth": 0,
            "ticks": ""
           }
          },
          "colorscale": {
           "diverging": [
            [
             0,
             "#8e0152"
            ],
            [
             0.1,
             "#c51b7d"
            ],
            [
             0.2,
             "#de77ae"
            ],
            [
             0.3,
             "#f1b6da"
            ],
            [
             0.4,
             "#fde0ef"
            ],
            [
             0.5,
             "#f7f7f7"
            ],
            [
             0.6,
             "#e6f5d0"
            ],
            [
             0.7,
             "#b8e186"
            ],
            [
             0.8,
             "#7fbc41"
            ],
            [
             0.9,
             "#4d9221"
            ],
            [
             1,
             "#276419"
            ]
           ],
           "sequential": [
            [
             0,
             "#0d0887"
            ],
            [
             0.1111111111111111,
             "#46039f"
            ],
            [
             0.2222222222222222,
             "#7201a8"
            ],
            [
             0.3333333333333333,
             "#9c179e"
            ],
            [
             0.4444444444444444,
             "#bd3786"
            ],
            [
             0.5555555555555556,
             "#d8576b"
            ],
            [
             0.6666666666666666,
             "#ed7953"
            ],
            [
             0.7777777777777778,
             "#fb9f3a"
            ],
            [
             0.8888888888888888,
             "#fdca26"
            ],
            [
             1,
             "#f0f921"
            ]
           ],
           "sequentialminus": [
            [
             0,
             "#0d0887"
            ],
            [
             0.1111111111111111,
             "#46039f"
            ],
            [
             0.2222222222222222,
             "#7201a8"
            ],
            [
             0.3333333333333333,
             "#9c179e"
            ],
            [
             0.4444444444444444,
             "#bd3786"
            ],
            [
             0.5555555555555556,
             "#d8576b"
            ],
            [
             0.6666666666666666,
             "#ed7953"
            ],
            [
             0.7777777777777778,
             "#fb9f3a"
            ],
            [
             0.8888888888888888,
             "#fdca26"
            ],
            [
             1,
             "#f0f921"
            ]
           ]
          },
          "colorway": [
           "#636efa",
           "#EF553B",
           "#00cc96",
           "#ab63fa",
           "#FFA15A",
           "#19d3f3",
           "#FF6692",
           "#B6E880",
           "#FF97FF",
           "#FECB52"
          ],
          "font": {
           "color": "#2a3f5f"
          },
          "geo": {
           "bgcolor": "white",
           "lakecolor": "white",
           "landcolor": "#E5ECF6",
           "showlakes": true,
           "showland": true,
           "subunitcolor": "white"
          },
          "hoverlabel": {
           "align": "left"
          },
          "hovermode": "closest",
          "mapbox": {
           "style": "light"
          },
          "paper_bgcolor": "white",
          "plot_bgcolor": "#E5ECF6",
          "polar": {
           "angularaxis": {
            "gridcolor": "white",
            "linecolor": "white",
            "ticks": ""
           },
           "bgcolor": "#E5ECF6",
           "radialaxis": {
            "gridcolor": "white",
            "linecolor": "white",
            "ticks": ""
           }
          },
          "scene": {
           "xaxis": {
            "backgroundcolor": "#E5ECF6",
            "gridcolor": "white",
            "gridwidth": 2,
            "linecolor": "white",
            "showbackground": true,
            "ticks": "",
            "zerolinecolor": "white"
           },
           "yaxis": {
            "backgroundcolor": "#E5ECF6",
            "gridcolor": "white",
            "gridwidth": 2,
            "linecolor": "white",
            "showbackground": true,
            "ticks": "",
            "zerolinecolor": "white"
           },
           "zaxis": {
            "backgroundcolor": "#E5ECF6",
            "gridcolor": "white",
            "gridwidth": 2,
            "linecolor": "white",
            "showbackground": true,
            "ticks": "",
            "zerolinecolor": "white"
           }
          },
          "shapedefaults": {
           "line": {
            "color": "#2a3f5f"
           }
          },
          "ternary": {
           "aaxis": {
            "gridcolor": "white",
            "linecolor": "white",
            "ticks": ""
           },
           "baxis": {
            "gridcolor": "white",
            "linecolor": "white",
            "ticks": ""
           },
           "bgcolor": "#E5ECF6",
           "caxis": {
            "gridcolor": "white",
            "linecolor": "white",
            "ticks": ""
           }
          },
          "title": {
           "x": 0.05
          },
          "xaxis": {
           "automargin": true,
           "gridcolor": "white",
           "linecolor": "white",
           "ticks": "",
           "title": {
            "standoff": 15
           },
           "zerolinecolor": "white",
           "zerolinewidth": 2
          },
          "yaxis": {
           "automargin": true,
           "gridcolor": "white",
           "linecolor": "white",
           "ticks": "",
           "title": {
            "standoff": 15
           },
           "zerolinecolor": "white",
           "zerolinewidth": 2
          }
         }
        },
        "title": {
         "font": {
          "size": 20
         },
         "text": "Passenger Trips",
         "x": 0.5
        },
        "xaxis": {
         "anchor": "y",
         "domain": [
          0,
          1
         ],
         "rangeslider": {
          "visible": true
         },
         "title": {
          "text": "Date"
         }
        },
        "yaxis": {
         "anchor": "x",
         "domain": [
          0,
          1
         ],
         "title": {
          "text": "Trips"
         }
        }
       }
      }
     },
     "metadata": {},
     "output_type": "display_data"
    }
   ],
   "source": [
    "trips_compare_df = trips_filtered_df.query('(City == \"Los Angeles\" & State == \"CA\") | \\\n",
    "                                       (City == \"Chicago\" & State == \"IL\") | \\\n",
    "                                       (City == \"Boston\" & State == \"MA\")')\n",
    "fig1 = px.area(trips_compare_df, x='Date', y='Trips', color='City')\n",
    "fig1.update_layout(title='Passenger Trips', xaxis_title='Date', yaxis_title='Trips', title_x=0.5, title_font={'size':20})\n",
    "fig1.update_xaxes(rangeslider_visible=True)\n",
    "fig1.show()"
   ]
  },
  {
   "cell_type": "code",
   "execution_count": 25,
   "metadata": {},
   "outputs": [
    {
     "data": {
      "application/vnd.plotly.v1+json": {
       "config": {
        "plotlyServerURL": "https://plotly.com"
       },
       "data": [
        {
         "hovertemplate": "City=Arlington<br>Date=%{x}<br>Trips=%{y}<extra></extra>",
         "legendgroup": "Arlington",
         "line": {
          "color": "#636efa"
         },
         "marker": {
          "symbol": "circle"
         },
         "mode": "lines",
         "name": "Arlington",
         "orientation": "v",
         "showlegend": true,
         "stackgroup": "1",
         "type": "scatter",
         "x": [
          "JAN02",
          "FEB02",
          "MAR02",
          "APR02",
          "MAY02",
          "JUN02",
          "JUL02",
          "AUG02",
          "SEP02",
          "OCT02",
          "NOV02",
          "DEC02",
          "JAN03",
          "FEB03",
          "MAR03",
          "APR03",
          "MAY03",
          "JUN03",
          "JUL03",
          "AUG03",
          "SEP03",
          "OCT03",
          "NOV03",
          "DEC03",
          "JAN04",
          "FEB04",
          "MAR04",
          "APR04",
          "MAY04",
          "JUN04",
          "JUL04",
          "AUG04",
          "SEP04",
          "OCT04",
          "NOV04",
          "DEC04",
          "JAN05",
          "FEB05",
          "MAR05",
          "APR05",
          "MAY05",
          "JUN05",
          "JUL05",
          "AUG05",
          "SEP05",
          "OCT05",
          "NOV05",
          "DEC05",
          "JAN06",
          "FEB06",
          "MAR06",
          "APR06",
          "MAY06",
          "JUN06",
          "JUL06",
          "AUG06",
          "SEP06",
          "OCT06",
          "NOV06",
          "DEC06",
          "JAN07",
          "FEB07",
          "MAR07",
          "APR07",
          "MAY07",
          "JUN07",
          "JUL07",
          "AUG07",
          "SEP07",
          "OCT07",
          "NOV07",
          "DEC07",
          "JAN08",
          "FEB08",
          "MAR08",
          "APR08",
          "MAY08",
          "JUN08",
          "JUL08",
          "AUG08",
          "SEP08",
          "OCT08",
          "NOV08",
          "DEC08",
          "JAN09",
          "FEB09",
          "MAR09",
          "APR09",
          "MAY09",
          "JUN09",
          "JUL09",
          "AUG09",
          "SEP09",
          "OCT09",
          "NOV09",
          "DEC09",
          "JAN10",
          "FEB10",
          "MAR10",
          "APR10",
          "MAY10",
          "JUN10",
          "JUL10",
          "AUG10",
          "SEP10",
          "OCT10",
          "NOV10",
          "DEC10",
          "JAN11",
          "FEB11",
          "MAR11",
          "APR11",
          "MAY11",
          "JUN11",
          "JUL11",
          "AUG11",
          "SEP11",
          "OCT11",
          "NOV11",
          "DEC11",
          "JAN12",
          "FEB12",
          "MAR12",
          "APR12",
          "MAY12",
          "JUN12",
          "JUL12",
          "AUG12",
          "SEP12",
          "OCT12",
          "NOV12",
          "DEC12",
          "JAN13",
          "FEB13",
          "MAR13",
          "APR13",
          "MAY13",
          "JUN13",
          "JUL13",
          "AUG13",
          "SEP13",
          "OCT13",
          "NOV13",
          "DEC13",
          "JAN14",
          "FEB14",
          "MAR14",
          "APR14",
          "MAY14",
          "JUN14",
          "JUL14",
          "AUG14",
          "SEP14",
          "OCT14",
          "NOV14",
          "DEC14",
          "JAN15",
          "FEB15",
          "MAR15",
          "APR15",
          "MAY15",
          "JUN15",
          "JUL15",
          "AUG15",
          "SEP15",
          "OCT15",
          "NOV15",
          "DEC15",
          "JAN16",
          "FEB16",
          "MAR16",
          "APR16",
          "MAY16",
          "JUN16",
          "JUL16",
          "AUG16",
          "SEP16",
          "OCT16",
          "NOV16",
          "DEC16",
          "JAN17",
          "FEB17",
          "MAR17",
          "APR17",
          "MAY17",
          "JUN17",
          "JUL17",
          "AUG17",
          "SEP17",
          "OCT17",
          "NOV17",
          "DEC17",
          "JAN18",
          "FEB18",
          "MAR18",
          "APR18",
          "MAY18",
          "JUN18",
          "JUL18",
          "AUG18",
          "SEP18",
          "OCT18",
          "NOV18",
          "DEC18",
          "JAN19",
          "FEB19",
          "MAR19",
          "APR19",
          "MAY19",
          "JUN19",
          "JUL19",
          "AUG19",
          "SEP19",
          "OCT19",
          "NOV19",
          "DEC19",
          "JAN20",
          "FEB20",
          "MAR20",
          "APR20",
          "MAY20",
          "JUN20",
          "JUL20",
          "AUG20",
          "SEP20",
          "OCT20",
          "NOV20",
          "DEC20",
          "JAN21",
          "FEB21",
          "MAR21",
          "APR21",
          "MAY21",
          "JUN21",
          "JUL21",
          "AUG21",
          "SEP21",
          "OCT21",
          "NOV21",
          "DEC21",
          "JAN22",
          "FEB22"
         ],
         "xaxis": "x",
         "y": [
          3508,
          2444,
          2689,
          2718,
          2744,
          2572,
          2743,
          0,
          0,
          0,
          0,
          0,
          32097,
          25347,
          31499,
          39411,
          41842,
          45264,
          49268,
          44926,
          0,
          0,
          0,
          0,
          54218,
          56878,
          67250,
          64736,
          62731,
          66816,
          61583,
          66388,
          64593,
          63816,
          59250,
          59174,
          0,
          0,
          0,
          0,
          0,
          0,
          0,
          0,
          0,
          0,
          0,
          0,
          0,
          0,
          0,
          0,
          0,
          0,
          0,
          0,
          0,
          0,
          0,
          0,
          0,
          0,
          0,
          0,
          0,
          0,
          0,
          0,
          0,
          0,
          0,
          0,
          0,
          0,
          0,
          0,
          0,
          0,
          0,
          0,
          0,
          0,
          0,
          0,
          116637,
          107657,
          138846,
          128336,
          122046,
          132150,
          148990,
          150518,
          161344,
          182375,
          163654,
          162805,
          168623,
          135494,
          207993,
          203343,
          190627,
          204973,
          193742,
          199808,
          195096,
          197100,
          180424,
          171576,
          177205,
          177773,
          222214,
          206203,
          214160,
          209223,
          203168,
          238716,
          219851,
          227408,
          201338,
          211522,
          208497,
          225941,
          222396,
          211933,
          234346,
          225305,
          227992,
          245280,
          219446,
          224974,
          214917,
          192985,
          218638,
          222850,
          243713,
          252854,
          247102,
          228993,
          256840,
          279074,
          245105,
          259994,
          225065,
          227041,
          225877,
          210627,
          237643,
          255793,
          260850,
          258369,
          264328,
          251829,
          256515,
          268980,
          215027,
          232630,
          224024,
          209784,
          245428,
          259010,
          247537,
          252759,
          254355,
          253955,
          252738,
          258378,
          227348,
          253352,
          228456,
          268594,
          309486,
          296934,
          297357,
          310222,
          295364,
          310469,
          299548,
          305395,
          274533,
          260658,
          270913,
          277952,
          312583,
          294233,
          309110,
          296461,
          269836,
          287482,
          271239,
          284052,
          252166,
          230539,
          241423,
          238009,
          246042,
          255062,
          264101,
          249347,
          248338,
          276500,
          243749,
          269424,
          224477,
          199183,
          211802,
          214665,
          250023,
          261045,
          269907,
          248736,
          272331,
          278036,
          264986,
          284469,
          241901,
          237944,
          253310,
          250563,
          173542,
          74685,
          87175,
          113487,
          133781,
          127132,
          111534,
          116066,
          105613,
          106865,
          105137,
          96248,
          126636,
          126138,
          130234,
          138205,
          146960,
          147512,
          152377,
          159666,
          148803,
          143350,
          0,
          0
         ],
         "yaxis": "y"
        },
        {
         "hovertemplate": "City=Lindenwold<br>Date=%{x}<br>Trips=%{y}<extra></extra>",
         "legendgroup": "Lindenwold",
         "line": {
          "color": "#EF553B"
         },
         "marker": {
          "symbol": "circle"
         },
         "mode": "lines",
         "name": "Lindenwold",
         "orientation": "v",
         "showlegend": true,
         "stackgroup": "1",
         "type": "scatter",
         "x": [
          "JAN02",
          "FEB02",
          "MAR02",
          "APR02",
          "MAY02",
          "JUN02",
          "JUL02",
          "AUG02",
          "SEP02",
          "OCT02",
          "NOV02",
          "DEC02",
          "JAN03",
          "FEB03",
          "MAR03",
          "APR03",
          "MAY03",
          "JUN03",
          "JUL03",
          "AUG03",
          "SEP03",
          "OCT03",
          "NOV03",
          "DEC03",
          "JAN04",
          "FEB04",
          "MAR04",
          "APR04",
          "MAY04",
          "JUN04",
          "JUL04",
          "AUG04",
          "SEP04",
          "OCT04",
          "NOV04",
          "DEC04",
          "JAN05",
          "FEB05",
          "MAR05",
          "APR05",
          "MAY05",
          "JUN05",
          "JUL05",
          "AUG05",
          "SEP05",
          "OCT05",
          "NOV05",
          "DEC05",
          "JAN06",
          "FEB06",
          "MAR06",
          "APR06",
          "MAY06",
          "JUN06",
          "JUL06",
          "AUG06",
          "SEP06",
          "OCT06",
          "NOV06",
          "DEC06",
          "JAN07",
          "FEB07",
          "MAR07",
          "APR07",
          "MAY07",
          "JUN07",
          "JUL07",
          "AUG07",
          "SEP07",
          "OCT07",
          "NOV07",
          "DEC07",
          "JAN08",
          "FEB08",
          "MAR08",
          "APR08",
          "MAY08",
          "JUN08",
          "JUL08",
          "AUG08",
          "SEP08",
          "OCT08",
          "NOV08",
          "DEC08",
          "JAN09",
          "FEB09",
          "MAR09",
          "APR09",
          "MAY09",
          "JUN09",
          "JUL09",
          "AUG09",
          "SEP09",
          "OCT09",
          "NOV09",
          "DEC09",
          "JAN10",
          "FEB10",
          "MAR10",
          "APR10",
          "MAY10",
          "JUN10",
          "JUL10",
          "AUG10",
          "SEP10",
          "OCT10",
          "NOV10",
          "DEC10",
          "JAN11",
          "FEB11",
          "MAR11",
          "APR11",
          "MAY11",
          "JUN11",
          "JUL11",
          "AUG11",
          "SEP11",
          "OCT11",
          "NOV11",
          "DEC11",
          "JAN12",
          "FEB12",
          "MAR12",
          "APR12",
          "MAY12",
          "JUN12",
          "JUL12",
          "AUG12",
          "SEP12",
          "OCT12",
          "NOV12",
          "DEC12",
          "JAN13",
          "FEB13",
          "MAR13",
          "APR13",
          "MAY13",
          "JUN13",
          "JUL13",
          "AUG13",
          "SEP13",
          "OCT13",
          "NOV13",
          "DEC13",
          "JAN14",
          "FEB14",
          "MAR14",
          "APR14",
          "MAY14",
          "JUN14",
          "JUL14",
          "AUG14",
          "SEP14",
          "OCT14",
          "NOV14",
          "DEC14",
          "JAN15",
          "FEB15",
          "MAR15",
          "APR15",
          "MAY15",
          "JUN15",
          "JUL15",
          "AUG15",
          "SEP15",
          "OCT15",
          "NOV15",
          "DEC15",
          "JAN16",
          "FEB16",
          "MAR16",
          "APR16",
          "MAY16",
          "JUN16",
          "JUL16",
          "AUG16",
          "SEP16",
          "OCT16",
          "NOV16",
          "DEC16",
          "JAN17",
          "FEB17",
          "MAR17",
          "APR17",
          "MAY17",
          "JUN17",
          "JUL17",
          "AUG17",
          "SEP17",
          "OCT17",
          "NOV17",
          "DEC17",
          "JAN18",
          "FEB18",
          "MAR18",
          "APR18",
          "MAY18",
          "JUN18",
          "JUL18",
          "AUG18",
          "SEP18",
          "OCT18",
          "NOV18",
          "DEC18",
          "JAN19",
          "FEB19",
          "MAR19",
          "APR19",
          "MAY19",
          "JUN19",
          "JUL19",
          "AUG19",
          "SEP19",
          "OCT19",
          "NOV19",
          "DEC19",
          "JAN20",
          "FEB20",
          "MAR20",
          "APR20",
          "MAY20",
          "JUN20",
          "JUL20",
          "AUG20",
          "SEP20",
          "OCT20",
          "NOV20",
          "DEC20",
          "JAN21",
          "FEB21",
          "MAR21",
          "APR21",
          "MAY21",
          "JUN21",
          "JUL21",
          "AUG21",
          "SEP21",
          "OCT21",
          "NOV21",
          "DEC21",
          "JAN22",
          "FEB22"
         ],
         "xaxis": "x",
         "y": [
          852644,
          763546,
          817218,
          824015,
          802937,
          734531,
          768671,
          748081,
          736845,
          820644,
          713358,
          705955,
          769995,
          663580,
          788591,
          754221,
          728641,
          720114,
          767650,
          708981,
          757356,
          810665,
          685367,
          708750,
          714936,
          713260,
          827974,
          771201,
          735532,
          781037,
          768433,
          766883,
          771882,
          795992,
          757061,
          745857,
          752065,
          737960,
          825095,
          773601,
          764442,
          792380,
          788141,
          789651,
          801651,
          803909,
          781705,
          750689,
          783412,
          753815,
          861156,
          757468,
          812046,
          799434,
          738039,
          796261,
          761736,
          818415,
          773100,
          722070,
          798870,
          717062,
          835505,
          767209,
          812149,
          788909,
          768759,
          809984,
          748603,
          863690,
          781992,
          713741,
          815599,
          812423,
          835087,
          868950,
          848152,
          867159,
          903341,
          847362,
          886427,
          1044748,
          787348,
          821274,
          808903,
          808643,
          890412,
          861163,
          813619,
          866846,
          864607,
          786623,
          846636,
          890238,
          787874,
          796492,
          795726,
          733407,
          920841,
          863956,
          813618,
          880117,
          848564,
          840841,
          877950,
          886574,
          845309,
          802078,
          820426,
          819778,
          957627,
          879523,
          879057,
          917720,
          847245,
          867963,
          888555,
          904490,
          874486,
          849499,
          882079,
          881314,
          955772,
          877046,
          909369,
          914160,
          861744,
          908647,
          859702,
          894801,
          866608,
          801655,
          903744,
          813899,
          895581,
          918014,
          911934,
          861665,
          891129,
          873110,
          869333,
          954826,
          836633,
          812515,
          819486,
          761198,
          852329,
          876394,
          861708,
          828298,
          843410,
          809051,
          846012,
          920918,
          773867,
          814585,
          792865,
          768061,
          865316,
          866830,
          844218,
          844362,
          880347,
          832174,
          863798,
          915036,
          824372,
          872108,
          814754,
          853755,
          945903,
          887971,
          871973,
          937049,
          877180,
          924589,
          903997,
          910738,
          880411,
          845070,
          892250,
          839628,
          937955,
          887861,
          933868,
          951466,
          862301,
          937835,
          892136,
          965642,
          903675,
          834442,
          849463,
          864116,
          875889,
          895090,
          921286,
          929786,
          899186,
          928756,
          869658,
          1007067,
          892291,
          856786,
          904555,
          855364,
          937946,
          943005,
          958201,
          901148,
          919157,
          930001,
          939904,
          1027773,
          894673,
          895747,
          942302,
          899571,
          500503,
          83152,
          98066,
          155922,
          193463,
          199222,
          227265,
          249651,
          205517,
          194816,
          195421,
          180888,
          247650,
          250811,
          267782,
          310274,
          335529,
          348348,
          376496,
          405668,
          388229,
          375994,
          276324,
          334869
         ],
         "yaxis": "y"
        }
       ],
       "layout": {
        "legend": {
         "title": {
          "text": "City"
         },
         "tracegroupgap": 0
        },
        "margin": {
         "t": 60
        },
        "template": {
         "data": {
          "bar": [
           {
            "error_x": {
             "color": "#2a3f5f"
            },
            "error_y": {
             "color": "#2a3f5f"
            },
            "marker": {
             "line": {
              "color": "#E5ECF6",
              "width": 0.5
             },
             "pattern": {
              "fillmode": "overlay",
              "size": 10,
              "solidity": 0.2
             }
            },
            "type": "bar"
           }
          ],
          "barpolar": [
           {
            "marker": {
             "line": {
              "color": "#E5ECF6",
              "width": 0.5
             },
             "pattern": {
              "fillmode": "overlay",
              "size": 10,
              "solidity": 0.2
             }
            },
            "type": "barpolar"
           }
          ],
          "carpet": [
           {
            "aaxis": {
             "endlinecolor": "#2a3f5f",
             "gridcolor": "white",
             "linecolor": "white",
             "minorgridcolor": "white",
             "startlinecolor": "#2a3f5f"
            },
            "baxis": {
             "endlinecolor": "#2a3f5f",
             "gridcolor": "white",
             "linecolor": "white",
             "minorgridcolor": "white",
             "startlinecolor": "#2a3f5f"
            },
            "type": "carpet"
           }
          ],
          "choropleth": [
           {
            "colorbar": {
             "outlinewidth": 0,
             "ticks": ""
            },
            "type": "choropleth"
           }
          ],
          "contour": [
           {
            "colorbar": {
             "outlinewidth": 0,
             "ticks": ""
            },
            "colorscale": [
             [
              0,
              "#0d0887"
             ],
             [
              0.1111111111111111,
              "#46039f"
             ],
             [
              0.2222222222222222,
              "#7201a8"
             ],
             [
              0.3333333333333333,
              "#9c179e"
             ],
             [
              0.4444444444444444,
              "#bd3786"
             ],
             [
              0.5555555555555556,
              "#d8576b"
             ],
             [
              0.6666666666666666,
              "#ed7953"
             ],
             [
              0.7777777777777778,
              "#fb9f3a"
             ],
             [
              0.8888888888888888,
              "#fdca26"
             ],
             [
              1,
              "#f0f921"
             ]
            ],
            "type": "contour"
           }
          ],
          "contourcarpet": [
           {
            "colorbar": {
             "outlinewidth": 0,
             "ticks": ""
            },
            "type": "contourcarpet"
           }
          ],
          "heatmap": [
           {
            "colorbar": {
             "outlinewidth": 0,
             "ticks": ""
            },
            "colorscale": [
             [
              0,
              "#0d0887"
             ],
             [
              0.1111111111111111,
              "#46039f"
             ],
             [
              0.2222222222222222,
              "#7201a8"
             ],
             [
              0.3333333333333333,
              "#9c179e"
             ],
             [
              0.4444444444444444,
              "#bd3786"
             ],
             [
              0.5555555555555556,
              "#d8576b"
             ],
             [
              0.6666666666666666,
              "#ed7953"
             ],
             [
              0.7777777777777778,
              "#fb9f3a"
             ],
             [
              0.8888888888888888,
              "#fdca26"
             ],
             [
              1,
              "#f0f921"
             ]
            ],
            "type": "heatmap"
           }
          ],
          "heatmapgl": [
           {
            "colorbar": {
             "outlinewidth": 0,
             "ticks": ""
            },
            "colorscale": [
             [
              0,
              "#0d0887"
             ],
             [
              0.1111111111111111,
              "#46039f"
             ],
             [
              0.2222222222222222,
              "#7201a8"
             ],
             [
              0.3333333333333333,
              "#9c179e"
             ],
             [
              0.4444444444444444,
              "#bd3786"
             ],
             [
              0.5555555555555556,
              "#d8576b"
             ],
             [
              0.6666666666666666,
              "#ed7953"
             ],
             [
              0.7777777777777778,
              "#fb9f3a"
             ],
             [
              0.8888888888888888,
              "#fdca26"
             ],
             [
              1,
              "#f0f921"
             ]
            ],
            "type": "heatmapgl"
           }
          ],
          "histogram": [
           {
            "marker": {
             "pattern": {
              "fillmode": "overlay",
              "size": 10,
              "solidity": 0.2
             }
            },
            "type": "histogram"
           }
          ],
          "histogram2d": [
           {
            "colorbar": {
             "outlinewidth": 0,
             "ticks": ""
            },
            "colorscale": [
             [
              0,
              "#0d0887"
             ],
             [
              0.1111111111111111,
              "#46039f"
             ],
             [
              0.2222222222222222,
              "#7201a8"
             ],
             [
              0.3333333333333333,
              "#9c179e"
             ],
             [
              0.4444444444444444,
              "#bd3786"
             ],
             [
              0.5555555555555556,
              "#d8576b"
             ],
             [
              0.6666666666666666,
              "#ed7953"
             ],
             [
              0.7777777777777778,
              "#fb9f3a"
             ],
             [
              0.8888888888888888,
              "#fdca26"
             ],
             [
              1,
              "#f0f921"
             ]
            ],
            "type": "histogram2d"
           }
          ],
          "histogram2dcontour": [
           {
            "colorbar": {
             "outlinewidth": 0,
             "ticks": ""
            },
            "colorscale": [
             [
              0,
              "#0d0887"
             ],
             [
              0.1111111111111111,
              "#46039f"
             ],
             [
              0.2222222222222222,
              "#7201a8"
             ],
             [
              0.3333333333333333,
              "#9c179e"
             ],
             [
              0.4444444444444444,
              "#bd3786"
             ],
             [
              0.5555555555555556,
              "#d8576b"
             ],
             [
              0.6666666666666666,
              "#ed7953"
             ],
             [
              0.7777777777777778,
              "#fb9f3a"
             ],
             [
              0.8888888888888888,
              "#fdca26"
             ],
             [
              1,
              "#f0f921"
             ]
            ],
            "type": "histogram2dcontour"
           }
          ],
          "mesh3d": [
           {
            "colorbar": {
             "outlinewidth": 0,
             "ticks": ""
            },
            "type": "mesh3d"
           }
          ],
          "parcoords": [
           {
            "line": {
             "colorbar": {
              "outlinewidth": 0,
              "ticks": ""
             }
            },
            "type": "parcoords"
           }
          ],
          "pie": [
           {
            "automargin": true,
            "type": "pie"
           }
          ],
          "scatter": [
           {
            "marker": {
             "colorbar": {
              "outlinewidth": 0,
              "ticks": ""
             }
            },
            "type": "scatter"
           }
          ],
          "scatter3d": [
           {
            "line": {
             "colorbar": {
              "outlinewidth": 0,
              "ticks": ""
             }
            },
            "marker": {
             "colorbar": {
              "outlinewidth": 0,
              "ticks": ""
             }
            },
            "type": "scatter3d"
           }
          ],
          "scattercarpet": [
           {
            "marker": {
             "colorbar": {
              "outlinewidth": 0,
              "ticks": ""
             }
            },
            "type": "scattercarpet"
           }
          ],
          "scattergeo": [
           {
            "marker": {
             "colorbar": {
              "outlinewidth": 0,
              "ticks": ""
             }
            },
            "type": "scattergeo"
           }
          ],
          "scattergl": [
           {
            "marker": {
             "colorbar": {
              "outlinewidth": 0,
              "ticks": ""
             }
            },
            "type": "scattergl"
           }
          ],
          "scattermapbox": [
           {
            "marker": {
             "colorbar": {
              "outlinewidth": 0,
              "ticks": ""
             }
            },
            "type": "scattermapbox"
           }
          ],
          "scatterpolar": [
           {
            "marker": {
             "colorbar": {
              "outlinewidth": 0,
              "ticks": ""
             }
            },
            "type": "scatterpolar"
           }
          ],
          "scatterpolargl": [
           {
            "marker": {
             "colorbar": {
              "outlinewidth": 0,
              "ticks": ""
             }
            },
            "type": "scatterpolargl"
           }
          ],
          "scatterternary": [
           {
            "marker": {
             "colorbar": {
              "outlinewidth": 0,
              "ticks": ""
             }
            },
            "type": "scatterternary"
           }
          ],
          "surface": [
           {
            "colorbar": {
             "outlinewidth": 0,
             "ticks": ""
            },
            "colorscale": [
             [
              0,
              "#0d0887"
             ],
             [
              0.1111111111111111,
              "#46039f"
             ],
             [
              0.2222222222222222,
              "#7201a8"
             ],
             [
              0.3333333333333333,
              "#9c179e"
             ],
             [
              0.4444444444444444,
              "#bd3786"
             ],
             [
              0.5555555555555556,
              "#d8576b"
             ],
             [
              0.6666666666666666,
              "#ed7953"
             ],
             [
              0.7777777777777778,
              "#fb9f3a"
             ],
             [
              0.8888888888888888,
              "#fdca26"
             ],
             [
              1,
              "#f0f921"
             ]
            ],
            "type": "surface"
           }
          ],
          "table": [
           {
            "cells": {
             "fill": {
              "color": "#EBF0F8"
             },
             "line": {
              "color": "white"
             }
            },
            "header": {
             "fill": {
              "color": "#C8D4E3"
             },
             "line": {
              "color": "white"
             }
            },
            "type": "table"
           }
          ]
         },
         "layout": {
          "annotationdefaults": {
           "arrowcolor": "#2a3f5f",
           "arrowhead": 0,
           "arrowwidth": 1
          },
          "autotypenumbers": "strict",
          "coloraxis": {
           "colorbar": {
            "outlinewidth": 0,
            "ticks": ""
           }
          },
          "colorscale": {
           "diverging": [
            [
             0,
             "#8e0152"
            ],
            [
             0.1,
             "#c51b7d"
            ],
            [
             0.2,
             "#de77ae"
            ],
            [
             0.3,
             "#f1b6da"
            ],
            [
             0.4,
             "#fde0ef"
            ],
            [
             0.5,
             "#f7f7f7"
            ],
            [
             0.6,
             "#e6f5d0"
            ],
            [
             0.7,
             "#b8e186"
            ],
            [
             0.8,
             "#7fbc41"
            ],
            [
             0.9,
             "#4d9221"
            ],
            [
             1,
             "#276419"
            ]
           ],
           "sequential": [
            [
             0,
             "#0d0887"
            ],
            [
             0.1111111111111111,
             "#46039f"
            ],
            [
             0.2222222222222222,
             "#7201a8"
            ],
            [
             0.3333333333333333,
             "#9c179e"
            ],
            [
             0.4444444444444444,
             "#bd3786"
            ],
            [
             0.5555555555555556,
             "#d8576b"
            ],
            [
             0.6666666666666666,
             "#ed7953"
            ],
            [
             0.7777777777777778,
             "#fb9f3a"
            ],
            [
             0.8888888888888888,
             "#fdca26"
            ],
            [
             1,
             "#f0f921"
            ]
           ],
           "sequentialminus": [
            [
             0,
             "#0d0887"
            ],
            [
             0.1111111111111111,
             "#46039f"
            ],
            [
             0.2222222222222222,
             "#7201a8"
            ],
            [
             0.3333333333333333,
             "#9c179e"
            ],
            [
             0.4444444444444444,
             "#bd3786"
            ],
            [
             0.5555555555555556,
             "#d8576b"
            ],
            [
             0.6666666666666666,
             "#ed7953"
            ],
            [
             0.7777777777777778,
             "#fb9f3a"
            ],
            [
             0.8888888888888888,
             "#fdca26"
            ],
            [
             1,
             "#f0f921"
            ]
           ]
          },
          "colorway": [
           "#636efa",
           "#EF553B",
           "#00cc96",
           "#ab63fa",
           "#FFA15A",
           "#19d3f3",
           "#FF6692",
           "#B6E880",
           "#FF97FF",
           "#FECB52"
          ],
          "font": {
           "color": "#2a3f5f"
          },
          "geo": {
           "bgcolor": "white",
           "lakecolor": "white",
           "landcolor": "#E5ECF6",
           "showlakes": true,
           "showland": true,
           "subunitcolor": "white"
          },
          "hoverlabel": {
           "align": "left"
          },
          "hovermode": "closest",
          "mapbox": {
           "style": "light"
          },
          "paper_bgcolor": "white",
          "plot_bgcolor": "#E5ECF6",
          "polar": {
           "angularaxis": {
            "gridcolor": "white",
            "linecolor": "white",
            "ticks": ""
           },
           "bgcolor": "#E5ECF6",
           "radialaxis": {
            "gridcolor": "white",
            "linecolor": "white",
            "ticks": ""
           }
          },
          "scene": {
           "xaxis": {
            "backgroundcolor": "#E5ECF6",
            "gridcolor": "white",
            "gridwidth": 2,
            "linecolor": "white",
            "showbackground": true,
            "ticks": "",
            "zerolinecolor": "white"
           },
           "yaxis": {
            "backgroundcolor": "#E5ECF6",
            "gridcolor": "white",
            "gridwidth": 2,
            "linecolor": "white",
            "showbackground": true,
            "ticks": "",
            "zerolinecolor": "white"
           },
           "zaxis": {
            "backgroundcolor": "#E5ECF6",
            "gridcolor": "white",
            "gridwidth": 2,
            "linecolor": "white",
            "showbackground": true,
            "ticks": "",
            "zerolinecolor": "white"
           }
          },
          "shapedefaults": {
           "line": {
            "color": "#2a3f5f"
           }
          },
          "ternary": {
           "aaxis": {
            "gridcolor": "white",
            "linecolor": "white",
            "ticks": ""
           },
           "baxis": {
            "gridcolor": "white",
            "linecolor": "white",
            "ticks": ""
           },
           "bgcolor": "#E5ECF6",
           "caxis": {
            "gridcolor": "white",
            "linecolor": "white",
            "ticks": ""
           }
          },
          "title": {
           "x": 0.05
          },
          "xaxis": {
           "automargin": true,
           "gridcolor": "white",
           "linecolor": "white",
           "ticks": "",
           "title": {
            "standoff": 15
           },
           "zerolinecolor": "white",
           "zerolinewidth": 2
          },
          "yaxis": {
           "automargin": true,
           "gridcolor": "white",
           "linecolor": "white",
           "ticks": "",
           "title": {
            "standoff": 15
           },
           "zerolinecolor": "white",
           "zerolinewidth": 2
          }
         }
        },
        "title": {
         "font": {
          "size": 20
         },
         "text": "Passenger Trips",
         "x": 0.5
        },
        "xaxis": {
         "anchor": "y",
         "domain": [
          0,
          1
         ],
         "rangeslider": {
          "visible": true
         },
         "title": {
          "text": "Date"
         }
        },
        "yaxis": {
         "anchor": "x",
         "domain": [
          0,
          1
         ],
         "title": {
          "text": "Trips"
         }
        }
       }
      }
     },
     "metadata": {},
     "output_type": "display_data"
    }
   ],
   "source": [
    "trips_compare_df = trips_filtered_df.query('(City == \"Arlington\") | \\\n",
    "                                       (City == \"Lindenwold\")')\n",
    "fig1 = px.area(trips_compare_df, x='Date', y='Trips', color='City')\n",
    "fig1.update_layout(title='Passenger Trips', xaxis_title='Date', yaxis_title='Trips', title_x=0.5, title_font={'size':20})\n",
    "fig1.update_xaxes(rangeslider_visible=True)\n",
    "fig1.show()"
   ]
  },
  {
   "cell_type": "code",
   "execution_count": 26,
   "metadata": {},
   "outputs": [
    {
     "data": {
      "text/html": [
       "<div>\n",
       "<style scoped>\n",
       "    .dataframe tbody tr th:only-of-type {\n",
       "        vertical-align: middle;\n",
       "    }\n",
       "\n",
       "    .dataframe tbody tr th {\n",
       "        vertical-align: top;\n",
       "    }\n",
       "\n",
       "    .dataframe thead th {\n",
       "        text-align: right;\n",
       "    }\n",
       "</style>\n",
       "<table border=\"1\" class=\"dataframe\">\n",
       "  <thead>\n",
       "    <tr style=\"text-align: right;\">\n",
       "      <th></th>\n",
       "      <th>City</th>\n",
       "      <th>State</th>\n",
       "      <th>Stops</th>\n",
       "    </tr>\n",
       "  </thead>\n",
       "  <tbody>\n",
       "    <tr>\n",
       "      <th>0</th>\n",
       "      <td>Abilene</td>\n",
       "      <td>TX</td>\n",
       "      <td>501</td>\n",
       "    </tr>\n",
       "    <tr>\n",
       "      <th>1</th>\n",
       "      <td>Akron</td>\n",
       "      <td>OH</td>\n",
       "      <td>3648</td>\n",
       "    </tr>\n",
       "  </tbody>\n",
       "</table>\n",
       "</div>"
      ],
      "text/plain": [
       "      City State  Stops\n",
       "0  Abilene    TX    501\n",
       "1    Akron    OH   3648"
      ]
     },
     "execution_count": 26,
     "metadata": {},
     "output_type": "execute_result"
    }
   ],
   "source": [
    "# Estract the stations and stops for NON-FERRY data from the raw data\n",
    "# Calculate the total number of stops per City\n",
    "\n",
    "stations_sub_df = stations_df[stations_df['Type of Facility'] != 'FERRY'].groupby(['City','State'])[['Number of Stations', 'Number of Bus/Rail Stops']].sum().reset_index()\n",
    "stations_sub_df['Stops'] = stations_sub_df['Number of Bus/Rail Stops'] + stations_sub_df['Number of Stations']\n",
    "stations_sub_df = stations_sub_df.loc[:, ['City','State','Stops']]\n",
    "stations_sub_df.head(2)"
   ]
  },
  {
   "cell_type": "code",
   "execution_count": 27,
   "metadata": {},
   "outputs": [
    {
     "data": {
      "text/html": [
       "<div>\n",
       "<style scoped>\n",
       "    .dataframe tbody tr th:only-of-type {\n",
       "        vertical-align: middle;\n",
       "    }\n",
       "\n",
       "    .dataframe tbody tr th {\n",
       "        vertical-align: top;\n",
       "    }\n",
       "\n",
       "    .dataframe thead th {\n",
       "        text-align: right;\n",
       "    }\n",
       "</style>\n",
       "<table border=\"1\" class=\"dataframe\">\n",
       "  <thead>\n",
       "    <tr style=\"text-align: right;\">\n",
       "      <th></th>\n",
       "      <th>HQ City</th>\n",
       "      <th>HQ State</th>\n",
       "      <th>Service Area SQ Miles</th>\n",
       "      <th>Service Area Population</th>\n",
       "    </tr>\n",
       "  </thead>\n",
       "  <tbody>\n",
       "    <tr>\n",
       "      <th>0</th>\n",
       "      <td>SEATTLE</td>\n",
       "      <td>WA</td>\n",
       "      <td>2134.0</td>\n",
       "      <td>2260800.0</td>\n",
       "    </tr>\n",
       "    <tr>\n",
       "      <th>9</th>\n",
       "      <td>SPOKANE</td>\n",
       "      <td>WA</td>\n",
       "      <td>248.0</td>\n",
       "      <td>442499.0</td>\n",
       "    </tr>\n",
       "  </tbody>\n",
       "</table>\n",
       "</div>"
      ],
      "text/plain": [
       "   HQ City HQ State  Service Area SQ Miles  Service Area Population\n",
       "0  SEATTLE       WA                 2134.0                2260800.0\n",
       "9  SPOKANE       WA                  248.0                 442499.0"
      ]
     },
     "execution_count": 27,
     "metadata": {},
     "output_type": "execute_result"
    }
   ],
   "source": [
    "# filter Active Agencies and extract HQ City, HQ State and Service Area SQ Miles columns\n",
    "\n",
    "raw_sub_df = raw_df[raw_df[\"Active\"] == \"Active\"].loc[:,raw_df.columns.isin(['HQ City','HQ State','Service Area SQ Miles', 'Service Area Population'])].drop_duplicates()\n",
    "raw_sub_df.head(2)"
   ]
  },
  {
   "cell_type": "code",
   "execution_count": 28,
   "metadata": {},
   "outputs": [],
   "source": [
    "#raw_sub_df[raw_sub_df['HQ City'].str.lower() == 'alexandria']\n",
    "#convert all cities and states to lower case\n",
    "raw_sub_df['HQ City lower'] = raw_sub_df['HQ City'].str.lower()\n",
    "raw_sub_df['HQ State lower'] = raw_sub_df['HQ State'].str.lower()\n",
    "\n",
    "stations_sub_df['City lower'] = stations_sub_df['City'].str.lower()\n",
    "stations_sub_df['State lower'] = stations_sub_df['State'].str.lower()"
   ]
  },
  {
   "cell_type": "code",
   "execution_count": 29,
   "metadata": {},
   "outputs": [],
   "source": [
    "# Merge raw and station data\n",
    "\n",
    "merged_df = stations_sub_df.merge(raw_sub_df, left_on=['City lower','State lower'], \n",
    "                                  right_on=['HQ City lower','HQ State lower'], \n",
    "                                  how='inner', sort=True)[['City','State','City lower','State lower','Stops','Service Area SQ Miles','Service Area Population']]"
   ]
  },
  {
   "cell_type": "code",
   "execution_count": 30,
   "metadata": {},
   "outputs": [],
   "source": [
    "merged_df = merged_df.groupby(['City','State','Stops', 'City lower', 'State lower']).agg({'Service Area SQ Miles':'sum','Service Area Population':'max'}).reset_index()\n",
    "merged_df.replace(0,np.nan, inplace=True)\n",
    "merged_df.dropna(inplace=True)"
   ]
  },
  {
   "cell_type": "code",
   "execution_count": 31,
   "metadata": {},
   "outputs": [],
   "source": [
    "merged_df['StopsPerMile'] = merged_df['Stops'] / merged_df['Service Area SQ Miles']\n",
    "#merged_df['MilesPerStop'] = merged_df['Service Area SQ Miles'] / merged_df['Stops']\n",
    "merged_df['StopsPerPop'] = merged_df['Stops'] / merged_df['Service Area Population']\n",
    "merged_df['PopDensity'] = merged_df['Service Area Population'] / merged_df['Service Area SQ Miles']\n",
    "#merged_df['PopulationPerStop'] = merged_df['Service Area SQ Miles'] / merged_df['Stops']"
   ]
  },
  {
   "cell_type": "code",
   "execution_count": 32,
   "metadata": {},
   "outputs": [],
   "source": [
    "distortions = []\n",
    "K = range(1,20)\n",
    "for k in K:\n",
    "    kmeanModel = KMeans(n_clusters=k)\n",
    "    kmeanModel.fit(merged_df.loc[:,merged_df.columns.isin(['StopsPerMile', 'PopDensity'])])\n",
    "    distortions.append(kmeanModel.inertia_)"
   ]
  },
  {
   "cell_type": "code",
   "execution_count": 33,
   "metadata": {},
   "outputs": [
    {
     "data": {
      "image/png": "[encoded data removed]",
      "text/plain": [
       "<Figure size 1152x576 with 1 Axes>"
      ]
     },
     "metadata": {
      "needs_background": "light"
     },
     "output_type": "display_data"
    }
   ],
   "source": [
    "plt.figure(figsize=(16,8))\n",
    "plt.plot(K, distortions, 'bx-')\n",
    "plt.xlabel('k')\n",
    "plt.ylabel('Distortion')\n",
    "plt.title('The Elbow Method showing the optimal k')\n",
    "plt.show()"
   ]
  },
  {
   "cell_type": "code",
   "execution_count": 34,
   "metadata": {},
   "outputs": [],
   "source": [
    "kmeanModel = KMeans(n_clusters=4)\n",
    "kmeanModel.fit(merged_df.loc[:,merged_df.columns.isin(['StopsPerMile', 'PopDensity'])])\n",
    "merged_df['k_means']=kmeanModel.predict(merged_df.loc[:,merged_df.columns.isin(['StopsPerMile', 'PopDensity'])])\n",
    "merged_df['k_means']=merged_df['k_means'].astype(\"category\")"
   ]
  },
  {
   "cell_type": "code",
   "execution_count": 35,
   "metadata": {},
   "outputs": [
    {
     "name": "stdout",
     "output_type": "stream",
     "text": [
      "<class 'numpy.float64'>\n"
     ]
    }
   ],
   "source": [
    "print(type(merged_df[merged_df['City']=='Lindenwold']['PopDensity'].values[0]))"
   ]
  },
  {
   "cell_type": "code",
   "execution_count": 36,
   "metadata": {},
   "outputs": [
    {
     "data": {
      "application/vnd.plotly.v1+json": {
       "config": {
        "plotlyServerURL": "https://plotly.com"
       },
       "data": [
        {
         "customdata": [
          [
           "Abilene",
           "TX"
          ],
          [
           "Akron",
           "OH"
          ],
          [
           "Albuquerque",
           "NM"
          ],
          [
           "Allentown",
           "PA"
          ],
          [
           "Anchorage",
           "AK"
          ],
          [
           "Ann Arbor",
           "MI"
          ],
          [
           "Antioch",
           "CA"
          ],
          [
           "Arlington Heights",
           "IL"
          ],
          [
           "Atlanta",
           "GA"
          ],
          [
           "Baton Rouge",
           "LA"
          ],
          [
           "Battle Creek",
           "MI"
          ],
          [
           "Bay City",
           "MI"
          ],
          [
           "Boise",
           "ID"
          ],
          [
           "Boston",
           "MA"
          ],
          [
           "Bremerton",
           "WA"
          ],
          [
           "Bryan",
           "TX"
          ],
          [
           "Burlington",
           "VT"
          ],
          [
           "Canton",
           "OH"
          ],
          [
           "Charleroi",
           "PA"
          ],
          [
           "Charlotte",
           "NC"
          ],
          [
           "Chattanooga",
           "TN"
          ],
          [
           "Clarksville",
           "TN"
          ],
          [
           "Columbia",
           "SC"
          ],
          [
           "Corpus Christi",
           "TX"
          ],
          [
           "Daytona Beach",
           "FL"
          ],
          [
           "Decatur",
           "IL"
          ],
          [
           "Delano",
           "CA"
          ],
          [
           "Delaware",
           "OH"
          ],
          [
           "Denton",
           "TX"
          ],
          [
           "Denver",
           "CO"
          ],
          [
           "Dover",
           "DE"
          ],
          [
           "Duluth",
           "MN"
          ],
          [
           "Durham",
           "NC"
          ],
          [
           "Durham",
           "NH"
          ],
          [
           "Eden Prairie",
           "MN"
          ],
          [
           "Eugene",
           "OR"
          ],
          [
           "Flint",
           "MI"
          ],
          [
           "Fort Collins",
           "CO"
          ],
          [
           "Fort Myers",
           "FL"
          ],
          [
           "Franklin",
           "TN"
          ],
          [
           "Gainesville",
           "GA"
          ],
          [
           "Galveston",
           "TX"
          ],
          [
           "Grand Junction",
           "CO"
          ],
          [
           "Green Bay",
           "WI"
          ],
          [
           "Greensburg",
           "PA"
          ],
          [
           "Hamilton",
           "OH"
          ],
          [
           "Hampton",
           "VA"
          ],
          [
           "Harrisburg",
           "PA"
          ],
          [
           "Hartford",
           "CT"
          ],
          [
           "Hesperia",
           "CA"
          ],
          [
           "Houma",
           "LA"
          ],
          [
           "Houston",
           "TX"
          ],
          [
           "Huntington",
           "WV"
          ],
          [
           "Indianapolis",
           "IN"
          ],
          [
           "Iowa City",
           "IA"
          ],
          [
           "Ithaca",
           "NY"
          ],
          [
           "Jackson",
           "MS"
          ],
          [
           "Jacksonville",
           "FL"
          ],
          [
           "Johnstown",
           "PA"
          ],
          [
           "Kalamazoo",
           "MI"
          ],
          [
           "Kansas City",
           "MO"
          ],
          [
           "Kent",
           "OH"
          ],
          [
           "Kingsport",
           "TN"
          ],
          [
           "Knoxville",
           "TN"
          ],
          [
           "Lafayette",
           "IN"
          ],
          [
           "Lancaster",
           "CA"
          ],
          [
           "Lancaster",
           "PA"
          ],
          [
           "Largo",
           "MD"
          ],
          [
           "Las Cruces",
           "NM"
          ],
          [
           "Lebanon",
           "PA"
          ],
          [
           "Lexington",
           "KY"
          ],
          [
           "Los Angeles",
           "CA"
          ],
          [
           "Louisville",
           "KY"
          ],
          [
           "Lynchburg",
           "VA"
          ],
          [
           "Memphis",
           "TN"
          ],
          [
           "Minneapolis",
           "MN"
          ],
          [
           "Missoula",
           "MT"
          ],
          [
           "Mobile",
           "AL"
          ],
          [
           "Monroe",
           "MI"
          ],
          [
           "Monterey",
           "CA"
          ],
          [
           "Morgantown",
           "WV"
          ],
          [
           "Nashville",
           "TN"
          ],
          [
           "Olympia",
           "WA"
          ],
          [
           "Orlando",
           "FL"
          ],
          [
           "Owensboro",
           "KY"
          ],
          [
           "Pittsburgh",
           "PA"
          ],
          [
           "Port Arthur",
           "TX"
          ],
          [
           "Port Huron",
           "MI"
          ],
          [
           "Portland",
           "OR"
          ],
          [
           "Providence",
           "RI"
          ],
          [
           "Reading",
           "PA"
          ],
          [
           "Redding",
           "CA"
          ],
          [
           "Richland",
           "WA"
          ],
          [
           "Riverside",
           "CA"
          ],
          [
           "Rochester",
           "PA"
          ],
          [
           "Rockford",
           "IL"
          ],
          [
           "San Antonio",
           "TX"
          ],
          [
           "San Bernardino",
           "CA"
          ],
          [
           "San Diego",
           "CA"
          ],
          [
           "San Francisco",
           "CA"
          ],
          [
           "San Juan",
           "PR"
          ],
          [
           "San Luis Obispo",
           "CA"
          ],
          [
           "Santa Cruz",
           "CA"
          ],
          [
           "Santa Fe",
           "NM"
          ],
          [
           "Sarasota",
           "FL"
          ],
          [
           "Savannah",
           "GA"
          ],
          [
           "Scranton",
           "PA"
          ],
          [
           "Seattle",
           "WA"
          ],
          [
           "South Bend",
           "IN"
          ],
          [
           "Spartanburg",
           "SC"
          ],
          [
           "Spokane",
           "WA"
          ],
          [
           "Springfield",
           "IL"
          ],
          [
           "State College",
           "PA"
          ],
          [
           "Stockton",
           "CA"
          ],
          [
           "Syracuse",
           "NY"
          ],
          [
           "Tacoma",
           "WA"
          ],
          [
           "Tallahassee",
           "FL"
          ],
          [
           "Tampa",
           "FL"
          ],
          [
           "Taunton",
           "MA"
          ],
          [
           "Thousand Palms",
           "CA"
          ],
          [
           "Tucson",
           "AZ"
          ],
          [
           "Tulsa",
           "OK"
          ],
          [
           "Waco",
           "TX"
          ],
          [
           "Wenatchee",
           "WA"
          ],
          [
           "West Palm Beach",
           "FL"
          ],
          [
           "Williamsport",
           "PA"
          ],
          [
           "Wilmington",
           "NC"
          ],
          [
           "Wilsonville",
           "OR"
          ],
          [
           "Woodbridge",
           "VA"
          ],
          [
           "York",
           "PA"
          ]
         ],
         "hovertemplate": "Groups=Less Population<br>Population Density=%{x}<br>Stops=%{y}<br>City=%{customdata[Less Population]}<br>State=%{customdata[1]}<extra></extra>",
         "legendgroup": "Less Population",
         "marker": {
          "color": "#636efa",
          "symbol": "circle"
         },
         "mode": "markers",
         "name": "Less Population",
         "orientation": "v",
         "showlegend": true,
         "type": "scatter",
         "x": [
          1091.8090909090909,
          1288.1261904761905,
          808.2982608695652,
          1645.3703703703704,
          1028.2827988338192,
          1179.317107093185,
          1460,
          1359.871705107084,
          1285.3918575063612,
          1739.9241706161138,
          1201.849315068493,
          235.83484162895928,
          53.85000660763843,
          958.4796547472256,
          641.8762626262626,
          1790.5405405405406,
          136.13342898134863,
          646.447504302926,
          1810.590909090909,
          1845.0694050991501,
          580.1868512110726,
          1290.2,
          422.8071895424837,
          414.1513002364066,
          409.7705053852527,
          1550.0943396226414,
          1060.82,
          436.74074074074076,
          978.4328018223234,
          1246.797608881298,
          499.6223704463828,
          1483.1014492753623,
          911.7315130830489,
          1549.0196078431372,
          1503.9753086419753,
          626.9709543568465,
          636.5390625,
          1505.5363636363636,
          921.9815724815725,
          263.67621585609595,
          554.0138504155125,
          1768.2592592592594,
          1673.536231884058,
          1962.9333333333334,
          443.2125748502994,
          815.1787234042553,
          1575.9512195121952,
          1512.5464333781965,
          666.7810998398292,
          1052.868501529052,
          1452.6842105263158,
          1446.3353253652058,
          1568.9021739130435,
          1215.0274869109949,
          192.19089574155655,
          214.6638655462185,
          1590.3762376237623,
          799.4715871979099,
          189.2325581395349,
          457.0103448275862,
          1722.1572052401746,
          322.3531746031746,
          988.4074074074074,
          170.29148566463945,
          1815.3108108108108,
          290.875,
          339.07178571428574,
          1865.1088295687885,
          1962.490909090909,
          368.97237569060775,
          1041.5598591549297,
          1799.98496868476,
          429.9065287192294,
          1122.861111111111,
          1240.74,
          784.3963666391412,
          916.75,
          1366.3552631578948,
          600.4967320261438,
          1476.3979591836735,
          300.2491803278688,
          210.76269621421977,
          1915.5913978494623,
          840.3192913385827,
          80.3215744522837,
          1003.8538557213931,
          1480.8974358974358,
          227.64285714285714,
          990.6965299684542,
          724.978561549101,
          476.20601851851853,
          1265.51,
          491.0064935064935,
          411.39678011004685,
          387.58863636363634,
          1702.7179487179487,
          174.24539392875943,
          636.1327873647265,
          673.0651512076314,
          983.2433180999861,
          1725.0556715379262,
          1355.3157894736842,
          614.677130044843,
          1204.237668161435,
          439.8829676071055,
          786.3353474320242,
          1261.394117647059,
          591.4575645756457,
          976.873417721519,
          192.40974729241879,
          1784.2701612903227,
          1902.8,
          1131.9021739130435,
          1525.6847222222223,
          856.2843791722296,
          1608.1809523809525,
          1355.8254716981132,
          1074.0128585558853,
          685.1976047904192,
          421.8098214285714,
          102.93470453803461,
          1938.076923076923,
          1899.5353535353536,
          551.5736040609137,
          754.2847715736041,
          758.304347826087,
          1197.54,
          923.375,
          1257.8836565096954,
          243.5001976284585
         ],
         "xaxis": "x",
         "y": [
          501,
          3648,
          3718,
          2159,
          12,
          1261,
          616,
          21407,
          11556,
          1643,
          461,
          501,
          1680,
          8192,
          1201,
          49,
          699,
          1508,
          83,
          2995,
          68,
          710,
          1298,
          1452,
          2181,
          430,
          56,
          70,
          183,
          10368,
          2491,
          1202,
          1501,
          105,
          12,
          1880,
          1187,
          387,
          1713,
          48,
          392,
          374,
          453,
          1501,
          332,
          12,
          2673,
          1616,
          8372,
          972,
          277,
          10103,
          35,
          3634,
          435,
          658,
          86,
          4369,
          1205,
          740,
          6309,
          370,
          61,
          1801,
          1082,
          1171,
          2502,
          1600,
          259,
          95,
          929,
          18568,
          5501,
          1001,
          4621,
          16054,
          472,
          1302,
          8,
          1284,
          362,
          3168,
          922,
          4434,
          244,
          7007,
          480,
          302,
          6766,
          4753,
          1103,
          341,
          908,
          2554,
          317,
          1034,
          7141,
          2507,
          8261,
          4225,
          1578,
          150,
          833,
          961,
          2454,
          1301,
          340,
          8406,
          902,
          571,
          1705,
          1,
          837,
          997,
          3507,
          2544,
          915,
          3979,
          14,
          507,
          4741,
          3925,
          276,
          621,
          3219,
          4,
          601,
          132,
          623,
          734
         ],
         "yaxis": "y"
        },
        {
         "customdata": [
          [
           "Albany",
           "NY"
          ],
          [
           "Alexandria",
           "VA"
          ],
          [
           "Altoona",
           "PA"
          ],
          [
           "Ames",
           "IA"
          ],
          [
           "Athens",
           "GA"
          ],
          [
           "Austin",
           "TX"
          ],
          [
           "Bakersfield",
           "CA"
          ],
          [
           "Baltimore",
           "MD"
          ],
          [
           "Berlin",
           "CT"
          ],
          [
           "Blacksburg",
           "VA"
          ],
          [
           "Bloomington",
           "IN"
          ],
          [
           "Bridgeport",
           "CT"
          ],
          [
           "Buffalo",
           "NY"
          ],
          [
           "Burnsville",
           "MN"
          ],
          [
           "Chicago",
           "IL"
          ],
          [
           "Cincinnati",
           "OH"
          ],
          [
           "Cleveland",
           "OH"
          ],
          [
           "Colorado Springs",
           "CO"
          ],
          [
           "Columbus",
           "OH"
          ],
          [
           "Dallas",
           "TX"
          ],
          [
           "Dayton",
           "OH"
          ],
          [
           "Des Moines",
           "IA"
          ],
          [
           "Detroit",
           "MI"
          ],
          [
           "East Chicago",
           "IN"
          ],
          [
           "El Paso",
           "TX"
          ],
          [
           "Everett",
           "WA"
          ],
          [
           "Fairfax",
           "VA"
          ],
          [
           "Fairfield",
           "CA"
          ],
          [
           "Fargo",
           "ND"
          ],
          [
           "Flagstaff",
           "AZ"
          ],
          [
           "Fort Worth",
           "TX"
          ],
          [
           "Fresno",
           "CA"
          ],
          [
           "Gainesville",
           "FL"
          ],
          [
           "Gary",
           "IN"
          ],
          [
           "Glendale",
           "AZ"
          ],
          [
           "Grand Rapids",
           "MI"
          ],
          [
           "Great Falls",
           "MT"
          ],
          [
           "Honolulu",
           "HI"
          ],
          [
           "Kenosha",
           "WI"
          ],
          [
           "Lansing",
           "MI"
          ],
          [
           "Laredo",
           "TX"
          ],
          [
           "Las Vegas",
           "NV"
          ],
          [
           "Lawrence",
           "KS"
          ],
          [
           "Lawrenceville",
           "GA"
          ],
          [
           "Lawton",
           "OK"
          ],
          [
           "Lewisville",
           "TX"
          ],
          [
           "Logan",
           "UT"
          ],
          [
           "Long Beach",
           "NY"
          ],
          [
           "Lubbock",
           "TX"
          ],
          [
           "Madison",
           "WI"
          ],
          [
           "Marietta",
           "GA"
          ],
          [
           "Milwaukee",
           "WI"
          ],
          [
           "Montebello",
           "CA"
          ],
          [
           "Muncie",
           "IN"
          ],
          [
           "Murfreesboro",
           "TN"
          ],
          [
           "Napa",
           "CA"
          ],
          [
           "Newark",
           "NJ"
          ],
          [
           "Norwalk",
           "CT"
          ],
          [
           "Oakland",
           "CA"
          ],
          [
           "Oceanside",
           "CA"
          ],
          [
           "Oklahoma City",
           "OK"
          ],
          [
           "Olathe",
           "KS"
          ],
          [
           "Oxnard",
           "CA"
          ],
          [
           "Parkersburg",
           "WV"
          ],
          [
           "Peoria",
           "IL"
          ],
          [
           "Philadelphia",
           "PA"
          ],
          [
           "Phoenix",
           "AZ"
          ],
          [
           "Plymouth",
           "MN"
          ],
          [
           "Pompano Beach",
           "FL"
          ],
          [
           "Pueblo",
           "CO"
          ],
          [
           "Racine",
           "WI"
          ],
          [
           "Reno",
           "NV"
          ],
          [
           "Richmond",
           "VA"
          ],
          [
           "Rochester",
           "NY"
          ],
          [
           "Rockville",
           "MD"
          ],
          [
           "Sacramento",
           "CA"
          ],
          [
           "Saginaw",
           "MI"
          ],
          [
           "Saint Cloud",
           "MN"
          ],
          [
           "Saint Louis",
           "MO"
          ],
          [
           "Salem",
           "OR"
          ],
          [
           "Salt Lake City",
           "UT"
          ],
          [
           "Santa Barbara",
           "CA"
          ],
          [
           "Santa Clarita",
           "CA"
          ],
          [
           "Scottsdale",
           "AZ"
          ],
          [
           "Simi Valley",
           "CA"
          ],
          [
           "Sioux City",
           "IA"
          ],
          [
           "Sioux Falls",
           "SD"
          ],
          [
           "Springfield",
           "MO"
          ],
          [
           "Stuart",
           "FL"
          ],
          [
           "Toledo",
           "OH"
          ],
          [
           "Topeka",
           "KS"
          ],
          [
           "Urbana",
           "IL"
          ],
          [
           "Vallejo",
           "CA"
          ],
          [
           "Vancouver",
           "WA"
          ],
          [
           "Visalia",
           "CA"
          ],
          [
           "Washington",
           "DC"
          ],
          [
           "Waukesha",
           "WI"
          ],
          [
           "West Covina",
           "CA"
          ],
          [
           "Yuma",
           "AZ"
          ]
         ],
         "hovertemplate": "Groups=Normal Population<br>Population Density=%{x}<br>Stops=%{y}<br>City=%{customdata[0]}<br>State=%{customdata[1]}<extra></extra>",
         "legendgroup": "Normal Population",
         "marker": {
          "color": "#EF553B",
          "symbol": "circle"
         },
         "mode": "markers",
         "name": "Normal Population",
         "orientation": "v",
         "showlegend": true,
         "type": "scatter",
         "x": [
          2473.183574879227,
          3000.4892761394103,
          2784.32,
          3629.6666666666665,
          2068.6206896551726,
          2414.5091575091574,
          4513.306306306306,
          2957.6467247254827,
          2513.1111111111113,
          2163.3529411764707,
          4142.238095238095,
          3546.28,
          2563.3707571801565,
          2030.5971223021584,
          3101.7411362665525,
          2551.030821917808,
          3083.2751091703058,
          3359.7377049180327,
          2638.7002341920374,
          3466.8563300142246,
          2040.3722627737227,
          2605.294117647059,
          2790.9348003259984,
          2517.909090909091,
          2989.98,
          2841.972602739726,
          2791.46004842615,
          3921.31007751938,
          3458.222222222222,
          2479.896551724138,
          2514.1114285714284,
          3996.812030075188,
          2157.7631578947367,
          2703.842105263158,
          4207.9152542372885,
          2696.632258064516,
          3200.5,
          3441.1805054151623,
          3699.777777777778,
          2150.044117647059,
          4305.796610169492,
          3586.8839285714284,
          2211.2954545454545,
          2369.9453924914674,
          2231.285714285714,
          3818.256097560976,
          2893.939393939394,
          2559.6153846153848,
          4164.3,
          3539.605633802817,
          3276.5619047619048,
          3907.9586776859505,
          2086.582781456954,
          2595.740740740741,
          2112.3870967741937,
          3066.6666666666665,
          1989.4860093896714,
          2415.5555555555557,
          3210.078828828829,
          3081.4470588235295,
          2767.2579505300355,
          2723.7872340425533,
          4372.142857142857,
          2827.6428571428573,
          1999.009523809524,
          4091.0143027413587,
          2205.2560066280034,
          2270.714285714286,
          4174.625,
          2895.7179487179487,
          4151.851851851852,
          2425.4338235294117,
          2282.009259259259,
          2369.9453924914674,
          2122.6020202020204,
          3962.5365853658536,
          3177.285714285714,
          3552.344827586207,
          2806.4587813620074,
          3384.0882352941176,
          3061.955459770115,
          3839.769230769231,
          3234.24358974359,
          2008.1041666666667,
          3020.904761904762,
          2304.301886792453,
          2772.549019607843,
          2053.2736842105264,
          2439.9692307692308,
          2635.3028169014083,
          2197.810344827586,
          3403.0243902439024,
          2299.5846153846155,
          3018.2167832167834,
          3573.782608695652,
          3818.8572895277207,
          3294,
          4635.584097859327,
          2509.628205128205
         ],
         "xaxis": "x",
         "y": [
          2665,
          582,
          453,
          416,
          451,
          2752,
          1027,
          6144,
          30,
          279,
          501,
          2081,
          4523,
          241,
          11533,
          5524,
          8586,
          949,
          3027,
          11477,
          3040,
          1621,
          12716,
          26,
          2881,
          2054,
          6720,
          319,
          751,
          190,
          4094,
          1613,
          1131,
          101,
          638,
          1733,
          3,
          3855,
          704,
          1311,
          1042,
          4501,
          367,
          746,
          301,
          374,
          376,
          101,
          801,
          2106,
          1101,
          5622,
          951,
          1360,
          19,
          303,
          19740,
          146,
          5373,
          1919,
          1102,
          85,
          789,
          5,
          851,
          15278,
          11080,
          762,
          4716,
          547,
          901,
          1016,
          2083,
          3528,
          5351,
          3731,
          4,
          827,
          8272,
          708,
          6301,
          751,
          713,
          551,
          238,
          157,
          51,
          766,
          65,
          2330,
          1701,
          1437,
          507,
          1246,
          569,
          11366,
          690,
          2789,
          404
         ],
         "yaxis": "y"
        },
        {
         "customdata": [
          [
           "Culver City",
           "CA"
          ],
          [
           "Gardena",
           "CA"
          ],
          [
           "Lindenwold",
           "NJ"
          ],
          [
           "Norwalk",
           "CA"
          ],
          [
           "Santa Monica",
           "CA"
          ]
         ],
         "hovertemplate": "Groups=Above Normal Population<br>Population Density=%{x}<br>Stops=%{y}<br>City=%{customdata[0]}<br>State=%{customdata[1]}<extra></extra>",
         "legendgroup": "Above Normal Population",
         "marker": {
          "color": "#00cc96",
          "symbol": "circle"
         },
         "mode": "markers",
         "name": "Above Normal Population",
         "orientation": "v",
         "showlegend": true,
         "type": "scatter",
         "x": [
          10355.09090909091,
          11599.2,
          9982.875,
          17226.08108108108,
          14507.084745762711
         ],
         "xaxis": "x",
         "y": [
          423,
          257,
          13,
          479,
          1112
         ],
         "yaxis": "y"
        },
        {
         "customdata": [
          [
           "Anaheim",
           "CA"
          ],
          [
           "Arlington",
           "VA"
          ],
          [
           "Davis",
           "CA"
          ],
          [
           "Glendale",
           "CA"
          ],
          [
           "Kingston",
           "PA"
          ],
          [
           "Livermore",
           "CA"
          ],
          [
           "Long Beach",
           "CA"
          ],
          [
           "Miami",
           "FL"
          ],
          [
           "New Orleans",
           "LA"
          ],
          [
           "New York",
           "NY"
          ],
          [
           "Orange",
           "CA"
          ],
          [
           "Redondo Beach",
           "CA"
          ],
          [
           "San Carlos",
           "CA"
          ],
          [
           "San Jose",
           "CA"
          ],
          [
           "Torrance",
           "CA"
          ]
         ],
         "hovertemplate": "Groups=Dense Population<br>Population Density=%{x}<br>Stops=%{y}<br>City=%{customdata[0]}<br>State=%{customdata[Dense Population]}<extra></extra>",
         "legendgroup": "Dense Population",
         "marker": {
          "color": "#ab63fa",
          "symbol": "circle"
         },
         "mode": "markers",
         "name": "Dense Population",
         "orientation": "v",
         "showlegend": true,
         "type": "scatter",
         "x": [
          7160,
          8784.615384615385,
          5448.2307692307695,
          5729.923076923077,
          5268.214285714285,
          5902.7,
          8466.07,
          8158.28431372549,
          5201.92,
          7307.371186440678,
          6643.796803652968,
          5171.7692307692305,
          6924.743295019157,
          5648.225433526011,
          5891.718446601942
         ],
         "xaxis": "x",
         "y": [
          147,
          501,
          292,
          526,
          2100,
          871,
          1886,
          9013,
          2416,
          16789,
          6224,
          273,
          2204,
          3965,
          952
         ],
         "yaxis": "y"
        }
       ],
       "layout": {
        "annotations": [
         {
          "arrowhead": 1,
          "showarrow": true,
          "text": "Lindenwold",
          "x": 9982.875,
          "y": 1.1139433523068367
         },
         {
          "arrowhead": 1,
          "showarrow": true,
          "text": "Chicago",
          "x": 3101.7411362665525,
          "y": 4.061942292028086
         },
         {
          "arrowhead": 1,
          "showarrow": true,
          "text": "New York",
          "x": 7307.371186440678,
          "y": 4.22502482910913
         },
         {
          "arrowhead": 1,
          "showarrow": true,
          "text": "Boston",
          "x": 958.4796547472256,
          "y": 3.9133899436317554
         },
         {
          "arrowhead": 1,
          "showarrow": true,
          "text": "San Jose",
          "x": 5648.225433526011,
          "y": 3.5982431916536224
         },
         {
          "arrowhead": 1,
          "showarrow": true,
          "text": "Norwalk",
          "x": 17226.08108108108,
          "y": 2.680335513414563
         },
         {
          "arrowhead": 1,
          "showarrow": true,
          "text": "Santa Monica",
          "x": 14507.084745762711,
          "y": 3.0461047872460387
         },
         {
          "arrowhead": 1,
          "showarrow": true,
          "text": "Pompano Beach",
          "x": 4174.625,
          "y": 3.6735737964230517
         },
         {
          "arrowhead": 1,
          "showarrow": true,
          "text": "Gardena",
          "x": 11599.2,
          "y": 2.4099331233312946
         },
         {
          "arrowhead": 1,
          "showarrow": true,
          "text": "Culver City",
          "x": 10355.09090909091,
          "y": 2.6263403673750423
         },
         {
          "arrowhead": 1,
          "showarrow": true,
          "text": "Miami",
          "x": 8158.28431372549,
          "y": 3.9548693710664784
         },
         {
          "arrowhead": 1,
          "showarrow": true,
          "text": "Long Beach",
          "x": 8466.07,
          "y": 3.2755416884013098
         },
         {
          "arrowhead": 1,
          "showarrow": true,
          "text": "Arlington",
          "x": 8784.615384615385,
          "y": 2.699837725867246
         }
        ],
        "legend": {
         "orientation": "h",
         "title": {
          "text": ""
         },
         "tracegroupgap": 0,
         "x": 1,
         "xanchor": "right",
         "y": 1.02,
         "yanchor": "bottom"
        },
        "margin": {
         "t": 60
        },
        "template": {
         "data": {
          "bar": [
           {
            "error_x": {
             "color": "#2a3f5f"
            },
            "error_y": {
             "color": "#2a3f5f"
            },
            "marker": {
             "line": {
              "color": "#E5ECF6",
              "width": 0.5
             },
             "pattern": {
              "fillmode": "overlay",
              "size": 10,
              "solidity": 0.2
             }
            },
            "type": "bar"
           }
          ],
          "barpolar": [
           {
            "marker": {
             "line": {
              "color": "#E5ECF6",
              "width": 0.5
             },
             "pattern": {
              "fillmode": "overlay",
              "size": 10,
              "solidity": 0.2
             }
            },
            "type": "barpolar"
           }
          ],
          "carpet": [
           {
            "aaxis": {
             "endlinecolor": "#2a3f5f",
             "gridcolor": "white",
             "linecolor": "white",
             "minorgridcolor": "white",
             "startlinecolor": "#2a3f5f"
            },
            "baxis": {
             "endlinecolor": "#2a3f5f",
             "gridcolor": "white",
             "linecolor": "white",
             "minorgridcolor": "white",
             "startlinecolor": "#2a3f5f"
            },
            "type": "carpet"
           }
          ],
          "choropleth": [
           {
            "colorbar": {
             "outlinewidth": 0,
             "ticks": ""
            },
            "type": "choropleth"
           }
          ],
          "contour": [
           {
            "colorbar": {
             "outlinewidth": 0,
             "ticks": ""
            },
            "colorscale": [
             [
              0,
              "#0d0887"
             ],
             [
              0.1111111111111111,
              "#46039f"
             ],
             [
              0.2222222222222222,
              "#7201a8"
             ],
             [
              0.3333333333333333,
              "#9c179e"
             ],
             [
              0.4444444444444444,
              "#bd3786"
             ],
             [
              0.5555555555555556,
              "#d8576b"
             ],
             [
              0.6666666666666666,
              "#ed7953"
             ],
             [
              0.7777777777777778,
              "#fb9f3a"
             ],
             [
              0.8888888888888888,
              "#fdca26"
             ],
             [
              1,
              "#f0f921"
             ]
            ],
            "type": "contour"
           }
          ],
          "contourcarpet": [
           {
            "colorbar": {
             "outlinewidth": 0,
             "ticks": ""
            },
            "type": "contourcarpet"
           }
          ],
          "heatmap": [
           {
            "colorbar": {
             "outlinewidth": 0,
             "ticks": ""
            },
            "colorscale": [
             [
              0,
              "#0d0887"
             ],
             [
              0.1111111111111111,
              "#46039f"
             ],
             [
              0.2222222222222222,
              "#7201a8"
             ],
             [
              0.3333333333333333,
              "#9c179e"
             ],
             [
              0.4444444444444444,
              "#bd3786"
             ],
             [
              0.5555555555555556,
              "#d8576b"
             ],
             [
              0.6666666666666666,
              "#ed7953"
             ],
             [
              0.7777777777777778,
              "#fb9f3a"
             ],
             [
              0.8888888888888888,
              "#fdca26"
             ],
             [
              1,
              "#f0f921"
             ]
            ],
            "type": "heatmap"
           }
          ],
          "heatmapgl": [
           {
            "colorbar": {
             "outlinewidth": 0,
             "ticks": ""
            },
            "colorscale": [
             [
              0,
              "#0d0887"
             ],
             [
              0.1111111111111111,
              "#46039f"
             ],
             [
              0.2222222222222222,
              "#7201a8"
             ],
             [
              0.3333333333333333,
              "#9c179e"
             ],
             [
              0.4444444444444444,
              "#bd3786"
             ],
             [
              0.5555555555555556,
              "#d8576b"
             ],
             [
              0.6666666666666666,
              "#ed7953"
             ],
             [
              0.7777777777777778,
              "#fb9f3a"
             ],
             [
              0.8888888888888888,
              "#fdca26"
             ],
             [
              1,
              "#f0f921"
             ]
            ],
            "type": "heatmapgl"
           }
          ],
          "histogram": [
           {
            "marker": {
             "pattern": {
              "fillmode": "overlay",
              "size": 10,
              "solidity": 0.2
             }
            },
            "type": "histogram"
           }
          ],
          "histogram2d": [
           {
            "colorbar": {
             "outlinewidth": 0,
             "ticks": ""
            },
            "colorscale": [
             [
              0,
              "#0d0887"
             ],
             [
              0.1111111111111111,
              "#46039f"
             ],
             [
              0.2222222222222222,
              "#7201a8"
             ],
             [
              0.3333333333333333,
              "#9c179e"
             ],
             [
              0.4444444444444444,
              "#bd3786"
             ],
             [
              0.5555555555555556,
              "#d8576b"
             ],
             [
              0.6666666666666666,
              "#ed7953"
             ],
             [
              0.7777777777777778,
              "#fb9f3a"
             ],
             [
              0.8888888888888888,
              "#fdca26"
             ],
             [
              1,
              "#f0f921"
             ]
            ],
            "type": "histogram2d"
           }
          ],
          "histogram2dcontour": [
           {
            "colorbar": {
             "outlinewidth": 0,
             "ticks": ""
            },
            "colorscale": [
             [
              0,
              "#0d0887"
             ],
             [
              0.1111111111111111,
              "#46039f"
             ],
             [
              0.2222222222222222,
              "#7201a8"
             ],
             [
              0.3333333333333333,
              "#9c179e"
             ],
             [
              0.4444444444444444,
              "#bd3786"
             ],
             [
              0.5555555555555556,
              "#d8576b"
             ],
             [
              0.6666666666666666,
              "#ed7953"
             ],
             [
              0.7777777777777778,
              "#fb9f3a"
             ],
             [
              0.8888888888888888,
              "#fdca26"
             ],
             [
              1,
              "#f0f921"
             ]
            ],
            "type": "histogram2dcontour"
           }
          ],
          "mesh3d": [
           {
            "colorbar": {
             "outlinewidth": 0,
             "ticks": ""
            },
            "type": "mesh3d"
           }
          ],
          "parcoords": [
           {
            "line": {
             "colorbar": {
              "outlinewidth": 0,
              "ticks": ""
             }
            },
            "type": "parcoords"
           }
          ],
          "pie": [
           {
            "automargin": true,
            "type": "pie"
           }
          ],
          "scatter": [
           {
            "marker": {
             "colorbar": {
              "outlinewidth": 0,
              "ticks": ""
             }
            },
            "type": "scatter"
           }
          ],
          "scatter3d": [
           {
            "line": {
             "colorbar": {
              "outlinewidth": 0,
              "ticks": ""
             }
            },
            "marker": {
             "colorbar": {
              "outlinewidth": 0,
              "ticks": ""
             }
            },
            "type": "scatter3d"
           }
          ],
          "scattercarpet": [
           {
            "marker": {
             "colorbar": {
              "outlinewidth": 0,
              "ticks": ""
             }
            },
            "type": "scattercarpet"
           }
          ],
          "scattergeo": [
           {
            "marker": {
             "colorbar": {
              "outlinewidth": 0,
              "ticks": ""
             }
            },
            "type": "scattergeo"
           }
          ],
          "scattergl": [
           {
            "marker": {
             "colorbar": {
              "outlinewidth": 0,
              "ticks": ""
             }
            },
            "type": "scattergl"
           }
          ],
          "scattermapbox": [
           {
            "marker": {
             "colorbar": {
              "outlinewidth": 0,
              "ticks": ""
             }
            },
            "type": "scattermapbox"
           }
          ],
          "scatterpolar": [
           {
            "marker": {
             "colorbar": {
              "outlinewidth": 0,
              "ticks": ""
             }
            },
            "type": "scatterpolar"
           }
          ],
          "scatterpolargl": [
           {
            "marker": {
             "colorbar": {
              "outlinewidth": 0,
              "ticks": ""
             }
            },
            "type": "scatterpolargl"
           }
          ],
          "scatterternary": [
           {
            "marker": {
             "colorbar": {
              "outlinewidth": 0,
              "ticks": ""
             }
            },
            "type": "scatterternary"
           }
          ],
          "surface": [
           {
            "colorbar": {
             "outlinewidth": 0,
             "ticks": ""
            },
            "colorscale": [
             [
              0,
              "#0d0887"
             ],
             [
              0.1111111111111111,
              "#46039f"
             ],
             [
              0.2222222222222222,
              "#7201a8"
             ],
             [
              0.3333333333333333,
              "#9c179e"
             ],
             [
              0.4444444444444444,
              "#bd3786"
             ],
             [
              0.5555555555555556,
              "#d8576b"
             ],
             [
              0.6666666666666666,
              "#ed7953"
             ],
             [
              0.7777777777777778,
              "#fb9f3a"
             ],
             [
              0.8888888888888888,
              "#fdca26"
             ],
             [
              1,
              "#f0f921"
             ]
            ],
            "type": "surface"
           }
          ],
          "table": [
           {
            "cells": {
             "fill": {
              "color": "#EBF0F8"
             },
             "line": {
              "color": "white"
             }
            },
            "header": {
             "fill": {
              "color": "#C8D4E3"
             },
             "line": {
              "color": "white"
             }
            },
            "type": "table"
           }
          ]
         },
         "layout": {
          "annotationdefaults": {
           "arrowcolor": "#2a3f5f",
           "arrowhead": 0,
           "arrowwidth": 1
          },
          "autotypenumbers": "strict",
          "coloraxis": {
           "colorbar": {
            "outlinewidth": 0,
            "ticks": ""
           }
          },
          "colorscale": {
           "diverging": [
            [
             0,
             "#8e0152"
            ],
            [
             0.1,
             "#c51b7d"
            ],
            [
             0.2,
             "#de77ae"
            ],
            [
             0.3,
             "#f1b6da"
            ],
            [
             0.4,
             "#fde0ef"
            ],
            [
             0.5,
             "#f7f7f7"
            ],
            [
             0.6,
             "#e6f5d0"
            ],
            [
             0.7,
             "#b8e186"
            ],
            [
             0.8,
             "#7fbc41"
            ],
            [
             0.9,
             "#4d9221"
            ],
            [
             1,
             "#276419"
            ]
           ],
           "sequential": [
            [
             0,
             "#0d0887"
            ],
            [
             0.1111111111111111,
             "#46039f"
            ],
            [
             0.2222222222222222,
             "#7201a8"
            ],
            [
             0.3333333333333333,
             "#9c179e"
            ],
            [
             0.4444444444444444,
             "#bd3786"
            ],
            [
             0.5555555555555556,
             "#d8576b"
            ],
            [
             0.6666666666666666,
             "#ed7953"
            ],
            [
             0.7777777777777778,
             "#fb9f3a"
            ],
            [
             0.8888888888888888,
             "#fdca26"
            ],
            [
             1,
             "#f0f921"
            ]
           ],
           "sequentialminus": [
            [
             0,
             "#0d0887"
            ],
            [
             0.1111111111111111,
             "#46039f"
            ],
            [
             0.2222222222222222,
             "#7201a8"
            ],
            [
             0.3333333333333333,
             "#9c179e"
            ],
            [
             0.4444444444444444,
             "#bd3786"
            ],
            [
             0.5555555555555556,
             "#d8576b"
            ],
            [
             0.6666666666666666,
             "#ed7953"
            ],
            [
             0.7777777777777778,
             "#fb9f3a"
            ],
            [
             0.8888888888888888,
             "#fdca26"
            ],
            [
             1,
             "#f0f921"
            ]
           ]
          },
          "colorway": [
           "#636efa",
           "#EF553B",
           "#00cc96",
           "#ab63fa",
           "#FFA15A",
           "#19d3f3",
           "#FF6692",
           "#B6E880",
           "#FF97FF",
           "#FECB52"
          ],
          "font": {
           "color": "#2a3f5f"
          },
          "geo": {
           "bgcolor": "white",
           "lakecolor": "white",
           "landcolor": "#E5ECF6",
           "showlakes": true,
           "showland": true,
           "subunitcolor": "white"
          },
          "hoverlabel": {
           "align": "left"
          },
          "hovermode": "closest",
          "mapbox": {
           "style": "light"
          },
          "paper_bgcolor": "white",
          "plot_bgcolor": "#E5ECF6",
          "polar": {
           "angularaxis": {
            "gridcolor": "white",
            "linecolor": "white",
            "ticks": ""
           },
           "bgcolor": "#E5ECF6",
           "radialaxis": {
            "gridcolor": "white",
            "linecolor": "white",
            "ticks": ""
           }
          },
          "scene": {
           "xaxis": {
            "backgroundcolor": "#E5ECF6",
            "gridcolor": "white",
            "gridwidth": 2,
            "linecolor": "white",
            "showbackground": true,
            "ticks": "",
            "zerolinecolor": "white"
           },
           "yaxis": {
            "backgroundcolor": "#E5ECF6",
            "gridcolor": "white",
            "gridwidth": 2,
            "linecolor": "white",
            "showbackground": true,
            "ticks": "",
            "zerolinecolor": "white"
           },
           "zaxis": {
            "backgroundcolor": "#E5ECF6",
            "gridcolor": "white",
            "gridwidth": 2,
            "linecolor": "white",
            "showbackground": true,
            "ticks": "",
            "zerolinecolor": "white"
           }
          },
          "shapedefaults": {
           "line": {
            "color": "#2a3f5f"
           }
          },
          "ternary": {
           "aaxis": {
            "gridcolor": "white",
            "linecolor": "white",
            "ticks": ""
           },
           "baxis": {
            "gridcolor": "white",
            "linecolor": "white",
            "ticks": ""
           },
           "bgcolor": "#E5ECF6",
           "caxis": {
            "gridcolor": "white",
            "linecolor": "white",
            "ticks": ""
           }
          },
          "title": {
           "x": 0.05
          },
          "xaxis": {
           "automargin": true,
           "gridcolor": "white",
           "linecolor": "white",
           "ticks": "",
           "title": {
            "standoff": 15
           },
           "zerolinecolor": "white",
           "zerolinewidth": 2
          },
          "yaxis": {
           "automargin": true,
           "gridcolor": "white",
           "linecolor": "white",
           "ticks": "",
           "title": {
            "standoff": 15
           },
           "zerolinecolor": "white",
           "zerolinewidth": 2
          }
         }
        },
        "title": {
         "font": {
          "size": 20
         },
         "text": "Stops Vs Service Area Population",
         "x": 0.5
        },
        "xaxis": {
         "anchor": "y",
         "domain": [
          0,
          1
         ],
         "title": {
          "text": "Population Density"
         }
        },
        "yaxis": {
         "anchor": "x",
         "domain": [
          0,
          1
         ],
         "title": {
          "text": "Stops"
         },
         "type": "log"
        }
       }
      }
     },
     "metadata": {},
     "output_type": "display_data"
    }
   ],
   "source": [
    "fig1 = px.scatter(merged_df, y='Stops', x='PopDensity', hover_data=['City','State'], \n",
    "                  log_y=True, labels = {'k_means': \"Groups\", 'PopDensity':'Population Density'},\n",
    "                  color=\"k_means\",  category_orders={\"k_means\": [0,3,2,1]},)\n",
    "fig1.update_layout(title_text='Stops Vs Service Area Population', title_x=0.5, title_font=dict(size=20))\n",
    "#fig1.update_traces(textposition='top right')\n",
    "newnames = {'0':'Less Population', '3': 'Normal Population','2':'Above Normal Population', '1': 'Dense Population'}\n",
    "fig1.for_each_trace(lambda t: t.update(name = newnames[t.name],\n",
    "                                      legendgroup = newnames[t.name],\n",
    "                                      hovertemplate = t.hovertemplate.replace(t.name, newnames[t.name])\n",
    "                                     )\n",
    "                  )\n",
    "fig1.update_layout(legend={'title_text':''})\n",
    "fig1.add_annotation(y=np.log10(merged_df[merged_df['City']=='Lindenwold']['Stops'].values[0]),\n",
    "                    x=merged_df[merged_df['City']=='Lindenwold']['PopDensity'].values[0],\n",
    "            text=\"Lindenwold\",\n",
    "            showarrow=True,\n",
    "            arrowhead=1)\n",
    "fig1.add_annotation(y=np.log10(merged_df[merged_df['City']=='Chicago']['Stops'].values[0]),\n",
    "                    x=merged_df[merged_df['City']=='Chicago']['PopDensity'].values[0],\n",
    "            text=\"Chicago\",\n",
    "            showarrow=True,\n",
    "            arrowhead=1)\n",
    "fig1.add_annotation(y=np.log10(merged_df[merged_df['City']=='New York']['Stops'].values[0]),\n",
    "                    x=merged_df[merged_df['City']=='New York']['PopDensity'].values[0],\n",
    "            text=\"New York\",\n",
    "            showarrow=True,\n",
    "            arrowhead=1)\n",
    "fig1.add_annotation(y=np.log10(merged_df[merged_df['City']=='Boston']['Stops'].values[0]),\n",
    "                    x=merged_df[merged_df['City']=='Boston']['PopDensity'].values[0],\n",
    "            text=\"Boston\",\n",
    "            showarrow=True,\n",
    "            arrowhead=1)\n",
    "fig1.add_annotation(y=np.log10(merged_df[merged_df['City']=='San Jose']['Stops'].values[0]),\n",
    "                    x=merged_df[merged_df['City']=='San Jose']['PopDensity'].values[0],\n",
    "            text=\"San Jose\",\n",
    "            showarrow=True,\n",
    "            arrowhead=1)\n",
    "fig1.add_annotation(y=np.log10(merged_df[merged_df['City']=='Norwalk']['Stops'].values[0]),\n",
    "                    x=merged_df[merged_df['City']=='Norwalk']['PopDensity'].values[0],\n",
    "            text=\"Norwalk\",\n",
    "            showarrow=True,\n",
    "            arrowhead=1)\n",
    "fig1.add_annotation(y=np.log10(merged_df[merged_df['City']=='Santa Monica']['Stops'].values[0]),\n",
    "                    x=merged_df[merged_df['City']=='Santa Monica']['PopDensity'].values[0],\n",
    "            text=\"Santa Monica\",\n",
    "            showarrow=True,\n",
    "            arrowhead=1)\n",
    "fig1.add_annotation(y=np.log10(merged_df[merged_df['City']=='Pompano Beach']['Stops'].values[0]),\n",
    "                    x=merged_df[merged_df['City']=='Pompano Beach']['PopDensity'].values[0],\n",
    "            text=\"Pompano Beach\",\n",
    "            showarrow=True,\n",
    "            arrowhead=1)\n",
    "fig1.add_annotation(y=np.log10(merged_df[merged_df['City']=='Gardena']['Stops'].values[0]),\n",
    "                    x=merged_df[merged_df['City']=='Gardena']['PopDensity'].values[0],\n",
    "            text=\"Gardena\",\n",
    "            showarrow=True,\n",
    "            arrowhead=1)\n",
    "fig1.add_annotation(y=np.log10(merged_df[merged_df['City']=='Culver City']['Stops'].values[0]),\n",
    "                    x=merged_df[merged_df['City']=='Culver City']['PopDensity'].values[0],\n",
    "            text=\"Culver City\",\n",
    "            showarrow=True,\n",
    "            arrowhead=1)\n",
    "\n",
    "fig1.add_annotation(y=np.log10(merged_df[merged_df['City']=='Miami']['Stops'].values[0]),\n",
    "                    x=merged_df[merged_df['City']=='Miami']['PopDensity'].values[0],\n",
    "            text=\"Miami\",\n",
    "            showarrow=True,\n",
    "            arrowhead=1)\n",
    "fig1.add_annotation(y=np.log10(merged_df[merged_df['City']=='Long Beach']['Stops'].values[0]),\n",
    "                    x=merged_df[merged_df['City']=='Long Beach']['PopDensity'].values[0],\n",
    "            text=\"Long Beach\",\n",
    "            showarrow=True,\n",
    "            arrowhead=1)\n",
    "fig1.add_annotation(y=np.log10(merged_df[merged_df['City']=='Arlington']['Stops'].values[0]),\n",
    "                    x=merged_df[merged_df['City']=='Arlington']['PopDensity'].values[0],\n",
    "            text=\"Arlington\",\n",
    "            showarrow=True,\n",
    "            arrowhead=1)\n",
    "fig1.update_layout(legend=dict(\n",
    "    orientation=\"h\",\n",
    "    yanchor=\"bottom\",\n",
    "    y=1.02,\n",
    "    xanchor=\"right\",\n",
    "    x=1\n",
    "))\n",
    "\n",
    "fig1.show()"
   ]
  }
 ],
 "metadata": {
  "interpreter": {
   "hash": "9460b1650c097cc2344865d45b8daf785b2287a92f0e80f95c4e37d88f8cf263"
  },
  "kernelspec": {
   "display_name": "IST718_project",
   "language": "python",
   "name": "ist718_project"
  },
  "language_info": {
   "codemirror_mode": {
    "name": "ipython",
    "version": 3
   },
   "file_extension": ".py",
   "mimetype": "text/x-python",
   "name": "python",
   "nbconvert_exporter": "python",
   "pygments_lexer": "ipython3",
   "version": "3.9.12"
  },
  "orig_nbformat": 4,
  "vscode": {
   "interpreter": {
    "hash": "aee8b7b246df8f9039afb4144a1f6fd8d2ca17a180786b69acc140d282b71a49"
   }
  }
 },
 "nbformat": 4,
 "nbformat_minor": 2
}

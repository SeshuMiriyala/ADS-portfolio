{
 "cells": [
  {
   "cell_type": "code",
   "execution_count": null,
   "id": "0f75e251",
   "metadata": {},
   "outputs": [],
   "source": [
    "%matplotlib inline\n",
    "import pandas as pd\n",
    "from fbprophet import Prophet\n",
    "import timeit\n",
    "\n",
    "import matplotlib.pyplot as plt\n",
    "plt.style.use('fivethirtyeight')\n",
    "\n",
    "import numpy as np\n",
    "\n",
    "from statsmodels.tsa.stattools import adfuller\n",
    "from statsmodels.graphics.tsaplots import plot_acf\n",
    "from statsmodels.graphics.tsaplots import plot_pacf"
   ]
  },
  {
   "cell_type": "code",
   "execution_count": null,
   "id": "6894260f",
   "metadata": {},
   "outputs": [],
   "source": [
    "import io\n",
    "import pandas as pd\n",
    "from google.colab import files\n",
    "\n",
    "files = files.upload()\n",
    "\n",
    "data = pd.read_excel(io.BytesIO(files.get('UPT.xlsx')))\n",
    "\n",
    "print (data)"
   ]
  },
  {
   "cell_type": "code",
   "execution_count": null,
   "id": "ece22460",
   "metadata": {},
   "outputs": [],
   "source": [
    "# Group by NTD ID\n",
    "ntd = data.groupby('5 digit NTD ID').sum()\n",
    "ntd = ntd.drop(columns=['UZA'])\n",
    "ntd"
   ]
  },
  {
   "cell_type": "code",
   "execution_count": null,
   "id": "956af701",
   "metadata": {},
   "outputs": [],
   "source": [
    "## NewYork Dataframe\n",
    "\n",
    "newyork = data\n",
    "newyork = newyork.groupby('UZA').sum()\n",
    "newyork = newyork.drop(columns=['5 digit NTD ID'])\n",
    "newyork = newyork.reset_index().rename(index=str,columns={'index':'ds'})\n",
    "newyork = newyork[newyork['UZA']==1]\n",
    "newyork = newyork.T[1:]\n",
    "newyork = newyork.reset_index().rename(index=str,columns={'index':'ds','1':'y'})\n",
    "\n",
    "\n",
    "def date_convert(x):\n",
    "    return datetime.strptime(x,\"%b%y\")\n",
    "\n",
    "from datetime import datetime\n",
    "newyork['ds'] = newyork['ds'].apply(date_convert)"
   ]
  },
  {
   "cell_type": "code",
   "execution_count": null,
   "id": "474390ed",
   "metadata": {},
   "outputs": [],
   "source": [
    "## Seattle Dataframe\n",
    "\n",
    "seattle = data\n",
    "seattle = seattle.groupby('UZA').sum()\n",
    "seattle = seattle.drop(columns=['5 digit NTD ID'])\n",
    "seattle = seattle.reset_index().rename(index=str,columns={'index':'ds'})\n",
    "seattle = seattle[seattle['UZA']==14.0]\n",
    "seattle = seattle.T[1:]\n",
    "seattle = seattle.reset_index().rename(index=str,columns={'index':'ds','14':'y'})\n",
    "\n",
    "\n",
    "def date_convert(x):\n",
    "    return datetime.strptime(x,\"%b%y\")\n",
    "\n",
    "from datetime import datetime\n",
    "seattle['ds'] = seattle['ds'].apply(date_convert)"
   ]
  },
  {
   "cell_type": "code",
   "execution_count": null,
   "id": "710ba52a",
   "metadata": {},
   "outputs": [],
   "source": [
    "## Washington DC Dataframe\n",
    "\n",
    "dc = data\n",
    "dc = dc.groupby('UZA').sum()\n",
    "dc = dc.drop(columns=['5 digit NTD ID'])\n",
    "dc = dc.reset_index().rename(index=str,columns={'index':'ds'})\n",
    "dc = dc[dc['UZA']==14.0]\n",
    "dc = dc.T[1:]\n",
    "dc = dc.reset_index().rename(index=str,columns={'index':'ds','8':'y'})\n",
    "\n",
    "\n",
    "def date_convert(x):\n",
    "    return datetime.strptime(x,\"%b%y\")\n",
    "\n",
    "from datetime import datetime\n",
    "dc['ds'] = dc['ds'].apply(date_convert)"
   ]
  },
  {
   "cell_type": "code",
   "execution_count": null,
   "id": "34226111",
   "metadata": {},
   "outputs": [],
   "source": [
    "## Los Angeles Dataframe\n",
    "\n",
    "la = data\n",
    "la = la.groupby('UZA').sum()\n",
    "la = la.drop(columns=['5 digit NTD ID'])\n",
    "la = la.reset_index().rename(index=str,columns={'index':'ds'})\n",
    "la = la[la['UZA']==2]\n",
    "la = la.T[1:]\n",
    "la = la.reset_index().rename(index=str,columns={'index':'ds','2':'y'})\n",
    "\n",
    "\n",
    "def date_convert(x):\n",
    "    return datetime.strptime(x,\"%b%y\")\n",
    "\n",
    "from datetime import datetime\n",
    "la['ds'] = la['ds'].apply(date_convert)"
   ]
  },
  {
   "cell_type": "code",
   "execution_count": null,
   "id": "1ddeae19",
   "metadata": {},
   "outputs": [],
   "source": [
    "## SanFrancisco Dataframe\n",
    "\n",
    "sfo = data\n",
    "sfo = sfo.groupby('UZA').sum()\n",
    "sfo = sfo.drop(columns=['5 digit NTD ID'])\n",
    "sfo = sfo.reset_index().rename(index=str,columns={'index':'ds'})\n",
    "sfo = sfo[sfo['UZA']==2]\n",
    "sfo = sfo.T[1:]\n",
    "sfo = sfo.reset_index().rename(index=str,columns={'index':'ds','13':'y'})\n",
    "\n",
    "\n",
    "def date_convert(x):\n",
    "    return datetime.strptime(x,\"%b%y\")\n",
    "\n",
    "from datetime import datetime\n",
    "sfo['ds'] = sfo['ds'].apply(date_convert)"
   ]
  },
  {
   "cell_type": "code",
   "execution_count": null,
   "id": "52f73972",
   "metadata": {},
   "outputs": [],
   "source": [
    "## Master Dataframe\n",
    "master = ntd.T\n",
    "master = master.aggregate(func='sum',axis=1)\n",
    "master = master.reset_index().rename(index=str,columns={'index':'ds',0:'y'})\n",
    "master\n",
    "\n",
    "def date_convert(x):\n",
    "    return datetime.strptime(x,\"%b%y\")\n",
    "\n",
    "from datetime import datetime\n",
    "master['ds'] = master['ds'].apply(date_convert)\n",
    "master"
   ]
  },
  {
   "cell_type": "code",
   "execution_count": null,
   "id": "c052a31d",
   "metadata": {},
   "outputs": [],
   "source": [
    "precovid = master[['ds','y']][:-26]\n",
    "precovid"
   ]
  },
  {
   "cell_type": "code",
   "execution_count": null,
   "id": "d82353a2",
   "metadata": {},
   "outputs": [],
   "source": [
    "## Master trips plot\n",
    "ax = master.set_index('ds').plot(figsize=(12, 8))\n",
    "ax.set_ylabel('public transit trips')\n",
    "ax.set_xlabel('Date')\n",
    "plt.show()"
   ]
  },
  {
   "cell_type": "code",
   "execution_count": null,
   "id": "6046ec24",
   "metadata": {},
   "outputs": [],
   "source": [
    "# autocorrelation factor\n",
    "plot_acf(precovid['trips'], ax=plt.gca())\n",
    "plt.show()\n",
    "\n",
    "# partial autocorrelation factor\n",
    "plot_pacf(precovid['trips'], ax=plt.gca())\n",
    "plt.show"
   ]
  },
  {
   "cell_type": "code",
   "execution_count": null,
   "id": "cc6feadf",
   "metadata": {},
   "outputs": [],
   "source": [
    "result = adfuller(precovid['trips'], autolag='AIC')\n",
    "\n",
    "print('ADF Statistic: %f' % result[0])\n",
    "print('p-value: %f' % result[1])\n",
    "print('Critical Values:')\n",
    "for key, value in result[4].items():\n",
    "\tprint('\\t%s: %.3f' % (key, value))"
   ]
  },
  {
   "cell_type": "code",
   "execution_count": null,
   "id": "ed9d819e",
   "metadata": {},
   "outputs": [],
   "source": [
    "## New York trips Plot\n",
    "newyork_precovid = newyork[['ds','y']][:-26]\n",
    "newyork_precovid\n",
    "\n",
    "ax = newyork.set_index('ds').plot(figsize=(12, 8))\n",
    "ax.set_ylabel('newyork-Newark trips')\n",
    "ax.set_xlabel('Date')\n",
    "\n",
    "plt.show()"
   ]
  },
  {
   "cell_type": "code",
   "execution_count": null,
   "id": "84025819",
   "metadata": {},
   "outputs": [],
   "source": [
    "## Seattle trips Plot\n",
    "seattle_precovid = seattle[['ds','y']][:-26]\n",
    "seattle_precovid\n",
    "\n",
    "ax = seattle.set_index('ds').plot(figsize=(12, 8))\n",
    "ax.set_ylabel('seattlettle trips')\n",
    "ax.set_xlabel('Date')\n",
    "\n",
    "plt.show()"
   ]
  },
  {
   "cell_type": "code",
   "execution_count": null,
   "id": "8239728d",
   "metadata": {},
   "outputs": [],
   "source": [
    "## Washington DC trips plot\n",
    "dc_precovid = dc[['ds','y']][:-26]\n",
    "dc_precovid\n",
    "\n",
    "ax = dc.set_index('ds').plot(figsize=(12, 8))\n",
    "ax.set_ylabel('dclly trips')\n",
    "ax.set_xlabel('Date')\n",
    "\n",
    "plt.show()"
   ]
  },
  {
   "cell_type": "code",
   "execution_count": null,
   "id": "79f6319a",
   "metadata": {},
   "outputs": [],
   "source": [
    "## Los Angeles trips plot\n",
    "la_precovid = la[['ds','y']][:-26]\n",
    "la_precovid\n",
    "\n",
    "ax = la.set_index('ds').plot(figsize=(12, 8))\n",
    "ax.set_ylabel('la trips')\n",
    "ax.set_xlabel('Date')\n",
    "\n",
    "plt.show()"
   ]
  },
  {
   "cell_type": "code",
   "execution_count": null,
   "id": "5652cdba",
   "metadata": {},
   "outputs": [],
   "source": [
    "## SanFrancisco trips plot\n",
    "sfo_precovid = sfo[['ds','y']][:-26]\n",
    "sfo_precovid\n",
    "\n",
    "ax = sfo.set_index('ds').plot(figsize=(12, 8))\n",
    "ax.set_ylabel('SanFrancisco trips')\n",
    "ax.set_xlabel('Date')\n",
    "\n",
    "plt.show()"
   ]
  },
  {
   "cell_type": "code",
   "execution_count": null,
   "id": "cdebc9a1",
   "metadata": {},
   "outputs": [],
   "source": [
    "## master Prophet Model\n",
    "master_model = Prophet(interval_width=.95)\n",
    "master_model.fit(precovid)\n",
    "\n",
    "## Build out future dates for predictions\n",
    "future_dates = master_model.make_future_dataframe(periods=128, freq='W')\n",
    "\n",
    "# Use model to generate forecasts for future dates.\n",
    "forecast = master_model.predict(future_dates)\n",
    "print(forecast[['ds', 'trend','yhat', 'yhat_lower', 'yhat_upper']][-20:])\n",
    "master_model.plot(forecast,uncertainty=True)\n",
    "plt.show()\n",
    "\n",
    "plt.figure(figsize=(12,8))\n",
    "plt.plot(forecast['ds'],forecast['yhat'],color='tab:red')\n",
    "plt.plot(master['ds'],master['y'],color = 'b')\n",
    "plt.title('USA')\n",
    "plt.ylabel('Public Transportation Trips')\n",
    "plt.legend(['Predicted Ridership','Actual Ridership'])\n",
    "plt.show()"
   ]
  },
  {
   "cell_type": "code",
   "execution_count": null,
   "id": "68411dcf",
   "metadata": {},
   "outputs": [],
   "source": [
    "## New York Prophet Model\n",
    "newyork_model = Prophet(interval_width=.95)\n",
    "newyork_model.fit(newyork_precovid)\n",
    "\n",
    "## Build out future dates for predictions\n",
    "future_dates = newyork_model.make_future_dataframe(periods=128, freq='W')\n",
    "\n",
    "# Use model to generate forecasts for future dates.\n",
    "forecast = newyork_model.predict(future_dates)\n",
    "print(forecast[['ds', 'trend','yhat', 'yhat_lower', 'yhat_upper']][-20:])\n",
    "newyork_model.plot(forecast,uncertainty=True)\n",
    "plt.show()\n",
    "\n",
    "plt.figure(figsize=(12,8))\n",
    "plt.plot(forecast['ds'],forecast['yhat'],color='tab:red')\n",
    "plt.plot(newyork['ds'],newyork['y'],color = 'b')\n",
    "plt.title('New York')\n",
    "plt.ylabel('Public Transportation Trips')\n",
    "plt.legend(['Predicted Ridership','Actual Ridership'])\n",
    "plt.show()"
   ]
  },
  {
   "cell_type": "code",
   "execution_count": null,
   "id": "1b416755",
   "metadata": {},
   "outputs": [],
   "source": [
    "## Seattle Prophet Model\n",
    "seattle_model = Prophet(interval_width=.95)\n",
    "seattle_model.fit(seattle_precovid)\n",
    "\n",
    "## Build out future dates for predictions\n",
    "future_dates = seattle_model.make_future_dataframe(periods=128, freq='W')\n",
    "\n",
    "# Use model to generate forecasts for future dates.\n",
    "forecast = seattle_model.predict(future_dates)\n",
    "print(forecast[['ds', 'trend','yhat', 'yhat_lower', 'yhat_upper']][-20:])\n",
    "seattle_model.plot(forecast,uncertainty=True)\n",
    "plt.show()\n",
    "\n",
    "plt.figure(figsize=(12,8))\n",
    "plt.plot(forecast['ds'],forecast['yhat'],color='tab:red')\n",
    "plt.plot(seattle['ds'],seattle['y'],color = 'b')\n",
    "plt.title('seattle')\n",
    "plt.ylabel('Public Transportation Trips')\n",
    "plt.legend(['Predicted Ridership','Actual Ridership'])\n",
    "plt.show()"
   ]
  },
  {
   "cell_type": "code",
   "execution_count": null,
   "id": "8939f08c",
   "metadata": {},
   "outputs": [],
   "source": [
    "## Washington DC Prophet Model\n",
    "dc_model = Prophet(interval_width=.95)\n",
    "dc_model.fit(dc_precovid)\n",
    "\n",
    "## Build out future dates for predictions\n",
    "future_dates = dc_model.make_future_dataframe(periods=128, freq='W')\n",
    "\n",
    "# Use model to generate forecasts for future dates.\n",
    "forecast = dc_model.predict(future_dates)\n",
    "print(forecast[['ds', 'trend','yhat', 'yhat_lower', 'yhat_upper']][-20:])\n",
    "dc_model.plot(forecast,uncertainty=True)\n",
    "plt.show()\n",
    "\n",
    "plt.figure(figsize=(12,8))\n",
    "plt.plot(forecast['ds'],forecast['yhat'],color='tab:red')\n",
    "plt.plot(dc['ds'],dc['y'],color = 'b')\n",
    "plt.title('washington dc')\n",
    "plt.ylabel('Public Transportation Trips')\n",
    "plt.legend(['Predicted Ridership','Actual Ridership'])\n",
    "plt.show()"
   ]
  },
  {
   "cell_type": "code",
   "execution_count": null,
   "id": "cf8437b0",
   "metadata": {},
   "outputs": [],
   "source": [
    "## Los Angeles Prophet Model\n",
    "la_model = Prophet(interval_width=.95)\n",
    "la_model.fit(la_precovid)\n",
    "\n",
    "## Build out future dates for predictions\n",
    "future_dates = la_model.make_future_dataframe(periods=128, freq='W')\n",
    "\n",
    "# Use model to generate forecasts for future dates.\n",
    "forecast = la_model.predict(future_dates)\n",
    "print(forecast[['ds', 'trend','yhat', 'yhat_lower', 'yhat_upper']][-20:])\n",
    "la_model.plot(forecast,uncertainty=True)\n",
    "plt.show()\n",
    "\n",
    "plt.figure(figsize=(10,6))\n",
    "plt.plot(forecast['ds'],forecast['yhat'],color='tab:red')\n",
    "plt.plot(la['ds'],la['y'],color = 'b')\n",
    "plt.title('Los Angeles')\n",
    "plt.ylabel('Public Transportation Trips')\n",
    "plt.legend(['Predicted Ridership','Actual Ridership'])\n",
    "plt.show()"
   ]
  },
  {
   "cell_type": "code",
   "execution_count": null,
   "id": "651021aa",
   "metadata": {},
   "outputs": [],
   "source": [
    "## SanFrancisco Prophet Model\n",
    "sfo_model = Prophet(interval_width=.95)\n",
    "sfo_model.fit(sfo_precovid)\n",
    "\n",
    "## Build out future dates for predictions\n",
    "future_dates = sfo_model.make_future_dataframe(periods=128, freq='W')\n",
    "\n",
    "# Use model to generate forecasts for future dates.\n",
    "forecast = sfo_model.predict(future_dates)\n",
    "print(forecast[['ds', 'trend','yhat', 'yhat_lower', 'yhat_upper']][-20:])\n",
    "sfo_model.plot(forecast,uncertainty=True)\n",
    "plt.show()\n",
    "\n",
    "plt.figure(figsize=(10,6))\n",
    "plt.plot(forecast['ds'],forecast['yhat'],color='tab:red')\n",
    "plt.plot(sfo['ds'],sfo['y'],color = 'b')\n",
    "plt.title('SanFrancisco')\n",
    "plt.ylabel('Public Transportation Trips')\n",
    "plt.legend(['Predicted Ridership','Actual Ridership'])\n",
    "plt.show()"
   ]
  }
 ],
 "metadata": {
  "kernelspec": {
   "display_name": "Python 3",
   "language": "python",
   "name": "python3"
  },
  "language_info": {
   "codemirror_mode": {
    "name": "ipython",
    "version": 3
   },
   "file_extension": ".py",
   "mimetype": "text/x-python",
   "name": "python",
   "nbconvert_exporter": "python",
   "pygments_lexer": "ipython3",
   "version": "3.8.8"
  }
 },
 "nbformat": 4,
 "nbformat_minor": 5
}
